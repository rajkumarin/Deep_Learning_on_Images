{
 "cells": [
  {
   "cell_type": "markdown",
   "metadata": {},
   "source": [
    "# Assignment 3 &emsp;&emsp; ANLY535 &emsp;&emsp; Rajkumar Dhanapal"
   ]
  },
  {
   "cell_type": "markdown",
   "metadata": {},
   "source": [
    "## Code from Leacture"
   ]
  },
  {
   "cell_type": "code",
   "execution_count": 1,
   "metadata": {},
   "outputs": [],
   "source": [
    "import numpy as np"
   ]
  },
  {
   "cell_type": "code",
   "execution_count": 2,
   "metadata": {
    "scrolled": true
   },
   "outputs": [
    {
     "data": {
      "image/png": "[encoded data removed]",
      "text/plain": [
       "<Figure size 432x288 with 4 Axes>"
      ]
     },
     "metadata": {
      "needs_background": "light"
     },
     "output_type": "display_data"
    }
   ],
   "source": [
    "from tensorflow.keras.datasets import mnist\n",
    "import matplotlib.pyplot as plt\n",
    "# load (downloaded if needed) the MNIST dataset\n",
    "(X_train, y_train), (X_test, y_test) = mnist.load_data()\n",
    "# plot 4 images as gray scale\n",
    "plt.subplot(221)\n",
    "plt.imshow(X_train[0], cmap=plt.get_cmap('gray'))\n",
    "plt.subplot(222)\n",
    "plt.imshow(X_train[1], cmap=plt.get_cmap('gray'))\n",
    "plt.subplot(223)\n",
    "plt.imshow(X_train[2], cmap=plt.get_cmap('gray'))\n",
    "plt.subplot(224)\n",
    "plt.imshow(X_train[3], cmap=plt.get_cmap('gray'))\n",
    "# show the plot\n",
    "plt.show()\n"
   ]
  },
  {
   "cell_type": "code",
   "execution_count": 3,
   "metadata": {},
   "outputs": [],
   "source": [
    "# flatten 28*28 images to a 784 vector for each image\n",
    "num_pixels = X_train.shape[1] * X_train.shape[2]\n",
    "X_train = X_train.reshape(X_train.shape[0], num_pixels)\n",
    "X_test = X_test.reshape(X_test.shape[0], num_pixels)\n"
   ]
  },
  {
   "cell_type": "code",
   "execution_count": 4,
   "metadata": {},
   "outputs": [],
   "source": [
    "# normalize inputs from 0-255 to 0-1\n",
    "X_train = X_train / 255\n",
    "X_test = X_test / 255"
   ]
  },
  {
   "cell_type": "code",
   "execution_count": 5,
   "metadata": {},
   "outputs": [],
   "source": [
    "from keras.utils import np_utils\n",
    "# one hot encode outputs\n",
    "Y_test = y_test\n",
    "y_train = np_utils.to_categorical(y_train)\n",
    "y_test = np_utils.to_categorical(y_test)\n",
    "num_classes = y_test.shape[1]\n"
   ]
  },
  {
   "cell_type": "code",
   "execution_count": 6,
   "metadata": {},
   "outputs": [],
   "source": [
    "from tensorflow.keras.models import Sequential\n",
    "from tensorflow.keras.layers import Dense\n",
    "from tensorflow.keras import optimizers\n",
    "hidden_layer_nodes=50\n",
    "def baseline_model():\n",
    "    # create model\n",
    "    model = Sequential()\n",
    "    model.add(Dense(hidden_layer_nodes, input_dim=num_pixels, kernel_initializer='normal', activation='sigmoid'))\n",
    "    model.add(Dense(hidden_layer_nodes, kernel_initializer='normal', activation='sigmoid'))\n",
    "    model.add(Dense(num_classes, kernel_initializer='normal', activation='sigmoid'))\n",
    "    # Compile model\n",
    "    #sgd = optimizers.SGD(lr=0.0001, momentum=0.0, decay=0.0, nesterov=False)\n",
    "    #model.compile(loss='mean_squared_error', optimizer='adam', metrics=['accuracy'])\n",
    "    model.compile(loss='mean_squared_error', optimizer='sgd', metrics=['accuracy'])\n",
    "\n",
    "    return model\n",
    "\n"
   ]
  },
  {
   "cell_type": "code",
   "execution_count": 7,
   "metadata": {},
   "outputs": [
    {
     "name": "stdout",
     "output_type": "stream",
     "text": [
      "Epoch 1/10\n",
      "300/300 [==============================] - 0s 1ms/step - loss: 0.2018 - accuracy: 0.0987 - val_loss: 0.1573 - val_accuracy: 0.0980\n",
      "Epoch 2/10\n",
      "300/300 [==============================] - 0s 948us/step - loss: 0.1360 - accuracy: 0.0987 - val_loss: 0.1208 - val_accuracy: 0.0980\n",
      "Epoch 3/10\n",
      "300/300 [==============================] - 0s 932us/step - loss: 0.1127 - accuracy: 0.0987 - val_loss: 0.1065 - val_accuracy: 0.0980\n",
      "Epoch 4/10\n",
      "300/300 [==============================] - 0s 903us/step - loss: 0.1028 - accuracy: 0.0987 - val_loss: 0.0998 - val_accuracy: 0.0980\n",
      "Epoch 5/10\n",
      "300/300 [==============================] - 0s 935us/step - loss: 0.0979 - accuracy: 0.1227 - val_loss: 0.0963 - val_accuracy: 0.1142\n",
      "Epoch 6/10\n",
      "300/300 [==============================] - 0s 915us/step - loss: 0.0952 - accuracy: 0.1125 - val_loss: 0.0943 - val_accuracy: 0.1135\n",
      "Epoch 7/10\n",
      "300/300 [==============================] - 0s 915us/step - loss: 0.0936 - accuracy: 0.1124 - val_loss: 0.0930 - val_accuracy: 0.1135\n",
      "Epoch 8/10\n",
      "300/300 [==============================] - 0s 931us/step - loss: 0.0925 - accuracy: 0.1124 - val_loss: 0.0921 - val_accuracy: 0.1135\n",
      "Epoch 9/10\n",
      "300/300 [==============================] - 0s 1ms/step - loss: 0.0918 - accuracy: 0.1124 - val_loss: 0.0916 - val_accuracy: 0.1135\n",
      "Epoch 10/10\n",
      "300/300 [==============================] - 0s 920us/step - loss: 0.0914 - accuracy: 0.1124 - val_loss: 0.0912 - val_accuracy: 0.1135\n",
      "313/313 - 0s - loss: 0.0912 - accuracy: 0.1135\n",
      "Baseline Error: 88.65%\n",
      "Baseline Accuracy: 11.35%\n"
     ]
    }
   ],
   "source": [
    "model = baseline_model()\n",
    "# Fit the model\n",
    "nn_simple = model.fit(X_train, y_train, validation_data=(X_test, y_test), epochs=10, batch_size=200)\n",
    "# Final evaluation of the model\n",
    "scores = model.evaluate(X_test, y_test, verbose=2)\n",
    "print(\"Baseline Error: %.2f%%\" % (100-scores[1]*100))\n",
    "print(\"Baseline Accuracy: %.2f%%\" % (scores[1]*100))"
   ]
  },
  {
   "cell_type": "code",
   "execution_count": 8,
   "metadata": {},
   "outputs": [
    {
     "name": "stdout",
     "output_type": "stream",
     "text": [
      "313/313 - 0s - loss: 0.0912 - accuracy: 0.1135\n",
      "Baseline Error: 88.65%\n",
      "Baseline Accuracy: 11.35%\n"
     ]
    }
   ],
   "source": [
    "# Final evaluation of the model\n",
    "scores = model.evaluate(X_test, y_test, verbose=2)\n",
    "print(\"Baseline Error: %.2f%%\" % (100-scores[1]*100))\n",
    "print(\"Baseline Accuracy: %.2f%%\" % (scores[1]*100))"
   ]
  },
  {
   "cell_type": "code",
   "execution_count": 9,
   "metadata": {},
   "outputs": [
    {
     "data": {
      "image/png": "[encoded data removed]",
      "text/plain": [
       "<Figure size 432x288 with 2 Axes>"
      ]
     },
     "metadata": {
      "needs_background": "light"
     },
     "output_type": "display_data"
    }
   ],
   "source": [
    "plt.subplot(2,1,1)\n",
    "plt.plot(nn_simple.history['accuracy'])\n",
    "plt.plot(nn_simple.history['val_accuracy'])\n",
    "plt.title('model accuracy')\n",
    "plt.ylabel('accuracy')\n",
    "plt.xlabel('epoch')\n",
    "plt.legend(['train', 'test'], loc='lower right')\n",
    "\n",
    "plt.subplot(2,1,2)\n",
    "plt.plot(nn_simple.history['loss'])\n",
    "plt.plot(nn_simple.history['val_loss'])\n",
    "plt.title('model loss')\n",
    "plt.ylabel('loss')\n",
    "plt.xlabel('epoch')\n",
    "plt.legend(['train', 'test'], loc='upper right')\n",
    "\n",
    "plt.show()\n"
   ]
  },
  {
   "cell_type": "code",
   "execution_count": null,
   "metadata": {},
   "outputs": [],
   "source": [
    "    # reproduced just the code\n",
    "import numpy as np\n",
    "predicted_classes = model.predict_classes(X_test)\n",
    "\n",
    "    # see which we predicted correctly and which not\n",
    "correct_indices = np.nonzero(predicted_classes == Y_test)[0]\n",
    "incorrect_indices = np.nonzero(predicted_classes != Y_test)[0]\n",
    "print()\n",
    "print(len(correct_indices),\" classified correctly\")\n",
    "print(len(incorrect_indices),\" classified incorrectly\")\n",
    "\n",
    "    # adapt figure size to accomodate 18 subplots\n",
    "plt.rcParams['figure.figsize'] = (7,14)\n",
    "\n",
    "figure_evaluation = plt.figure()\n",
    "\n",
    "    # plot 9 correct predictions\n",
    "for i, correct in enumerate(correct_indices[:9]):\n",
    "    plt.subplot(6,3,i+1)\n",
    "    plt.imshow(X_test[correct].reshape(28,28), cmap='gray', interpolation='none')\n",
    "    plt.title(\n",
    "      \"Predicted: {}, Truth: {}\".format(predicted_classes[correct],\n",
    "                                        Y_test[correct]))\n",
    "    plt.xticks([])\n",
    "    plt.yticks([])\n",
    "\n",
    "    # plot 9 incorrect predictions\n",
    "for i, incorrect in enumerate(incorrect_indices[:9]):\n",
    "    plt.subplot(6,3,i+10)\n",
    "    plt.imshow(X_test[incorrect].reshape(28,28), cmap='gray', interpolation='none')\n",
    "    plt.title(\n",
    "      \"Predicted {}, Truth: {}\".format(predicted_classes[incorrect], \n",
    "                                       Y_test[incorrect]))\n",
    "    plt.xticks([])\n",
    "    plt.yticks([])\n",
    "\n",
    "figure_evaluation"
   ]
  },
  {
   "cell_type": "markdown",
   "metadata": {},
   "source": [
    "## Assignment "
   ]
  },
  {
   "cell_type": "code",
   "execution_count": 11,
   "metadata": {},
   "outputs": [
    {
     "name": "stdout",
     "output_type": "stream",
     "text": [
      "Epoch 1/10\n",
      "300/300 [==============================] - 0s 1ms/step - loss: 0.1736 - accuracy: 0.1040 - val_loss: 0.1359 - val_accuracy: 0.1027\n",
      "Epoch 2/10\n",
      "300/300 [==============================] - 0s 1ms/step - loss: 0.1203 - accuracy: 0.1006 - val_loss: 0.1096 - val_accuracy: 0.1213\n",
      "Epoch 3/10\n",
      "300/300 [==============================] - 0s 1ms/step - loss: 0.1042 - accuracy: 0.1183 - val_loss: 0.1002 - val_accuracy: 0.1135\n",
      "Epoch 4/10\n",
      "300/300 [==============================] - 0s 1ms/step - loss: 0.0978 - accuracy: 0.1124 - val_loss: 0.0959 - val_accuracy: 0.1135\n",
      "Epoch 5/10\n",
      "300/300 [==============================] - 0s 1ms/step - loss: 0.0947 - accuracy: 0.1124 - val_loss: 0.0937 - val_accuracy: 0.1135\n",
      "Epoch 6/10\n",
      "300/300 [==============================] - 0s 1ms/step - loss: 0.0930 - accuracy: 0.1124 - val_loss: 0.0924 - val_accuracy: 0.1135\n",
      "Epoch 7/10\n",
      "300/300 [==============================] - 0s 1ms/step - loss: 0.0920 - accuracy: 0.1124 - val_loss: 0.0917 - val_accuracy: 0.1135\n",
      "Epoch 8/10\n",
      "300/300 [==============================] - 0s 1ms/step - loss: 0.0914 - accuracy: 0.1124 - val_loss: 0.0912 - val_accuracy: 0.1135\n",
      "Epoch 9/10\n",
      "300/300 [==============================] - 0s 1ms/step - loss: 0.0910 - accuracy: 0.1124 - val_loss: 0.0908 - val_accuracy: 0.1135\n",
      "Epoch 10/10\n",
      "300/300 [==============================] - 0s 1ms/step - loss: 0.0907 - accuracy: 0.1124 - val_loss: 0.0906 - val_accuracy: 0.1135\n",
      "313/313 - 0s - loss: 0.0906 - accuracy: 0.1135\n",
      "Accuracy of Model 1 is 11.35% compared to the Baseline Accuracy of 11.35%. It improved by 0.00%\n"
     ]
    }
   ],
   "source": [
    "#Change the number of neurons in hidden layers to 65. See the accuracy and compared it to the baseline.\n",
    "hidden_layer_nodes=65\n",
    "def model_1():\n",
    "    # create model\n",
    "    model = Sequential()\n",
    "    model.add(Dense(hidden_layer_nodes, input_dim=num_pixels, kernel_initializer='normal', activation='sigmoid'))\n",
    "    model.add(Dense(hidden_layer_nodes, kernel_initializer='normal', activation='sigmoid'))\n",
    "    model.add(Dense(num_classes, kernel_initializer='normal', activation='sigmoid'))\n",
    "    # Compile model\n",
    "    #sgd = optimizers.SGD(lr=0.0001, momentum=0.0, decay=0.0, nesterov=False)\n",
    "    #model.compile(loss='mean_squared_error', optimizer='adam', metrics=['accuracy'])\n",
    "    model.compile(loss='mean_squared_error', optimizer='sgd', metrics=['accuracy'])\n",
    "    return model\n",
    "\n",
    "model = model_1()\n",
    "# Fit the model\n",
    "nn_1 = model.fit(X_train, y_train, validation_data=(X_test, y_test), epochs=10, batch_size=200)\n",
    "# Final evaluation of the model\n",
    "scores_1 = model.evaluate(X_test, y_test, verbose=2)\n",
    "print(\"Accuracy of Model 1 is %.2f%% compared to the Baseline Accuracy of %.2f%%. It improved by %.2f%%\" % (scores_1[1]*100,scores[1]*100,scores_1[1]*100-scores[1]*100 ))"
   ]
  },
  {
   "cell_type": "code",
   "execution_count": 12,
   "metadata": {},
   "outputs": [
    {
     "name": "stdout",
     "output_type": "stream",
     "text": [
      "Epoch 1/30\n",
      "300/300 [==============================] - 0s 1ms/step - loss: 0.1956 - accuracy: 0.0993 - val_loss: 0.1533 - val_accuracy: 0.1032\n",
      "Epoch 2/30\n",
      "300/300 [==============================] - 0s 964us/step - loss: 0.1334 - accuracy: 0.0993 - val_loss: 0.1190 - val_accuracy: 0.1032\n",
      "Epoch 3/30\n",
      "300/300 [==============================] - 0s 1ms/step - loss: 0.1114 - accuracy: 0.0993 - val_loss: 0.1056 - val_accuracy: 0.1032\n",
      "Epoch 4/30\n",
      "300/300 [==============================] - 0s 1ms/step - loss: 0.1022 - accuracy: 0.0974 - val_loss: 0.0994 - val_accuracy: 0.0950\n",
      "Epoch 5/30\n",
      "300/300 [==============================] - 0s 926us/step - loss: 0.0975 - accuracy: 0.0766 - val_loss: 0.0960 - val_accuracy: 0.0943\n",
      "Epoch 6/30\n",
      "300/300 [==============================] - 0s 1ms/step - loss: 0.0950 - accuracy: 0.1151 - val_loss: 0.0941 - val_accuracy: 0.1137\n",
      "Epoch 7/30\n",
      "300/300 [==============================] - 0s 1ms/step - loss: 0.0934 - accuracy: 0.1124 - val_loss: 0.0929 - val_accuracy: 0.1135\n",
      "Epoch 8/30\n",
      "300/300 [==============================] - 0s 1ms/step - loss: 0.0924 - accuracy: 0.1124 - val_loss: 0.0921 - val_accuracy: 0.1135\n",
      "Epoch 9/30\n",
      "300/300 [==============================] - 0s 959us/step - loss: 0.0918 - accuracy: 0.1124 - val_loss: 0.0915 - val_accuracy: 0.1135\n",
      "Epoch 10/30\n",
      "300/300 [==============================] - 0s 960us/step - loss: 0.0913 - accuracy: 0.1124 - val_loss: 0.0911 - val_accuracy: 0.1135\n",
      "Epoch 11/30\n",
      "300/300 [==============================] - 0s 1ms/step - loss: 0.0910 - accuracy: 0.1124 - val_loss: 0.0909 - val_accuracy: 0.1135\n",
      "Epoch 12/30\n",
      "300/300 [==============================] - 0s 957us/step - loss: 0.0908 - accuracy: 0.1124 - val_loss: 0.0907 - val_accuracy: 0.1135\n",
      "Epoch 13/30\n",
      "300/300 [==============================] - 0s 1ms/step - loss: 0.0906 - accuracy: 0.1124 - val_loss: 0.0905 - val_accuracy: 0.1135\n",
      "Epoch 14/30\n",
      "300/300 [==============================] - 0s 1ms/step - loss: 0.0905 - accuracy: 0.1124 - val_loss: 0.0904 - val_accuracy: 0.1135\n",
      "Epoch 15/30\n",
      "300/300 [==============================] - 0s 926us/step - loss: 0.0904 - accuracy: 0.1124 - val_loss: 0.0903 - val_accuracy: 0.1135\n",
      "Epoch 16/30\n",
      "300/300 [==============================] - 0s 943us/step - loss: 0.0903 - accuracy: 0.1124 - val_loss: 0.0902 - val_accuracy: 0.1135\n",
      "Epoch 17/30\n",
      "300/300 [==============================] - 0s 933us/step - loss: 0.0902 - accuracy: 0.1124 - val_loss: 0.0902 - val_accuracy: 0.1135\n",
      "Epoch 18/30\n",
      "300/300 [==============================] - 0s 943us/step - loss: 0.0902 - accuracy: 0.1124 - val_loss: 0.0901 - val_accuracy: 0.1135\n",
      "Epoch 19/30\n",
      "300/300 [==============================] - 0s 1ms/step - loss: 0.0901 - accuracy: 0.1124 - val_loss: 0.0901 - val_accuracy: 0.1135\n",
      "Epoch 20/30\n",
      "300/300 [==============================] - 0s 949us/step - loss: 0.0901 - accuracy: 0.1124 - val_loss: 0.0901 - val_accuracy: 0.1135\n",
      "Epoch 21/30\n",
      "300/300 [==============================] - 0s 947us/step - loss: 0.0901 - accuracy: 0.1124 - val_loss: 0.0901 - val_accuracy: 0.1135\n",
      "Epoch 22/30\n",
      "300/300 [==============================] - 0s 975us/step - loss: 0.0901 - accuracy: 0.1124 - val_loss: 0.0900 - val_accuracy: 0.1135\n",
      "Epoch 23/30\n",
      "300/300 [==============================] - 0s 948us/step - loss: 0.0900 - accuracy: 0.1124 - val_loss: 0.0900 - val_accuracy: 0.1135\n",
      "Epoch 24/30\n",
      "300/300 [==============================] - 0s 926us/step - loss: 0.0900 - accuracy: 0.1124 - val_loss: 0.0900 - val_accuracy: 0.1135\n",
      "Epoch 25/30\n",
      "300/300 [==============================] - 0s 928us/step - loss: 0.0900 - accuracy: 0.1124 - val_loss: 0.0900 - val_accuracy: 0.1135\n",
      "Epoch 26/30\n",
      "300/300 [==============================] - 0s 953us/step - loss: 0.0900 - accuracy: 0.1124 - val_loss: 0.0900 - val_accuracy: 0.1135\n",
      "Epoch 27/30\n",
      "300/300 [==============================] - 0s 927us/step - loss: 0.0900 - accuracy: 0.1124 - val_loss: 0.0900 - val_accuracy: 0.1135\n",
      "Epoch 28/30\n",
      "300/300 [==============================] - 0s 973us/step - loss: 0.0900 - accuracy: 0.1124 - val_loss: 0.0900 - val_accuracy: 0.1135\n",
      "Epoch 29/30\n",
      "300/300 [==============================] - 0s 950us/step - loss: 0.0900 - accuracy: 0.1124 - val_loss: 0.0900 - val_accuracy: 0.1135\n",
      "Epoch 30/30\n",
      "300/300 [==============================] - 0s 935us/step - loss: 0.0900 - accuracy: 0.1124 - val_loss: 0.0900 - val_accuracy: 0.1135\n",
      "313/313 - 0s - loss: 0.0900 - accuracy: 0.1135\n",
      "Accuracy of Model 2 is 11.35% compared to the Baseline Accuracy of 11.35%. It improved by 0.00%\n"
     ]
    }
   ],
   "source": [
    "#Change the number of epochs to 30 and see if it has any effect (50 neurons)\n",
    "hidden_layer_nodes=50\n",
    "def model_2():\n",
    "    # create model\n",
    "    model = Sequential()\n",
    "    model.add(Dense(hidden_layer_nodes, input_dim=num_pixels, kernel_initializer='normal', activation='sigmoid'))\n",
    "    model.add(Dense(hidden_layer_nodes, kernel_initializer='normal', activation='sigmoid'))\n",
    "    model.add(Dense(num_classes, kernel_initializer='normal', activation='sigmoid'))\n",
    "    # Compile model\n",
    "    #sgd = optimizers.SGD(lr=0.0001, momentum=0.0, decay=0.0, nesterov=False)\n",
    "    #model.compile(loss='mean_squared_error', optimizer='adam', metrics=['accuracy'])\n",
    "    model.compile(loss='mean_squared_error', optimizer='sgd', metrics=['accuracy'])\n",
    "    return model\n",
    "\n",
    "model = model_2()\n",
    "# Fit the model\n",
    "nn_2 = model.fit(X_train, y_train, validation_data=(X_test, y_test), epochs=30, batch_size=200)\n",
    "# Final evaluation of the model\n",
    "scores_2 = model.evaluate(X_test, y_test, verbose=2)\n",
    "print(\"Accuracy of Model 2 is %.2f%% compared to the Baseline Accuracy of %.2f%%. It improved by %.2f%%\" % (scores_2[1]*100,scores[1]*100,scores_2[1]*100-scores[1]*100 ))"
   ]
  },
  {
   "cell_type": "code",
   "execution_count": 13,
   "metadata": {},
   "outputs": [
    {
     "name": "stdout",
     "output_type": "stream",
     "text": [
      "Epoch 1/10\n",
      "300/300 [==============================] - 0s 1ms/step - loss: 0.2148 - accuracy: 0.1124 - val_loss: 0.1891 - val_accuracy: 0.1135\n",
      "Epoch 2/10\n",
      "300/300 [==============================] - 0s 1ms/step - loss: 0.1704 - accuracy: 0.1124 - val_loss: 0.1542 - val_accuracy: 0.1135\n",
      "Epoch 3/10\n",
      "300/300 [==============================] - 0s 1000us/step - loss: 0.1426 - accuracy: 0.1124 - val_loss: 0.1325 - val_accuracy: 0.1135\n",
      "Epoch 4/10\n",
      "300/300 [==============================] - 0s 1ms/step - loss: 0.1252 - accuracy: 0.1124 - val_loss: 0.1189 - val_accuracy: 0.1135\n",
      "Epoch 5/10\n",
      "300/300 [==============================] - 0s 1ms/step - loss: 0.1143 - accuracy: 0.1124 - val_loss: 0.1102 - val_accuracy: 0.1135\n",
      "Epoch 6/10\n",
      "300/300 [==============================] - 0s 1ms/step - loss: 0.1072 - accuracy: 0.1124 - val_loss: 0.1046 - val_accuracy: 0.1135\n",
      "Epoch 7/10\n",
      "300/300 [==============================] - 0s 1ms/step - loss: 0.1025 - accuracy: 0.1124 - val_loss: 0.1007 - val_accuracy: 0.1135\n",
      "Epoch 8/10\n",
      "300/300 [==============================] - 0s 1ms/step - loss: 0.0993 - accuracy: 0.1124 - val_loss: 0.0981 - val_accuracy: 0.1135\n",
      "Epoch 9/10\n",
      "300/300 [==============================] - 0s 1ms/step - loss: 0.0971 - accuracy: 0.1124 - val_loss: 0.0962 - val_accuracy: 0.1135\n",
      "Epoch 10/10\n",
      "300/300 [==============================] - 0s 1ms/step - loss: 0.0955 - accuracy: 0.1124 - val_loss: 0.0948 - val_accuracy: 0.1135\n",
      "313/313 - 0s - loss: 0.0948 - accuracy: 0.1135\n",
      "Accuracy of Model 3 is 11.35% compared to the Baseline Accuracy of 11.35%. It improved by 0.00%\n"
     ]
    }
   ],
   "source": [
    "#Change the number of epochs to 30 and see if it has any effect (50 neurons)\n",
    "hidden_layer_nodes=50\n",
    "hidden_layer_3_nodes=20\n",
    "def model_3():\n",
    "    # create model\n",
    "    model = Sequential()\n",
    "    model.add(Dense(hidden_layer_nodes, input_dim=num_pixels, kernel_initializer='normal', activation='sigmoid'))\n",
    "    model.add(Dense(hidden_layer_nodes, kernel_initializer='normal', activation='sigmoid'))\n",
    "    model.add(Dense(hidden_layer_3_nodes, kernel_initializer='normal', activation='sigmoid'))\n",
    "    model.add(Dense(num_classes, kernel_initializer='normal', activation='sigmoid'))\n",
    "    # Compile model\n",
    "    #sgd = optimizers.SGD(lr=0.0001, momentum=0.0, decay=0.0, nesterov=False)\n",
    "    #model.compile(loss='mean_squared_error', optimizer='adam', metrics=['accuracy'])\n",
    "    model.compile(loss='mean_squared_error', optimizer='sgd', metrics=['accuracy'])\n",
    "    return model\n",
    "\n",
    "model = model_3()\n",
    "# Fit the model\n",
    "nn_3 = model.fit(X_train, y_train, validation_data=(X_test, y_test), epochs=10, batch_size=200)\n",
    "# Final evaluation of the model\n",
    "scores_3 = model.evaluate(X_test, y_test, verbose=2)\n",
    "print(\"Accuracy of Model 3 is %.2f%% compared to the Baseline Accuracy of %.2f%%. It improved by %.2f%%\" % (scores_3[1]*100,scores[1]*100,scores_3[1]*100-scores[1]*100 ))"
   ]
  },
  {
   "cell_type": "code",
   "execution_count": 14,
   "metadata": {},
   "outputs": [
    {
     "data": {
      "image/png": "[encoded data removed]",
      "text/plain": [
       "<Figure size 576x360 with 1 Axes>"
      ]
     },
     "metadata": {
      "needs_background": "light"
     },
     "output_type": "display_data"
    }
   ],
   "source": [
    "plt.rcParams[\"figure.figsize\"] = (8,5)\n",
    "plt.plot(nn_simple.history['val_accuracy'])\n",
    "plt.plot(nn_1.history['val_accuracy'])\n",
    "plt.plot(nn_2.history['val_accuracy'])\n",
    "plt.plot(nn_3.history['val_accuracy'])\n",
    "plt.title('model accuracy')\n",
    "plt.ylabel('accuracy')\n",
    "plt.xlabel('epoch')\n",
    "plt.legend(['Baseline', 'Model_1 (65 nodes)','Model_2 (30 epoch)','Model_3 (3 hidden)'], loc='lower right')\n",
    "plt.show()"
   ]
  },
  {
   "cell_type": "code",
   "execution_count": null,
   "metadata": {},
   "outputs": [],
   "source": []
  }
 ],
 "metadata": {
  "kernelspec": {
   "display_name": "Python 3",
   "language": "python",
   "name": "python3"
  },
  "language_info": {
   "codemirror_mode": {
    "name": "ipython",
    "version": 3
   },
   "file_extension": ".py",
   "mimetype": "text/x-python",
   "name": "python",
   "nbconvert_exporter": "python",
   "pygments_lexer": "ipython3",
   "version": "3.8.5"
  }
 },
 "nbformat": 4,
 "nbformat_minor": 2
}
