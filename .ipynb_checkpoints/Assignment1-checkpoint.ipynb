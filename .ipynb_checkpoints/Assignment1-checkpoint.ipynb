{
 "cells": [
  {
   "cell_type": "code",
   "execution_count": 12,
   "metadata": {},
   "outputs": [],
   "source": [
    "import numpy as np"
   ]
  },
  {
   "cell_type": "code",
   "execution_count": 13,
   "metadata": {},
   "outputs": [],
   "source": [
    "# W1 is  2x4\n",
    "# For first layer Z=4x1, W= 2x4, x= 2x1, b=4x1\n",
    "np.random.seed(seed= 289)\n",
    "x = np.array([[0.2], [0.4]])\n",
    "W1 = np.random.rand(2,4)\n",
    "b1= np.random.rand(4,1)        # You find the value of b1"
   ]
  },
  {
   "cell_type": "markdown",
   "metadata": {},
   "source": [
    "$ Z^{(1)}_{4\\times1} = W^{(1) T}_{2\\times4}\\cdot x^{(0)}_{2\\times1} + b^{(1)}_{4\\times1} $"
   ]
  },
  {
   "cell_type": "code",
   "execution_count": 14,
   "metadata": {},
   "outputs": [
    {
     "data": {
      "text/plain": [
       "array([[0.13835837],\n",
       "       [0.5597355 ],\n",
       "       [0.48966863],\n",
       "       [0.61544854]])"
      ]
     },
     "execution_count": 14,
     "metadata": {},
     "output_type": "execute_result"
    }
   ],
   "source": [
    "b1"
   ]
  },
  {
   "cell_type": "code",
   "execution_count": 15,
   "metadata": {},
   "outputs": [],
   "source": [
    "z1 = np.dot(np.transpose(W1),x)+b1  # Complete this section\n",
    "a1 = 1/(1+np.exp(-z1))"
   ]
  },
  {
   "cell_type": "code",
   "execution_count": 16,
   "metadata": {},
   "outputs": [
    {
     "data": {
      "text/plain": [
       "array([[0.65453058],\n",
       "       [0.69990301],\n",
       "       [0.66645135],\n",
       "       [0.71671845]])"
      ]
     },
     "execution_count": 16,
     "metadata": {},
     "output_type": "execute_result"
    }
   ],
   "source": [
    "a1"
   ]
  },
  {
   "cell_type": "markdown",
   "metadata": {},
   "source": [
    "$ Z^{(2)}_{1\\times1} = W^{(2) T}_{4\\times1}\\cdot a^{(1)}_{4\\times1} + b^{(2)}_{1\\times1} $"
   ]
  },
  {
   "cell_type": "code",
   "execution_count": 17,
   "metadata": {},
   "outputs": [],
   "source": [
    "# W2 is 4x1\n",
    "# For second layer Z=1x1, W= 4x1, a= 4x1, b=1x1\n",
    "np.random.seed(seed=289)\n",
    "W2 = np.random.rand(4,1)\n",
    "b2 = np.random.rand(1,1)"
   ]
  },
  {
   "cell_type": "code",
   "execution_count": 18,
   "metadata": {},
   "outputs": [
    {
     "data": {
      "text/plain": [
       "array([[0.91391304]])"
      ]
     },
     "execution_count": 18,
     "metadata": {},
     "output_type": "execute_result"
    }
   ],
   "source": [
    "z2 = np.dot(np.transpose(W2),a1)+b2\n",
    "a2 = 1/(1+np.exp(-z2)) # y\n",
    "a2"
   ]
  },
  {
   "cell_type": "code",
   "execution_count": 19,
   "metadata": {},
   "outputs": [],
   "source": [
    "# what is your conclusion? \n",
    "# The output 0.9 > 0.5. For the sigmoid function this is approximated to y = 1"
   ]
  },
  {
   "cell_type": "markdown",
   "metadata": {},
   "source": [
    "There is a significant chance of flooding."
   ]
  }
 ],
 "metadata": {
  "kernelspec": {
   "display_name": "Python 3",
   "language": "python",
   "name": "python3"
  },
  "language_info": {
   "codemirror_mode": {
    "name": "ipython",
    "version": 3
   },
   "file_extension": ".py",
   "mimetype": "text/x-python",
   "name": "python",
   "nbconvert_exporter": "python",
   "pygments_lexer": "ipython3",
   "version": "3.8.5"
  }
 },
 "nbformat": 4,
 "nbformat_minor": 2
}
