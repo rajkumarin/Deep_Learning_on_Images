{
 "cells": [
  {
   "cell_type": "code",
   "execution_count": null,
   "metadata": {},
   "outputs": [],
   "source": [
    "!pip install split-folders\n",
    "import splitfolders\n",
    "import os\n",
    "\n",
    "input_folder = r\"C:/Users/Kowshik Kumar B/Documents/HU/699/Project/COVID-19_Radiography_Dataset\"\n",
    "output = r\"C:/Users/Kowshik Kumar B/Documents/HU/699/Project/COVID19_Dataset\"\n",
    "\n",
    "splitfolders.ratio('input_folder', output=\"output\", seed=42, ratio=(.8, .2))"
   ]
  }
 ],
 "metadata": {
  "kernelspec": {
   "display_name": "Python 3",
   "language": "python",
   "name": "python3"
  },
  "language_info": {
   "codemirror_mode": {
    "name": "ipython",
    "version": 3
   },
   "file_extension": ".py",
   "mimetype": "text/x-python",
   "name": "python",
   "nbconvert_exporter": "python",
   "pygments_lexer": "ipython3",
   "version": "3.8.5"
  }
 },
 "nbformat": 4,
 "nbformat_minor": 4
}
