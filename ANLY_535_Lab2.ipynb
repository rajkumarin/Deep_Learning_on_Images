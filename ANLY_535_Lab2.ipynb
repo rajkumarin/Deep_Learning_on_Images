{
  "nbformat": 4,
  "nbformat_minor": 0,
  "metadata": {
    "colab": {
      "name": "ANLY-535_Lab2.ipynb",
      "provenance": [],
      "collapsed_sections": [],
      "authorship_tag": "ABX9TyPevVLYpx4z8dNEX+lgSp71",
      "include_colab_link": true
    },
    "kernelspec": {
      "name": "python3",
      "display_name": "Python 3"
    },
    "language_info": {
      "name": "python"
    },
    "accelerator": "GPU"
  },
  "cells": [
    {
      "cell_type": "markdown",
      "metadata": {
        "id": "view-in-github",
        "colab_type": "text"
      },
      "source": [
        "<a href=\"https://colab.research.google.com/github/rajkumarin/Deep_Learning_on_Images/blob/main/ANLY_535_Lab2.ipynb\" target=\"_parent\"><img src=\"https://colab.research.google.com/assets/colab-badge.svg\" alt=\"Open In Colab\"/></a>"
      ]
    },
    {
      "cell_type": "markdown",
      "metadata": {
        "id": "EFDJVLptk3PQ"
      },
      "source": [
        "#  <p style='text-align: center;'> **Lab2** &emsp; **ANLY 535** </p>"
      ]
    },
    {
      "cell_type": "markdown",
      "metadata": {
        "id": "2Ilarw_GlyYZ"
      },
      "source": [
        "| || Group| 4||||\n",
        "|:-----|------|------|------|:------|------|------:|\n",
        "| Ehtesham Akhlaq Malik   |         | Kowshik Kumar Bandameedipalli   |        |  Kushboo Shah |        | Rajkumar Dhanapal |"
      ]
    },
    {
      "cell_type": "markdown",
      "metadata": {
        "id": "8tBfXJ8SzNwL"
      },
      "source": [
        "# **STEP1. Introduction to GPU**"
      ]
    },
    {
      "cell_type": "code",
      "metadata": {
        "colab": {
          "base_uri": "https://localhost:8080/"
        },
        "id": "csYXtYUCNIwI",
        "outputId": "4e2b8a46-52ba-49d9-897f-51d8a9d43428"
      },
      "source": [
        "from tensorflow.python.client import device_lib\n",
        "print(\"Show System RAM Memory:\\n\\n\")\n",
        "!cat /proc/meminfo | egrep \"MemTotal*\"\n",
        "print(\"\\n\\nShow Devices:\\n\\n\"+str(device_lib.list_local_devices()))"
      ],
      "execution_count": 1,
      "outputs": [
        {
          "output_type": "stream",
          "text": [
            "Show System RAM Memory:\n",
            "\n",
            "\n",
            "MemTotal:       13305368 kB\n",
            "\n",
            "\n",
            "Show Devices:\n",
            "\n",
            "[name: \"/device:CPU:0\"\n",
            "device_type: \"CPU\"\n",
            "memory_limit: 268435456\n",
            "locality {\n",
            "}\n",
            "incarnation: 2196738836158716817\n",
            ", name: \"/device:GPU:0\"\n",
            "device_type: \"GPU\"\n",
            "memory_limit: 14509932544\n",
            "locality {\n",
            "  bus_id: 1\n",
            "  links {\n",
            "  }\n",
            "}\n",
            "incarnation: 15625443652206401653\n",
            "physical_device_desc: \"device: 0, name: Tesla T4, pci bus id: 0000:00:04.0, compute capability: 7.5\"\n",
            "]\n"
          ],
          "name": "stdout"
        }
      ]
    },
    {
      "cell_type": "code",
      "metadata": {
        "id": "CzDftmu-OqDa"
      },
      "source": [
        "import tensorflow as tf\n",
        "tf.__version__\n",
        "from tensorflow.keras.datasets import mnist\n",
        "from tensorflow.keras.models import Sequential\n",
        "from tensorflow.keras.layers import Dense, Dropout, Flatten\n",
        "from tensorflow.keras.layers import Conv2D, MaxPooling2D, Conv1D\n",
        "from tensorflow.keras import backend as K\n",
        "import numpy as np\n",
        "import matplotlib.pyplot as plt\n",
        "import pandas as pd\n",
        "from sklearn.feature_extraction.text import CountVectorizer\n",
        "from sklearn.model_selection import train_test_split\n",
        "from sklearn.linear_model import LogisticRegression\n",
        "from tensorflow.keras.models import Sequential\n",
        "from tensorflow.keras import layers"
      ],
      "execution_count": 2,
      "outputs": []
    },
    {
      "cell_type": "code",
      "metadata": {
        "colab": {
          "base_uri": "https://localhost:8080/"
        },
        "id": "CPkklP1MOsSp",
        "outputId": "2956b14a-4c8b-4f4c-82c4-cc1d5b9206cf"
      },
      "source": [
        "from google.colab import drive\n",
        "drive.mount('/content/gdrive')"
      ],
      "execution_count": 3,
      "outputs": [
        {
          "output_type": "stream",
          "text": [
            "Mounted at /content/gdrive\n"
          ],
          "name": "stdout"
        }
      ]
    },
    {
      "cell_type": "code",
      "metadata": {
        "colab": {
          "base_uri": "https://localhost:8080/"
        },
        "id": "jlB6k__vSefP",
        "outputId": "2e2d1421-dd75-4b38-8698-86e3f7b2d1c2"
      },
      "source": [
        "import time\n",
        "start = time.time()\n",
        "!python3 \"/content/gdrive/MyDrive/Colab Notebooks/mnist_cnn.py\"\n",
        "end = time.time()\n",
        "print(end - start)"
      ],
      "execution_count": null,
      "outputs": [
        {
          "output_type": "stream",
          "text": [
            "2021-07-01 15:43:55.631329: I tensorflow/stream_executor/platform/default/dso_loader.cc:53] Successfully opened dynamic library libcudart.so.11.0\n",
            "Downloading data from https://storage.googleapis.com/tensorflow/tf-keras-datasets/mnist.npz\n",
            "11493376/11490434 [==============================] - 0s 0us/step\n",
            "x_train shape: (60000, 28, 28, 1)\n",
            "60000 train samples\n",
            "10000 test samples\n",
            "2021-07-01 15:43:57.748668: I tensorflow/stream_executor/platform/default/dso_loader.cc:53] Successfully opened dynamic library libcuda.so.1\n",
            "2021-07-01 15:43:57.753756: I tensorflow/stream_executor/cuda/cuda_gpu_executor.cc:937] successful NUMA node read from SysFS had negative value (-1), but there must be at least one NUMA node, so returning NUMA node zero\n",
            "2021-07-01 15:43:57.754317: I tensorflow/core/common_runtime/gpu/gpu_device.cc:1733] Found device 0 with properties: \n",
            "pciBusID: 0000:00:04.0 name: Tesla T4 computeCapability: 7.5\n",
            "coreClock: 1.59GHz coreCount: 40 deviceMemorySize: 14.75GiB deviceMemoryBandwidth: 298.08GiB/s\n",
            "2021-07-01 15:43:57.754359: I tensorflow/stream_executor/platform/default/dso_loader.cc:53] Successfully opened dynamic library libcudart.so.11.0\n",
            "2021-07-01 15:43:57.756349: I tensorflow/stream_executor/platform/default/dso_loader.cc:53] Successfully opened dynamic library libcublas.so.11\n",
            "2021-07-01 15:43:57.756424: I tensorflow/stream_executor/platform/default/dso_loader.cc:53] Successfully opened dynamic library libcublasLt.so.11\n",
            "2021-07-01 15:43:57.758031: I tensorflow/stream_executor/platform/default/dso_loader.cc:53] Successfully opened dynamic library libcufft.so.10\n",
            "2021-07-01 15:43:57.758367: I tensorflow/stream_executor/platform/default/dso_loader.cc:53] Successfully opened dynamic library libcurand.so.10\n",
            "2021-07-01 15:43:57.759891: I tensorflow/stream_executor/platform/default/dso_loader.cc:53] Successfully opened dynamic library libcusolver.so.10\n",
            "2021-07-01 15:43:57.760345: I tensorflow/stream_executor/platform/default/dso_loader.cc:53] Successfully opened dynamic library libcusparse.so.11\n",
            "2021-07-01 15:43:57.760537: I tensorflow/stream_executor/platform/default/dso_loader.cc:53] Successfully opened dynamic library libcudnn.so.8\n",
            "2021-07-01 15:43:57.760624: I tensorflow/stream_executor/cuda/cuda_gpu_executor.cc:937] successful NUMA node read from SysFS had negative value (-1), but there must be at least one NUMA node, so returning NUMA node zero\n",
            "2021-07-01 15:43:57.761184: I tensorflow/stream_executor/cuda/cuda_gpu_executor.cc:937] successful NUMA node read from SysFS had negative value (-1), but there must be at least one NUMA node, so returning NUMA node zero\n",
            "2021-07-01 15:43:57.761700: I tensorflow/core/common_runtime/gpu/gpu_device.cc:1871] Adding visible gpu devices: 0\n",
            "2021-07-01 15:43:57.762170: I tensorflow/stream_executor/cuda/cuda_gpu_executor.cc:937] successful NUMA node read from SysFS had negative value (-1), but there must be at least one NUMA node, so returning NUMA node zero\n",
            "2021-07-01 15:43:57.762705: I tensorflow/core/common_runtime/gpu/gpu_device.cc:1733] Found device 0 with properties: \n",
            "pciBusID: 0000:00:04.0 name: Tesla T4 computeCapability: 7.5\n",
            "coreClock: 1.59GHz coreCount: 40 deviceMemorySize: 14.75GiB deviceMemoryBandwidth: 298.08GiB/s\n",
            "2021-07-01 15:43:57.762779: I tensorflow/stream_executor/cuda/cuda_gpu_executor.cc:937] successful NUMA node read from SysFS had negative value (-1), but there must be at least one NUMA node, so returning NUMA node zero\n",
            "2021-07-01 15:43:57.763306: I tensorflow/stream_executor/cuda/cuda_gpu_executor.cc:937] successful NUMA node read from SysFS had negative value (-1), but there must be at least one NUMA node, so returning NUMA node zero\n",
            "2021-07-01 15:43:57.763801: I tensorflow/core/common_runtime/gpu/gpu_device.cc:1871] Adding visible gpu devices: 0\n",
            "2021-07-01 15:43:57.763850: I tensorflow/stream_executor/platform/default/dso_loader.cc:53] Successfully opened dynamic library libcudart.so.11.0\n",
            "2021-07-01 15:43:58.385818: I tensorflow/core/common_runtime/gpu/gpu_device.cc:1258] Device interconnect StreamExecutor with strength 1 edge matrix:\n",
            "2021-07-01 15:43:58.385872: I tensorflow/core/common_runtime/gpu/gpu_device.cc:1264]      0 \n",
            "2021-07-01 15:43:58.385888: I tensorflow/core/common_runtime/gpu/gpu_device.cc:1277] 0:   N \n",
            "2021-07-01 15:43:58.386048: I tensorflow/stream_executor/cuda/cuda_gpu_executor.cc:937] successful NUMA node read from SysFS had negative value (-1), but there must be at least one NUMA node, so returning NUMA node zero\n",
            "2021-07-01 15:43:58.386686: I tensorflow/stream_executor/cuda/cuda_gpu_executor.cc:937] successful NUMA node read from SysFS had negative value (-1), but there must be at least one NUMA node, so returning NUMA node zero\n",
            "2021-07-01 15:43:58.387306: I tensorflow/stream_executor/cuda/cuda_gpu_executor.cc:937] successful NUMA node read from SysFS had negative value (-1), but there must be at least one NUMA node, so returning NUMA node zero\n",
            "2021-07-01 15:43:58.387892: W tensorflow/core/common_runtime/gpu/gpu_bfc_allocator.cc:39] Overriding allow_growth setting because the TF_FORCE_GPU_ALLOW_GROWTH environment variable is set. Original config value was 0.\n",
            "2021-07-01 15:43:58.387943: I tensorflow/core/common_runtime/gpu/gpu_device.cc:1418] Created TensorFlow device (/job:localhost/replica:0/task:0/device:GPU:0 with 13618 MB memory) -> physical GPU (device: 0, name: Tesla T4, pci bus id: 0000:00:04.0, compute capability: 7.5)\n",
            "2021-07-01 15:43:58.832097: I tensorflow/compiler/mlir/mlir_graph_optimization_pass.cc:176] None of the MLIR Optimization Passes are enabled (registered 2)\n",
            "2021-07-01 15:43:58.835320: I tensorflow/core/platform/profile_utils/cpu_utils.cc:114] CPU Frequency: 2199995000 Hz\n",
            "Epoch 1/12\n",
            "2021-07-01 15:43:59.501903: I tensorflow/stream_executor/platform/default/dso_loader.cc:53] Successfully opened dynamic library libcudnn.so.8\n",
            "2021-07-01 15:44:01.708066: I tensorflow/stream_executor/cuda/cuda_dnn.cc:359] Loaded cuDNN version 8004\n",
            "2021-07-01 15:44:25.940346: I tensorflow/stream_executor/platform/default/dso_loader.cc:53] Successfully opened dynamic library libcublas.so.11\n",
            "2021-07-01 15:44:28.465288: I tensorflow/stream_executor/platform/default/dso_loader.cc:53] Successfully opened dynamic library libcublasLt.so.11\n",
            "375/375 [==============================] - 35s 9ms/step - loss: 0.2740 - accuracy: 0.9163 - val_loss: 0.0764 - val_accuracy: 0.9770\n",
            "Epoch 2/12\n",
            "375/375 [==============================] - 3s 8ms/step - loss: 0.0967 - accuracy: 0.9721 - val_loss: 0.0493 - val_accuracy: 0.9858\n",
            "Epoch 3/12\n",
            "375/375 [==============================] - 3s 8ms/step - loss: 0.0738 - accuracy: 0.9771 - val_loss: 0.0440 - val_accuracy: 0.9877\n",
            "Epoch 4/12\n",
            "375/375 [==============================] - 3s 8ms/step - loss: 0.0585 - accuracy: 0.9820 - val_loss: 0.0456 - val_accuracy: 0.9860\n",
            "Epoch 5/12\n",
            "375/375 [==============================] - 3s 8ms/step - loss: 0.0486 - accuracy: 0.9848 - val_loss: 0.0458 - val_accuracy: 0.9878\n",
            "Epoch 6/12\n",
            "375/375 [==============================] - 3s 8ms/step - loss: 0.0436 - accuracy: 0.9862 - val_loss: 0.0397 - val_accuracy: 0.9893\n",
            "Epoch 7/12\n",
            "375/375 [==============================] - 3s 8ms/step - loss: 0.0370 - accuracy: 0.9880 - val_loss: 0.0381 - val_accuracy: 0.9893\n",
            "Epoch 8/12\n",
            "375/375 [==============================] - 3s 8ms/step - loss: 0.0341 - accuracy: 0.9890 - val_loss: 0.0427 - val_accuracy: 0.9893\n",
            "Epoch 9/12\n",
            "375/375 [==============================] - 3s 8ms/step - loss: 0.0306 - accuracy: 0.9900 - val_loss: 0.0439 - val_accuracy: 0.9894\n",
            "Epoch 10/12\n",
            "375/375 [==============================] - 3s 8ms/step - loss: 0.0298 - accuracy: 0.9899 - val_loss: 0.0390 - val_accuracy: 0.9901\n",
            "Epoch 11/12\n",
            "375/375 [==============================] - 3s 8ms/step - loss: 0.0252 - accuracy: 0.9918 - val_loss: 0.0364 - val_accuracy: 0.9912\n",
            "Epoch 12/12\n",
            "375/375 [==============================] - 3s 8ms/step - loss: 0.0243 - accuracy: 0.9918 - val_loss: 0.0401 - val_accuracy: 0.9905\n",
            "Test loss: 0.03141957148909569\n",
            "Test accuracy: 0.991100013256073\n",
            "89.39757537841797\n"
          ],
          "name": "stdout"
        }
      ]
    },
    {
      "cell_type": "markdown",
      "metadata": {
        "id": "mcICtzYuv41B"
      },
      "source": [
        "**Q1- A Keras code is provided for running hand written recognition on both GPU and CPU. Run the code on colab and your own machine and compare the results.**"
      ]
    },
    {
      "cell_type": "markdown",
      "metadata": {
        "id": "5kNSR3tgw6bj"
      },
      "source": [
        " - It took 89 seconds using a GPU while a CPU takes xxxxxx seconds"
      ]
    },
    {
      "cell_type": "markdown",
      "metadata": {
        "id": "mIteYb4OzCD1"
      },
      "source": [
        "# **STEP2. Implement handwritten recognition in Tensorflow using CNN**"
      ]
    },
    {
      "cell_type": "code",
      "metadata": {
        "id": "AomyB80VW6Ig"
      },
      "source": [
        "from tensorflow.keras.datasets import mnist\n",
        "from tensorflow.keras.models import Sequential\n",
        "from tensorflow.keras.layers import Dense, Dropout, Flatten\n",
        "from tensorflow.keras.layers import Conv2D, MaxPooling2D\n",
        "from tensorflow.keras import backend as K\n",
        "batch_size = 128\n",
        "num_classes = 10\n",
        "epochs = 12\n",
        "# input image dimensions\n",
        "img_rows, img_cols = 28, 28\n",
        "# the data, split between train and test sets\n",
        "(x_train, y_train), (x_test, y_test) = mnist.load_data()\n"
      ],
      "execution_count": null,
      "outputs": []
    },
    {
      "cell_type": "code",
      "metadata": {
        "id": "ONrNTuLJXeG7"
      },
      "source": [
        "if K.image_data_format() == 'channels_first':\n",
        " x_train = x_train.reshape(x_train.shape[0], 1, img_rows, img_cols)\n",
        " x_test = x_test.reshape(x_test.shape[0], 1, img_rows, img_cols)\n",
        " input_shape = (1, img_rows, img_cols)\n",
        "else:\n",
        " x_train = x_train.reshape(x_train.shape[0], img_rows, img_cols, 1)\n",
        " x_test = x_test.reshape(x_test.shape[0], img_rows, img_cols, 1)\n",
        " input_shape = (img_rows, img_cols, 1)"
      ],
      "execution_count": null,
      "outputs": []
    },
    {
      "cell_type": "code",
      "metadata": {
        "colab": {
          "base_uri": "https://localhost:8080/"
        },
        "id": "YWSSP2y2XlI3",
        "outputId": "fcaf8435-4d40-45a7-e2a4-578a52688d78"
      },
      "source": [
        "x_train = x_train.astype('float32')\n",
        "x_test = x_test.astype('float32')\n",
        "x_train /= 255\n",
        "x_test /= 255\n",
        "print('x_train shape:', x_train.shape)\n",
        "print(x_train.shape[0], 'train samples')\n",
        "print(x_test.shape[0], 'test samples')\n",
        "# convert class vectors to binary class matrices\n",
        "y_train = tf.keras.utils.to_categorical(y_train, num_classes)\n",
        "y_test = tf.keras.utils.to_categorical(y_test, num_classes)\n"
      ],
      "execution_count": null,
      "outputs": [
        {
          "output_type": "stream",
          "text": [
            "x_train shape: (60000, 28, 28, 1)\n",
            "60000 train samples\n",
            "10000 test samples\n"
          ],
          "name": "stdout"
        }
      ]
    },
    {
      "cell_type": "code",
      "metadata": {
        "id": "-DHxDYK8XwUC"
      },
      "source": [
        "model = Sequential()\n",
        "model.add(Conv2D(32, kernel_size=(3, 3),activation='relu',\n",
        "                  input_shape=input_shape))\n",
        "model.add(Conv2D(64, (3, 3), activation='relu'))\n",
        "model.add(MaxPooling2D(pool_size=(2, 2)))\n",
        "model.add(Dropout(0.25))\n",
        "model.add(Flatten())\n",
        "model.add(Dense(128, activation='relu'))\n",
        "model.add(Dropout(0.5))\n",
        "model.add(Dense(num_classes, activation='softmax'))"
      ],
      "execution_count": null,
      "outputs": []
    },
    {
      "cell_type": "markdown",
      "metadata": {
        "id": "J9bYaPTrzzyY"
      },
      "source": [
        "**Q2- Explain the way that this model is designed. Talk about all the layers and their functionality.**"
      ]
    },
    {
      "cell_type": "markdown",
      "metadata": {
        "id": "V9azdRV6z35q"
      },
      "source": [
        "- The model is a CNN\n",
        "- It has 2 convolutional layers\n",
        "- A pooling layer with 25% dropout\n",
        "- A flat NN with one hidden layer with 50% dropout and a output layer"
      ]
    },
    {
      "cell_type": "code",
      "metadata": {
        "colab": {
          "base_uri": "https://localhost:8080/"
        },
        "id": "WTa3Dem-X6T6",
        "outputId": "21ca2eb6-2a2c-4a80-e3e5-e3a1fec88e94"
      },
      "source": [
        "model.compile(loss='categorical_crossentropy',\n",
        "              optimizer='adam',\n",
        "              metrics=['accuracy'])\n",
        " \n",
        "final_model = model.fit(x_train, y_train,\n",
        "                        batch_size=batch_size,\n",
        "                        epochs=epochs,\n",
        "                        verbose=1,\n",
        "                        validation_split=0.2)\n",
        " \n",
        "score = model.evaluate(x_test, y_test, verbose=0)\n",
        "print('Test loss:', score[0])\n",
        "print('Test accuracy:', score[1])\n"
      ],
      "execution_count": null,
      "outputs": [
        {
          "output_type": "stream",
          "text": [
            "Epoch 1/12\n",
            "375/375 [==============================] - 35s 9ms/step - loss: 1.2379 - accuracy: 0.5840 - val_loss: 0.3597 - val_accuracy: 0.8989\n",
            "Epoch 2/12\n",
            "375/375 [==============================] - 3s 8ms/step - loss: 0.4872 - accuracy: 0.8486 - val_loss: 0.2728 - val_accuracy: 0.9175\n",
            "Epoch 3/12\n",
            "375/375 [==============================] - 3s 8ms/step - loss: 0.4177 - accuracy: 0.8706 - val_loss: 0.2248 - val_accuracy: 0.9335\n",
            "Epoch 4/12\n",
            "375/375 [==============================] - 3s 8ms/step - loss: 0.3856 - accuracy: 0.8807 - val_loss: 0.2104 - val_accuracy: 0.9396\n",
            "Epoch 5/12\n",
            "375/375 [==============================] - 3s 8ms/step - loss: 0.3626 - accuracy: 0.8882 - val_loss: 0.1931 - val_accuracy: 0.9427\n",
            "Epoch 6/12\n",
            "375/375 [==============================] - 3s 8ms/step - loss: 0.3505 - accuracy: 0.8921 - val_loss: 0.1883 - val_accuracy: 0.9431\n",
            "Epoch 7/12\n",
            "375/375 [==============================] - 3s 8ms/step - loss: 0.3371 - accuracy: 0.8957 - val_loss: 0.1778 - val_accuracy: 0.9454\n",
            "Epoch 8/12\n",
            "375/375 [==============================] - 3s 8ms/step - loss: 0.3194 - accuracy: 0.9012 - val_loss: 0.1657 - val_accuracy: 0.9507\n",
            "Epoch 9/12\n",
            "375/375 [==============================] - 3s 8ms/step - loss: 0.3182 - accuracy: 0.9013 - val_loss: 0.1604 - val_accuracy: 0.9538\n",
            "Epoch 10/12\n",
            "375/375 [==============================] - 3s 8ms/step - loss: 0.3046 - accuracy: 0.9051 - val_loss: 0.1574 - val_accuracy: 0.9534\n",
            "Epoch 11/12\n",
            "375/375 [==============================] - 3s 8ms/step - loss: 0.2985 - accuracy: 0.9089 - val_loss: 0.1537 - val_accuracy: 0.9558\n",
            "Epoch 12/12\n",
            "375/375 [==============================] - 3s 8ms/step - loss: 0.2935 - accuracy: 0.9087 - val_loss: 0.1454 - val_accuracy: 0.9578\n",
            "Test loss: 0.1413724422454834\n",
            "Test accuracy: 0.9569000005722046\n"
          ],
          "name": "stdout"
        }
      ]
    },
    {
      "cell_type": "code",
      "metadata": {
        "id": "oxM9jRc95Qcp",
        "colab": {
          "base_uri": "https://localhost:8080/",
          "height": 295
        },
        "outputId": "96436e9a-f6ee-4a87-ccee-46f8bb66d217"
      },
      "source": [
        "import numpy as np\n",
        "import matplotlib.pyplot as plt\n",
        "plt.subplot(2,1,1)\n",
        "plt.plot(final_model.history['accuracy'])\n",
        "plt.plot(final_model.history['val_accuracy'])\n",
        "plt.title('model accuracy')\n",
        "plt.ylabel('accuracy')\n",
        "plt.xticks([])\n",
        "plt.legend(['train', 'test'], loc='lower right')\n",
        "\n",
        "plt.subplot(2,1,2)\n",
        "plt.plot(final_model.history['loss'])\n",
        "plt.plot(final_model.history['val_loss'])\n",
        "plt.title('model loss')\n",
        "plt.ylabel('loss')\n",
        "plt.xlabel('epoch')\n",
        "plt.legend(['train', 'test'], loc='upper right')\n",
        "\n",
        "plt.show()"
      ],
      "execution_count": null,
      "outputs": [
        {
          "output_type": "display_data",
          "data": {
            "image/png": "[encoded data removed]",
            "text/plain": [
              "<Figure size 432x288 with 2 Axes>"
            ]
          },
          "metadata": {
            "tags": [],
            "needs_background": "light"
          }
        }
      ]
    },
    {
      "cell_type": "markdown",
      "metadata": {
        "id": "INBDugfm0-Za"
      },
      "source": [
        "**Q3- Design the learning curve and talk about what you see.**"
      ]
    },
    {
      "cell_type": "markdown",
      "metadata": {
        "id": "3gpSLnFk7a8m"
      },
      "source": [
        "- The test accuracy is grater than the training accuracy. This indicates some overfitting"
      ]
    },
    {
      "cell_type": "markdown",
      "metadata": {
        "id": "KOH97yFi1DjT"
      },
      "source": [
        "# **STEP3. Text mining using CNN**"
      ]
    },
    {
      "cell_type": "markdown",
      "metadata": {
        "id": "iV3tvpU01jde"
      },
      "source": [
        "## 3.1. Pre-Processing"
      ]
    },
    {
      "cell_type": "code",
      "metadata": {
        "id": "CyoS0Xp48hh6",
        "colab": {
          "base_uri": "https://localhost:8080/"
        },
        "outputId": "ee158195-fe80-46c8-a1ff-97c0c4b8175f"
      },
      "source": [
        "#example\n",
        "sentences = ['John likes ice cream', 'John hates chocolate.']\n",
        "from sklearn.feature_extraction.text import CountVectorizer\n",
        "vectorizer = CountVectorizer(min_df=0, lowercase=False)\n",
        "vectorizer.fit(sentences)\n",
        "vectorizer.vocabulary_"
      ],
      "execution_count": null,
      "outputs": [
        {
          "output_type": "execute_result",
          "data": {
            "text/plain": [
              "{'John': 0, 'chocolate': 1, 'cream': 2, 'hates': 3, 'ice': 4, 'likes': 5}"
            ]
          },
          "metadata": {
            "tags": []
          },
          "execution_count": 19
        }
      ]
    },
    {
      "cell_type": "code",
      "metadata": {
        "id": "LIMN9m628zM4",
        "colab": {
          "base_uri": "https://localhost:8080/"
        },
        "outputId": "f5bf0c9b-ab05-4ec3-a2e7-fa90ee73dd85"
      },
      "source": [
        "vectorizer.transform(sentences).toarray()"
      ],
      "execution_count": null,
      "outputs": [
        {
          "output_type": "execute_result",
          "data": {
            "text/plain": [
              "array([[1, 0, 1, 0, 1, 1],\n",
              "       [1, 1, 0, 1, 0, 0]])"
            ]
          },
          "metadata": {
            "tags": []
          },
          "execution_count": 20
        }
      ]
    },
    {
      "cell_type": "code",
      "metadata": {
        "id": "5476oAYp9AX0",
        "colab": {
          "base_uri": "https://localhost:8080/"
        },
        "outputId": "6c10f5df-2387-4e26-ed7f-65171050351e"
      },
      "source": [
        "#amazon_cells_labelled\n",
        "import pandas as pd\n",
        "#import data\n",
        "df = pd.read_csv('/content/gdrive/MyDrive/Colab Notebooks/amazon_cells_labelled.txt', names=[\n",
        "'sentence', 'label'], sep='\\t')   \n",
        "print(df.iloc[0])\n",
        "from sklearn.model_selection import train_test_split\n",
        "sentences = df['sentence'].values\n",
        "y = df['label'].values\n",
        "#split data\n",
        "sentences_train, sentences_test, y_train, y_test = train_test_split(sentences, y, test_size=0.25, random_state=1000)\n",
        "from sklearn.feature_extraction.text import CountVectorizer\n",
        "vectorizer = CountVectorizer()\n",
        "vectorizer.fit(sentences_train)\n",
        "#vectorise\n",
        "X_train = vectorizer.transform(sentences_train)\n",
        "X_test = vectorizer.transform(sentences_test)\n",
        "X_train\n",
        "#sample model Log.Reg\n",
        "from sklearn.linear_model import LogisticRegression\n",
        "classifier = LogisticRegression()\n",
        "classifier.fit(X_train, y_train)\n",
        "score = classifier.score(X_test, y_test)\n",
        "print(\"Accuracy:\", score) ##sample end\n",
        "#Convert Train Test set to array for NN models\n",
        "X_train = vectorizer.transform(sentences_train).toarray()\n",
        "X_test = vectorizer.transform(sentences_test).toarray()"
      ],
      "execution_count": 4,
      "outputs": [
        {
          "output_type": "stream",
          "text": [
            "sentence    So there is no way for me to plug it in here i...\n",
            "label                                                       0\n",
            "Name: 0, dtype: object\n",
            "Accuracy: 0.796\n"
          ],
          "name": "stdout"
        }
      ]
    },
    {
      "cell_type": "code",
      "metadata": {
        "id": "zOOK_AtP9SJG",
        "colab": {
          "base_uri": "https://localhost:8080/"
        },
        "outputId": "b9f47c21-fca7-416a-81f9-5a80da3eb7f6"
      },
      "source": [
        "#NN models on vectorized data in array form\n",
        "from tensorflow.keras.models import Sequential\n",
        "from tensorflow.keras import layers\n",
        "input_dim = X_train.shape[1] # Number of features\n",
        "model = Sequential()\n",
        "model.add(layers.Dense(10, input_dim=input_dim, activation='relu'))\n",
        "model.add(layers.Dense(1, activation='sigmoid'))\n",
        "model.compile(loss='binary_crossentropy', optimizer='adam',\n",
        "metrics=['accuracy'])\n",
        "final_model = model.fit(X_train, y_train, epochs=100, validation_split=0.2 ,\n",
        "batch_size=10)\n",
        "loss, accuracy = model.evaluate(X_test, y_test, verbose=False)\n",
        "print(\"Test Accuracy: \",accuracy*100)"
      ],
      "execution_count": null,
      "outputs": [
        {
          "output_type": "stream",
          "text": [
            "Epoch 1/100\n",
            "60/60 [==============================] - 3s 4ms/step - loss: 0.6855 - accuracy: 0.5983 - val_loss: 0.6685 - val_accuracy: 0.7533\n",
            "Epoch 2/100\n",
            "60/60 [==============================] - 0s 2ms/step - loss: 0.6398 - accuracy: 0.8250 - val_loss: 0.6329 - val_accuracy: 0.8533\n",
            "Epoch 3/100\n",
            "60/60 [==============================] - 0s 2ms/step - loss: 0.5682 - accuracy: 0.9183 - val_loss: 0.5872 - val_accuracy: 0.8400\n",
            "Epoch 4/100\n",
            "60/60 [==============================] - 0s 3ms/step - loss: 0.4785 - accuracy: 0.9467 - val_loss: 0.5340 - val_accuracy: 0.8667\n",
            "Epoch 5/100\n",
            "60/60 [==============================] - 0s 3ms/step - loss: 0.3902 - accuracy: 0.9567 - val_loss: 0.4932 - val_accuracy: 0.8467\n",
            "Epoch 6/100\n",
            "60/60 [==============================] - 0s 2ms/step - loss: 0.3143 - accuracy: 0.9717 - val_loss: 0.4585 - val_accuracy: 0.8467\n",
            "Epoch 7/100\n",
            "60/60 [==============================] - 0s 2ms/step - loss: 0.2522 - accuracy: 0.9817 - val_loss: 0.4362 - val_accuracy: 0.8467\n",
            "Epoch 8/100\n",
            "60/60 [==============================] - 0s 2ms/step - loss: 0.2051 - accuracy: 0.9900 - val_loss: 0.4206 - val_accuracy: 0.8533\n",
            "Epoch 9/100\n",
            "60/60 [==============================] - 0s 2ms/step - loss: 0.1677 - accuracy: 0.9917 - val_loss: 0.4062 - val_accuracy: 0.8667\n",
            "Epoch 10/100\n",
            "60/60 [==============================] - 0s 2ms/step - loss: 0.1393 - accuracy: 0.9950 - val_loss: 0.3978 - val_accuracy: 0.8667\n",
            "Epoch 11/100\n",
            "60/60 [==============================] - 0s 2ms/step - loss: 0.1166 - accuracy: 0.9933 - val_loss: 0.3936 - val_accuracy: 0.8667\n",
            "Epoch 12/100\n",
            "60/60 [==============================] - 0s 2ms/step - loss: 0.0987 - accuracy: 0.9950 - val_loss: 0.3875 - val_accuracy: 0.8600\n",
            "Epoch 13/100\n",
            "60/60 [==============================] - 0s 2ms/step - loss: 0.0841 - accuracy: 0.9967 - val_loss: 0.3848 - val_accuracy: 0.8667\n",
            "Epoch 14/100\n",
            "60/60 [==============================] - 0s 2ms/step - loss: 0.0722 - accuracy: 0.9983 - val_loss: 0.3849 - val_accuracy: 0.8600\n",
            "Epoch 15/100\n",
            "60/60 [==============================] - 0s 2ms/step - loss: 0.0626 - accuracy: 0.9983 - val_loss: 0.3850 - val_accuracy: 0.8600\n",
            "Epoch 16/100\n",
            "60/60 [==============================] - 0s 2ms/step - loss: 0.0545 - accuracy: 1.0000 - val_loss: 0.3837 - val_accuracy: 0.8533\n",
            "Epoch 17/100\n",
            "60/60 [==============================] - 0s 2ms/step - loss: 0.0477 - accuracy: 1.0000 - val_loss: 0.3858 - val_accuracy: 0.8600\n",
            "Epoch 18/100\n",
            "60/60 [==============================] - 0s 2ms/step - loss: 0.0420 - accuracy: 1.0000 - val_loss: 0.3881 - val_accuracy: 0.8533\n",
            "Epoch 19/100\n",
            "60/60 [==============================] - 0s 2ms/step - loss: 0.0374 - accuracy: 1.0000 - val_loss: 0.3900 - val_accuracy: 0.8533\n",
            "Epoch 20/100\n",
            "60/60 [==============================] - 0s 2ms/step - loss: 0.0332 - accuracy: 1.0000 - val_loss: 0.3886 - val_accuracy: 0.8533\n",
            "Epoch 21/100\n",
            "60/60 [==============================] - 0s 2ms/step - loss: 0.0296 - accuracy: 1.0000 - val_loss: 0.3923 - val_accuracy: 0.8400\n",
            "Epoch 22/100\n",
            "60/60 [==============================] - 0s 2ms/step - loss: 0.0265 - accuracy: 1.0000 - val_loss: 0.3939 - val_accuracy: 0.8467\n",
            "Epoch 23/100\n",
            "60/60 [==============================] - 0s 2ms/step - loss: 0.0240 - accuracy: 1.0000 - val_loss: 0.3958 - val_accuracy: 0.8400\n",
            "Epoch 24/100\n",
            "60/60 [==============================] - 0s 2ms/step - loss: 0.0217 - accuracy: 1.0000 - val_loss: 0.3976 - val_accuracy: 0.8467\n",
            "Epoch 25/100\n",
            "60/60 [==============================] - 0s 3ms/step - loss: 0.0197 - accuracy: 1.0000 - val_loss: 0.4020 - val_accuracy: 0.8467\n",
            "Epoch 26/100\n",
            "60/60 [==============================] - 0s 2ms/step - loss: 0.0179 - accuracy: 1.0000 - val_loss: 0.4033 - val_accuracy: 0.8467\n",
            "Epoch 27/100\n",
            "60/60 [==============================] - 0s 2ms/step - loss: 0.0164 - accuracy: 1.0000 - val_loss: 0.4062 - val_accuracy: 0.8400\n",
            "Epoch 28/100\n",
            "60/60 [==============================] - 0s 2ms/step - loss: 0.0150 - accuracy: 1.0000 - val_loss: 0.4080 - val_accuracy: 0.8400\n",
            "Epoch 29/100\n",
            "60/60 [==============================] - 0s 2ms/step - loss: 0.0138 - accuracy: 1.0000 - val_loss: 0.4102 - val_accuracy: 0.8333\n",
            "Epoch 30/100\n",
            "60/60 [==============================] - 0s 2ms/step - loss: 0.0127 - accuracy: 1.0000 - val_loss: 0.4131 - val_accuracy: 0.8333\n",
            "Epoch 31/100\n",
            "60/60 [==============================] - 0s 2ms/step - loss: 0.0117 - accuracy: 1.0000 - val_loss: 0.4154 - val_accuracy: 0.8400\n",
            "Epoch 32/100\n",
            "60/60 [==============================] - 0s 2ms/step - loss: 0.0108 - accuracy: 1.0000 - val_loss: 0.4178 - val_accuracy: 0.8333\n",
            "Epoch 33/100\n",
            "60/60 [==============================] - 0s 2ms/step - loss: 0.0100 - accuracy: 1.0000 - val_loss: 0.4208 - val_accuracy: 0.8267\n",
            "Epoch 34/100\n",
            "60/60 [==============================] - 0s 2ms/step - loss: 0.0093 - accuracy: 1.0000 - val_loss: 0.4229 - val_accuracy: 0.8267\n",
            "Epoch 35/100\n",
            "60/60 [==============================] - 0s 3ms/step - loss: 0.0086 - accuracy: 1.0000 - val_loss: 0.4260 - val_accuracy: 0.8333\n",
            "Epoch 36/100\n",
            "60/60 [==============================] - 0s 2ms/step - loss: 0.0080 - accuracy: 1.0000 - val_loss: 0.4280 - val_accuracy: 0.8333\n",
            "Epoch 37/100\n",
            "60/60 [==============================] - 0s 2ms/step - loss: 0.0075 - accuracy: 1.0000 - val_loss: 0.4299 - val_accuracy: 0.8267\n",
            "Epoch 38/100\n",
            "60/60 [==============================] - 0s 2ms/step - loss: 0.0070 - accuracy: 1.0000 - val_loss: 0.4325 - val_accuracy: 0.8267\n",
            "Epoch 39/100\n",
            "60/60 [==============================] - 0s 2ms/step - loss: 0.0065 - accuracy: 1.0000 - val_loss: 0.4346 - val_accuracy: 0.8333\n",
            "Epoch 40/100\n",
            "60/60 [==============================] - 0s 2ms/step - loss: 0.0061 - accuracy: 1.0000 - val_loss: 0.4375 - val_accuracy: 0.8333\n",
            "Epoch 41/100\n",
            "60/60 [==============================] - 0s 2ms/step - loss: 0.0057 - accuracy: 1.0000 - val_loss: 0.4398 - val_accuracy: 0.8333\n",
            "Epoch 42/100\n",
            "60/60 [==============================] - 0s 2ms/step - loss: 0.0054 - accuracy: 1.0000 - val_loss: 0.4415 - val_accuracy: 0.8333\n",
            "Epoch 43/100\n",
            "60/60 [==============================] - 0s 2ms/step - loss: 0.0051 - accuracy: 1.0000 - val_loss: 0.4444 - val_accuracy: 0.8333\n",
            "Epoch 44/100\n",
            "60/60 [==============================] - 0s 2ms/step - loss: 0.0048 - accuracy: 1.0000 - val_loss: 0.4470 - val_accuracy: 0.8400\n",
            "Epoch 45/100\n",
            "60/60 [==============================] - 0s 2ms/step - loss: 0.0045 - accuracy: 1.0000 - val_loss: 0.4498 - val_accuracy: 0.8400\n",
            "Epoch 46/100\n",
            "60/60 [==============================] - 0s 2ms/step - loss: 0.0042 - accuracy: 1.0000 - val_loss: 0.4518 - val_accuracy: 0.8400\n",
            "Epoch 47/100\n",
            "60/60 [==============================] - 0s 2ms/step - loss: 0.0040 - accuracy: 1.0000 - val_loss: 0.4541 - val_accuracy: 0.8400\n",
            "Epoch 48/100\n",
            "60/60 [==============================] - 0s 3ms/step - loss: 0.0038 - accuracy: 1.0000 - val_loss: 0.4561 - val_accuracy: 0.8400\n",
            "Epoch 49/100\n",
            "60/60 [==============================] - 0s 2ms/step - loss: 0.0036 - accuracy: 1.0000 - val_loss: 0.4576 - val_accuracy: 0.8400\n",
            "Epoch 50/100\n",
            "60/60 [==============================] - 0s 2ms/step - loss: 0.0034 - accuracy: 1.0000 - val_loss: 0.4610 - val_accuracy: 0.8400\n",
            "Epoch 51/100\n",
            "60/60 [==============================] - 0s 2ms/step - loss: 0.0032 - accuracy: 1.0000 - val_loss: 0.4630 - val_accuracy: 0.8400\n",
            "Epoch 52/100\n",
            "60/60 [==============================] - 0s 3ms/step - loss: 0.0030 - accuracy: 1.0000 - val_loss: 0.4655 - val_accuracy: 0.8400\n",
            "Epoch 53/100\n",
            "60/60 [==============================] - 0s 2ms/step - loss: 0.0029 - accuracy: 1.0000 - val_loss: 0.4679 - val_accuracy: 0.8400\n",
            "Epoch 54/100\n",
            "60/60 [==============================] - 0s 2ms/step - loss: 0.0027 - accuracy: 1.0000 - val_loss: 0.4696 - val_accuracy: 0.8400\n",
            "Epoch 55/100\n",
            "60/60 [==============================] - 0s 2ms/step - loss: 0.0026 - accuracy: 1.0000 - val_loss: 0.4722 - val_accuracy: 0.8400\n",
            "Epoch 56/100\n",
            "60/60 [==============================] - 0s 2ms/step - loss: 0.0025 - accuracy: 1.0000 - val_loss: 0.4744 - val_accuracy: 0.8333\n",
            "Epoch 57/100\n",
            "60/60 [==============================] - 0s 2ms/step - loss: 0.0023 - accuracy: 1.0000 - val_loss: 0.4759 - val_accuracy: 0.8400\n",
            "Epoch 58/100\n",
            "60/60 [==============================] - 0s 2ms/step - loss: 0.0022 - accuracy: 1.0000 - val_loss: 0.4784 - val_accuracy: 0.8400\n",
            "Epoch 59/100\n",
            "60/60 [==============================] - 0s 2ms/step - loss: 0.0021 - accuracy: 1.0000 - val_loss: 0.4811 - val_accuracy: 0.8333\n",
            "Epoch 60/100\n",
            "60/60 [==============================] - 0s 2ms/step - loss: 0.0020 - accuracy: 1.0000 - val_loss: 0.4834 - val_accuracy: 0.8333\n",
            "Epoch 61/100\n",
            "60/60 [==============================] - 0s 2ms/step - loss: 0.0019 - accuracy: 1.0000 - val_loss: 0.4847 - val_accuracy: 0.8333\n",
            "Epoch 62/100\n",
            "60/60 [==============================] - 0s 2ms/step - loss: 0.0018 - accuracy: 1.0000 - val_loss: 0.4873 - val_accuracy: 0.8333\n",
            "Epoch 63/100\n",
            "60/60 [==============================] - 0s 2ms/step - loss: 0.0017 - accuracy: 1.0000 - val_loss: 0.4889 - val_accuracy: 0.8333\n",
            "Epoch 64/100\n",
            "60/60 [==============================] - 0s 2ms/step - loss: 0.0017 - accuracy: 1.0000 - val_loss: 0.4906 - val_accuracy: 0.8333\n",
            "Epoch 65/100\n",
            "60/60 [==============================] - 0s 2ms/step - loss: 0.0016 - accuracy: 1.0000 - val_loss: 0.4940 - val_accuracy: 0.8333\n",
            "Epoch 66/100\n",
            "60/60 [==============================] - 0s 2ms/step - loss: 0.0015 - accuracy: 1.0000 - val_loss: 0.4954 - val_accuracy: 0.8333\n",
            "Epoch 67/100\n",
            "60/60 [==============================] - 0s 2ms/step - loss: 0.0014 - accuracy: 1.0000 - val_loss: 0.4971 - val_accuracy: 0.8333\n",
            "Epoch 68/100\n",
            "60/60 [==============================] - 0s 2ms/step - loss: 0.0014 - accuracy: 1.0000 - val_loss: 0.5002 - val_accuracy: 0.8333\n",
            "Epoch 69/100\n",
            "60/60 [==============================] - 0s 2ms/step - loss: 0.0013 - accuracy: 1.0000 - val_loss: 0.5017 - val_accuracy: 0.8333\n",
            "Epoch 70/100\n",
            "60/60 [==============================] - 0s 2ms/step - loss: 0.0013 - accuracy: 1.0000 - val_loss: 0.5032 - val_accuracy: 0.8333\n",
            "Epoch 71/100\n",
            "60/60 [==============================] - 0s 3ms/step - loss: 0.0012 - accuracy: 1.0000 - val_loss: 0.5056 - val_accuracy: 0.8333\n",
            "Epoch 72/100\n",
            "60/60 [==============================] - 0s 2ms/step - loss: 0.0012 - accuracy: 1.0000 - val_loss: 0.5080 - val_accuracy: 0.8333\n",
            "Epoch 73/100\n",
            "60/60 [==============================] - 0s 2ms/step - loss: 0.0011 - accuracy: 1.0000 - val_loss: 0.5098 - val_accuracy: 0.8333\n",
            "Epoch 74/100\n",
            "60/60 [==============================] - 0s 2ms/step - loss: 0.0011 - accuracy: 1.0000 - val_loss: 0.5117 - val_accuracy: 0.8333\n",
            "Epoch 75/100\n",
            "60/60 [==============================] - 0s 2ms/step - loss: 0.0010 - accuracy: 1.0000 - val_loss: 0.5134 - val_accuracy: 0.8333\n",
            "Epoch 76/100\n",
            "60/60 [==============================] - 0s 2ms/step - loss: 9.6954e-04 - accuracy: 1.0000 - val_loss: 0.5157 - val_accuracy: 0.8333\n",
            "Epoch 77/100\n",
            "60/60 [==============================] - 0s 3ms/step - loss: 9.2988e-04 - accuracy: 1.0000 - val_loss: 0.5170 - val_accuracy: 0.8333\n",
            "Epoch 78/100\n",
            "60/60 [==============================] - 0s 2ms/step - loss: 8.9057e-04 - accuracy: 1.0000 - val_loss: 0.5197 - val_accuracy: 0.8333\n",
            "Epoch 79/100\n",
            "60/60 [==============================] - 0s 2ms/step - loss: 8.5365e-04 - accuracy: 1.0000 - val_loss: 0.5215 - val_accuracy: 0.8333\n",
            "Epoch 80/100\n",
            "60/60 [==============================] - 0s 3ms/step - loss: 8.1881e-04 - accuracy: 1.0000 - val_loss: 0.5236 - val_accuracy: 0.8333\n",
            "Epoch 81/100\n",
            "60/60 [==============================] - 0s 3ms/step - loss: 7.8529e-04 - accuracy: 1.0000 - val_loss: 0.5250 - val_accuracy: 0.8333\n",
            "Epoch 82/100\n",
            "60/60 [==============================] - 0s 2ms/step - loss: 7.5449e-04 - accuracy: 1.0000 - val_loss: 0.5280 - val_accuracy: 0.8333\n",
            "Epoch 83/100\n",
            "60/60 [==============================] - 0s 2ms/step - loss: 7.2277e-04 - accuracy: 1.0000 - val_loss: 0.5291 - val_accuracy: 0.8333\n",
            "Epoch 84/100\n",
            "60/60 [==============================] - 0s 2ms/step - loss: 6.9504e-04 - accuracy: 1.0000 - val_loss: 0.5316 - val_accuracy: 0.8333\n",
            "Epoch 85/100\n",
            "60/60 [==============================] - 0s 2ms/step - loss: 6.6627e-04 - accuracy: 1.0000 - val_loss: 0.5333 - val_accuracy: 0.8333\n",
            "Epoch 86/100\n",
            "60/60 [==============================] - 0s 2ms/step - loss: 6.3903e-04 - accuracy: 1.0000 - val_loss: 0.5352 - val_accuracy: 0.8333\n",
            "Epoch 87/100\n",
            "60/60 [==============================] - 0s 2ms/step - loss: 6.1408e-04 - accuracy: 1.0000 - val_loss: 0.5370 - val_accuracy: 0.8333\n",
            "Epoch 88/100\n",
            "60/60 [==============================] - 0s 2ms/step - loss: 5.8998e-04 - accuracy: 1.0000 - val_loss: 0.5391 - val_accuracy: 0.8333\n",
            "Epoch 89/100\n",
            "60/60 [==============================] - 0s 3ms/step - loss: 5.6698e-04 - accuracy: 1.0000 - val_loss: 0.5407 - val_accuracy: 0.8333\n",
            "Epoch 90/100\n",
            "60/60 [==============================] - 0s 2ms/step - loss: 5.4424e-04 - accuracy: 1.0000 - val_loss: 0.5429 - val_accuracy: 0.8333\n",
            "Epoch 91/100\n",
            "60/60 [==============================] - 0s 3ms/step - loss: 5.2368e-04 - accuracy: 1.0000 - val_loss: 0.5451 - val_accuracy: 0.8333\n",
            "Epoch 92/100\n",
            "60/60 [==============================] - 0s 2ms/step - loss: 5.0309e-04 - accuracy: 1.0000 - val_loss: 0.5464 - val_accuracy: 0.8333\n",
            "Epoch 93/100\n",
            "60/60 [==============================] - 0s 2ms/step - loss: 4.8353e-04 - accuracy: 1.0000 - val_loss: 0.5487 - val_accuracy: 0.8333\n",
            "Epoch 94/100\n",
            "60/60 [==============================] - 0s 3ms/step - loss: 4.6524e-04 - accuracy: 1.0000 - val_loss: 0.5509 - val_accuracy: 0.8333\n",
            "Epoch 95/100\n",
            "60/60 [==============================] - 0s 2ms/step - loss: 4.4760e-04 - accuracy: 1.0000 - val_loss: 0.5526 - val_accuracy: 0.8333\n",
            "Epoch 96/100\n",
            "60/60 [==============================] - 0s 2ms/step - loss: 4.2991e-04 - accuracy: 1.0000 - val_loss: 0.5544 - val_accuracy: 0.8333\n",
            "Epoch 97/100\n",
            "60/60 [==============================] - 0s 2ms/step - loss: 4.1395e-04 - accuracy: 1.0000 - val_loss: 0.5564 - val_accuracy: 0.8333\n",
            "Epoch 98/100\n",
            "60/60 [==============================] - 0s 2ms/step - loss: 3.9786e-04 - accuracy: 1.0000 - val_loss: 0.5584 - val_accuracy: 0.8333\n",
            "Epoch 99/100\n",
            "60/60 [==============================] - 0s 2ms/step - loss: 3.8289e-04 - accuracy: 1.0000 - val_loss: 0.5599 - val_accuracy: 0.8333\n",
            "Epoch 100/100\n",
            "60/60 [==============================] - 0s 2ms/step - loss: 3.6861e-04 - accuracy: 1.0000 - val_loss: 0.5618 - val_accuracy: 0.8333\n",
            "Test Accuracy:  77.60000228881836\n"
          ],
          "name": "stdout"
        }
      ]
    },
    {
      "cell_type": "code",
      "metadata": {
        "id": "pLJQl37n9aN5",
        "colab": {
          "base_uri": "https://localhost:8080/",
          "height": 295
        },
        "outputId": "b417b84e-b57f-49b7-eca2-ba49db5f4356"
      },
      "source": [
        "plt.subplot(2,1,1)\n",
        "plt.plot(final_model.history['accuracy'])\n",
        "plt.plot(final_model.history['val_accuracy'])\n",
        "plt.title('model accuracy')\n",
        "plt.ylabel('accuracy')\n",
        "plt.xticks([])\n",
        "plt.legend(['train', 'test'], loc='lower right')\n",
        "\n",
        "plt.subplot(2,1,2)\n",
        "plt.plot(final_model.history['loss'])\n",
        "plt.plot(final_model.history['val_loss'])\n",
        "plt.title('model loss')\n",
        "plt.ylabel('loss')\n",
        "plt.xlabel('epoch')\n",
        "plt.legend(['train', 'test'], loc='upper right')\n",
        "\n",
        "plt.show()"
      ],
      "execution_count": null,
      "outputs": [
        {
          "output_type": "display_data",
          "data": {
            "image/png": "[encoded data removed]",
            "text/plain": [
              "<Figure size 432x288 with 2 Axes>"
            ]
          },
          "metadata": {
            "tags": [],
            "needs_background": "light"
          }
        }
      ]
    },
    {
      "cell_type": "markdown",
      "metadata": {
        "id": "W4shgr391vNM"
      },
      "source": [
        "**Q4- Explain these graphs. If you see any issue, suggest a solution to resolve it. Make the model by creating 3 hidden layers (first one 200 nodes, second one 100 nodes and last one 50 nodes and after each step, add dropout of 0.2 and report the accuracy.**"
      ]
    },
    {
      "cell_type": "markdown",
      "metadata": {
        "id": "PkgTAwg215Ve"
      },
      "source": [
        "- ANS"
      ]
    },
    {
      "cell_type": "code",
      "metadata": {
        "id": "y2lqrHur98U6",
        "colab": {
          "base_uri": "https://localhost:8080/",
          "height": 1000
        },
        "outputId": "d8f2e265-541d-445b-97c6-97fd6b1c0cc5"
      },
      "source": [
        "# model with 3 hidden layers 200,100,50 & 20% dropout each\n",
        "model = Sequential()\n",
        "model.add(layers.Dense(200, input_dim=input_dim, activation='relu'))\n",
        "model.add(Dropout(0.2))\n",
        "model.add(layers.Dense(100, activation='relu'))\n",
        "model.add(Dropout(0.2))\n",
        "model.add(layers.Dense(50, activation='relu'))\n",
        "model.add(Dropout(0.2))\n",
        "model.add(layers.Dense(1, activation='sigmoid'))\n",
        "model.compile(loss='binary_crossentropy', optimizer='adam',\n",
        "metrics=['accuracy'])\n",
        "final_model = model.fit(X_train, y_train, epochs=100, validation_split=0.2 ,\n",
        "batch_size=10)\n",
        "loss, accuracy = model.evaluate(X_test, y_test, verbose=False)\n",
        "print(\"Test Accuracy: \",accuracy*100)\n"
      ],
      "execution_count": null,
      "outputs": [
        {
          "output_type": "stream",
          "text": [
            "Epoch 1/100\n",
            "60/60 [==============================] - 1s 5ms/step - loss: 0.6746 - accuracy: 0.6400 - val_loss: 0.6172 - val_accuracy: 0.7800\n",
            "Epoch 2/100\n",
            "60/60 [==============================] - 0s 3ms/step - loss: 0.4244 - accuracy: 0.8817 - val_loss: 0.4320 - val_accuracy: 0.8200\n",
            "Epoch 3/100\n",
            "60/60 [==============================] - 0s 3ms/step - loss: 0.1325 - accuracy: 0.9683 - val_loss: 0.4382 - val_accuracy: 0.8400\n",
            "Epoch 4/100\n",
            "60/60 [==============================] - 0s 3ms/step - loss: 0.0305 - accuracy: 0.9967 - val_loss: 0.4361 - val_accuracy: 0.8533\n",
            "Epoch 5/100\n",
            "60/60 [==============================] - 0s 3ms/step - loss: 0.0076 - accuracy: 1.0000 - val_loss: 0.4716 - val_accuracy: 0.8533\n",
            "Epoch 6/100\n",
            "60/60 [==============================] - 0s 3ms/step - loss: 0.0050 - accuracy: 1.0000 - val_loss: 0.4982 - val_accuracy: 0.8467\n",
            "Epoch 7/100\n",
            "60/60 [==============================] - 0s 3ms/step - loss: 0.0026 - accuracy: 1.0000 - val_loss: 0.5212 - val_accuracy: 0.8533\n",
            "Epoch 8/100\n",
            "60/60 [==============================] - 0s 3ms/step - loss: 0.0014 - accuracy: 1.0000 - val_loss: 0.5363 - val_accuracy: 0.8533\n",
            "Epoch 9/100\n",
            "60/60 [==============================] - 0s 3ms/step - loss: 0.0012 - accuracy: 1.0000 - val_loss: 0.5582 - val_accuracy: 0.8533\n",
            "Epoch 10/100\n",
            "60/60 [==============================] - 0s 3ms/step - loss: 0.0010 - accuracy: 1.0000 - val_loss: 0.5774 - val_accuracy: 0.8467\n",
            "Epoch 11/100\n",
            "60/60 [==============================] - 0s 3ms/step - loss: 7.0682e-04 - accuracy: 1.0000 - val_loss: 0.5857 - val_accuracy: 0.8467\n",
            "Epoch 12/100\n",
            "60/60 [==============================] - 0s 3ms/step - loss: 5.3455e-04 - accuracy: 1.0000 - val_loss: 0.5978 - val_accuracy: 0.8533\n",
            "Epoch 13/100\n",
            "60/60 [==============================] - 0s 3ms/step - loss: 4.8172e-04 - accuracy: 1.0000 - val_loss: 0.5970 - val_accuracy: 0.8467\n",
            "Epoch 14/100\n",
            "60/60 [==============================] - 0s 3ms/step - loss: 3.2440e-04 - accuracy: 1.0000 - val_loss: 0.6087 - val_accuracy: 0.8467\n",
            "Epoch 15/100\n",
            "60/60 [==============================] - 0s 3ms/step - loss: 2.6964e-04 - accuracy: 1.0000 - val_loss: 0.6132 - val_accuracy: 0.8467\n",
            "Epoch 16/100\n",
            "60/60 [==============================] - 0s 3ms/step - loss: 3.0735e-04 - accuracy: 1.0000 - val_loss: 0.6249 - val_accuracy: 0.8467\n",
            "Epoch 17/100\n",
            "60/60 [==============================] - 0s 3ms/step - loss: 2.5501e-04 - accuracy: 1.0000 - val_loss: 0.6342 - val_accuracy: 0.8467\n",
            "Epoch 18/100\n",
            "60/60 [==============================] - 0s 3ms/step - loss: 2.3225e-04 - accuracy: 1.0000 - val_loss: 0.6461 - val_accuracy: 0.8467\n",
            "Epoch 19/100\n",
            "60/60 [==============================] - 0s 3ms/step - loss: 2.1143e-04 - accuracy: 1.0000 - val_loss: 0.6548 - val_accuracy: 0.8467\n",
            "Epoch 20/100\n",
            "60/60 [==============================] - 0s 3ms/step - loss: 1.5504e-04 - accuracy: 1.0000 - val_loss: 0.6622 - val_accuracy: 0.8467\n",
            "Epoch 21/100\n",
            "60/60 [==============================] - 0s 3ms/step - loss: 1.2211e-04 - accuracy: 1.0000 - val_loss: 0.6713 - val_accuracy: 0.8467\n",
            "Epoch 22/100\n",
            "60/60 [==============================] - 0s 3ms/step - loss: 1.3517e-04 - accuracy: 1.0000 - val_loss: 0.6782 - val_accuracy: 0.8467\n",
            "Epoch 23/100\n",
            "60/60 [==============================] - 0s 3ms/step - loss: 9.8091e-05 - accuracy: 1.0000 - val_loss: 0.6801 - val_accuracy: 0.8467\n",
            "Epoch 24/100\n",
            "60/60 [==============================] - 0s 3ms/step - loss: 1.3248e-04 - accuracy: 1.0000 - val_loss: 0.6874 - val_accuracy: 0.8467\n",
            "Epoch 25/100\n",
            "60/60 [==============================] - 0s 3ms/step - loss: 1.0682e-04 - accuracy: 1.0000 - val_loss: 0.6915 - val_accuracy: 0.8467\n",
            "Epoch 26/100\n",
            "60/60 [==============================] - 0s 3ms/step - loss: 1.6435e-04 - accuracy: 1.0000 - val_loss: 0.7066 - val_accuracy: 0.8333\n",
            "Epoch 27/100\n",
            "60/60 [==============================] - 0s 3ms/step - loss: 1.0875e-04 - accuracy: 1.0000 - val_loss: 0.7422 - val_accuracy: 0.8600\n",
            "Epoch 28/100\n",
            "60/60 [==============================] - 0s 3ms/step - loss: 8.9753e-05 - accuracy: 1.0000 - val_loss: 0.7387 - val_accuracy: 0.8533\n",
            "Epoch 29/100\n",
            "60/60 [==============================] - 0s 3ms/step - loss: 1.0438e-04 - accuracy: 1.0000 - val_loss: 0.7451 - val_accuracy: 0.8533\n",
            "Epoch 30/100\n",
            "60/60 [==============================] - 0s 3ms/step - loss: 6.6064e-05 - accuracy: 1.0000 - val_loss: 0.7501 - val_accuracy: 0.8533\n",
            "Epoch 31/100\n",
            "60/60 [==============================] - 0s 3ms/step - loss: 4.5973e-05 - accuracy: 1.0000 - val_loss: 0.7539 - val_accuracy: 0.8533\n",
            "Epoch 32/100\n",
            "60/60 [==============================] - 0s 3ms/step - loss: 5.8292e-05 - accuracy: 1.0000 - val_loss: 0.7582 - val_accuracy: 0.8533\n",
            "Epoch 33/100\n",
            "60/60 [==============================] - 0s 3ms/step - loss: 3.3834e-05 - accuracy: 1.0000 - val_loss: 0.7616 - val_accuracy: 0.8533\n",
            "Epoch 34/100\n",
            "60/60 [==============================] - 0s 4ms/step - loss: 7.1066e-05 - accuracy: 1.0000 - val_loss: 0.7792 - val_accuracy: 0.8400\n",
            "Epoch 35/100\n",
            "60/60 [==============================] - 0s 3ms/step - loss: 8.2157e-05 - accuracy: 1.0000 - val_loss: 0.7851 - val_accuracy: 0.8467\n",
            "Epoch 36/100\n",
            "60/60 [==============================] - 0s 3ms/step - loss: 6.4675e-05 - accuracy: 1.0000 - val_loss: 0.7897 - val_accuracy: 0.8467\n",
            "Epoch 37/100\n",
            "60/60 [==============================] - 0s 3ms/step - loss: 4.1098e-05 - accuracy: 1.0000 - val_loss: 0.7919 - val_accuracy: 0.8533\n",
            "Epoch 38/100\n",
            "60/60 [==============================] - 0s 3ms/step - loss: 4.2315e-05 - accuracy: 1.0000 - val_loss: 0.7947 - val_accuracy: 0.8533\n",
            "Epoch 39/100\n",
            "60/60 [==============================] - 0s 4ms/step - loss: 3.9320e-05 - accuracy: 1.0000 - val_loss: 0.7996 - val_accuracy: 0.8533\n",
            "Epoch 40/100\n",
            "60/60 [==============================] - 0s 3ms/step - loss: 2.5276e-05 - accuracy: 1.0000 - val_loss: 0.8006 - val_accuracy: 0.8533\n",
            "Epoch 41/100\n",
            "60/60 [==============================] - 0s 3ms/step - loss: 1.8513e-05 - accuracy: 1.0000 - val_loss: 0.8027 - val_accuracy: 0.8533\n",
            "Epoch 42/100\n",
            "60/60 [==============================] - 0s 3ms/step - loss: 5.3222e-05 - accuracy: 1.0000 - val_loss: 0.8114 - val_accuracy: 0.8533\n",
            "Epoch 43/100\n",
            "60/60 [==============================] - 0s 3ms/step - loss: 2.1495e-05 - accuracy: 1.0000 - val_loss: 0.8113 - val_accuracy: 0.8533\n",
            "Epoch 44/100\n",
            "60/60 [==============================] - 0s 3ms/step - loss: 2.3175e-05 - accuracy: 1.0000 - val_loss: 0.8160 - val_accuracy: 0.8533\n",
            "Epoch 45/100\n",
            "60/60 [==============================] - 0s 3ms/step - loss: 3.1084e-05 - accuracy: 1.0000 - val_loss: 0.8130 - val_accuracy: 0.8533\n",
            "Epoch 46/100\n",
            "60/60 [==============================] - 0s 3ms/step - loss: 1.7806e-05 - accuracy: 1.0000 - val_loss: 0.8146 - val_accuracy: 0.8533\n",
            "Epoch 47/100\n",
            "60/60 [==============================] - 0s 3ms/step - loss: 1.9020e-05 - accuracy: 1.0000 - val_loss: 0.8166 - val_accuracy: 0.8533\n",
            "Epoch 48/100\n",
            "60/60 [==============================] - 0s 3ms/step - loss: 4.8956e-05 - accuracy: 1.0000 - val_loss: 0.8106 - val_accuracy: 0.8600\n",
            "Epoch 49/100\n",
            "60/60 [==============================] - 0s 3ms/step - loss: 1.8015e-05 - accuracy: 1.0000 - val_loss: 0.8119 - val_accuracy: 0.8533\n",
            "Epoch 50/100\n",
            "60/60 [==============================] - 0s 3ms/step - loss: 2.4832e-05 - accuracy: 1.0000 - val_loss: 0.8117 - val_accuracy: 0.8533\n",
            "Epoch 51/100\n",
            "60/60 [==============================] - 0s 3ms/step - loss: 8.6160e-06 - accuracy: 1.0000 - val_loss: 0.8130 - val_accuracy: 0.8533\n",
            "Epoch 52/100\n",
            "60/60 [==============================] - 0s 3ms/step - loss: 1.4560e-05 - accuracy: 1.0000 - val_loss: 0.8178 - val_accuracy: 0.8533\n",
            "Epoch 53/100\n",
            "60/60 [==============================] - 0s 3ms/step - loss: 8.8378e-06 - accuracy: 1.0000 - val_loss: 0.8196 - val_accuracy: 0.8533\n",
            "Epoch 54/100\n",
            "60/60 [==============================] - 0s 3ms/step - loss: 1.1395e-05 - accuracy: 1.0000 - val_loss: 0.8204 - val_accuracy: 0.8533\n",
            "Epoch 55/100\n",
            "60/60 [==============================] - 0s 3ms/step - loss: 2.3211e-05 - accuracy: 1.0000 - val_loss: 0.8428 - val_accuracy: 0.8600\n",
            "Epoch 56/100\n",
            "60/60 [==============================] - 0s 3ms/step - loss: 1.0233e-05 - accuracy: 1.0000 - val_loss: 0.8422 - val_accuracy: 0.8533\n",
            "Epoch 57/100\n",
            "60/60 [==============================] - 0s 3ms/step - loss: 1.3059e-05 - accuracy: 1.0000 - val_loss: 0.8427 - val_accuracy: 0.8467\n",
            "Epoch 58/100\n",
            "60/60 [==============================] - 0s 3ms/step - loss: 1.2106e-05 - accuracy: 1.0000 - val_loss: 0.8425 - val_accuracy: 0.8467\n",
            "Epoch 59/100\n",
            "60/60 [==============================] - 0s 3ms/step - loss: 1.5295e-05 - accuracy: 1.0000 - val_loss: 0.8373 - val_accuracy: 0.8467\n",
            "Epoch 60/100\n",
            "60/60 [==============================] - 0s 3ms/step - loss: 1.6830e-05 - accuracy: 1.0000 - val_loss: 0.8404 - val_accuracy: 0.8467\n",
            "Epoch 61/100\n",
            "60/60 [==============================] - 0s 3ms/step - loss: 1.2257e-05 - accuracy: 1.0000 - val_loss: 0.8367 - val_accuracy: 0.8467\n",
            "Epoch 62/100\n",
            "60/60 [==============================] - 0s 3ms/step - loss: 8.9497e-06 - accuracy: 1.0000 - val_loss: 0.8405 - val_accuracy: 0.8467\n",
            "Epoch 63/100\n",
            "60/60 [==============================] - 0s 3ms/step - loss: 8.6251e-06 - accuracy: 1.0000 - val_loss: 0.8354 - val_accuracy: 0.8533\n",
            "Epoch 64/100\n",
            "60/60 [==============================] - 0s 3ms/step - loss: 6.0512e-06 - accuracy: 1.0000 - val_loss: 0.8360 - val_accuracy: 0.8600\n",
            "Epoch 65/100\n",
            "60/60 [==============================] - 0s 3ms/step - loss: 1.6571e-05 - accuracy: 1.0000 - val_loss: 0.8392 - val_accuracy: 0.8600\n",
            "Epoch 66/100\n",
            "60/60 [==============================] - 0s 3ms/step - loss: 6.5328e-06 - accuracy: 1.0000 - val_loss: 0.8416 - val_accuracy: 0.8600\n",
            "Epoch 67/100\n",
            "60/60 [==============================] - 0s 3ms/step - loss: 9.1831e-06 - accuracy: 1.0000 - val_loss: 0.8444 - val_accuracy: 0.8600\n",
            "Epoch 68/100\n",
            "60/60 [==============================] - 0s 3ms/step - loss: 7.8996e-06 - accuracy: 1.0000 - val_loss: 0.8478 - val_accuracy: 0.8533\n",
            "Epoch 69/100\n",
            "60/60 [==============================] - 0s 3ms/step - loss: 1.0310e-05 - accuracy: 1.0000 - val_loss: 0.8512 - val_accuracy: 0.8533\n",
            "Epoch 70/100\n",
            "60/60 [==============================] - 0s 3ms/step - loss: 6.5957e-06 - accuracy: 1.0000 - val_loss: 0.8535 - val_accuracy: 0.8533\n",
            "Epoch 71/100\n",
            "60/60 [==============================] - 0s 3ms/step - loss: 7.3834e-06 - accuracy: 1.0000 - val_loss: 0.8547 - val_accuracy: 0.8600\n",
            "Epoch 72/100\n",
            "60/60 [==============================] - 0s 3ms/step - loss: 3.0839e-06 - accuracy: 1.0000 - val_loss: 0.8542 - val_accuracy: 0.8600\n",
            "Epoch 73/100\n",
            "60/60 [==============================] - 0s 3ms/step - loss: 9.2595e-06 - accuracy: 1.0000 - val_loss: 0.8556 - val_accuracy: 0.8600\n",
            "Epoch 74/100\n",
            "60/60 [==============================] - 0s 3ms/step - loss: 1.5767e-05 - accuracy: 1.0000 - val_loss: 0.8589 - val_accuracy: 0.8533\n",
            "Epoch 75/100\n",
            "60/60 [==============================] - 0s 3ms/step - loss: 8.6015e-06 - accuracy: 1.0000 - val_loss: 0.8596 - val_accuracy: 0.8600\n",
            "Epoch 76/100\n",
            "60/60 [==============================] - 0s 3ms/step - loss: 4.9576e-06 - accuracy: 1.0000 - val_loss: 0.8622 - val_accuracy: 0.8600\n",
            "Epoch 77/100\n",
            "60/60 [==============================] - 0s 3ms/step - loss: 6.8171e-06 - accuracy: 1.0000 - val_loss: 0.8670 - val_accuracy: 0.8533\n",
            "Epoch 78/100\n",
            "60/60 [==============================] - 0s 3ms/step - loss: 5.5148e-06 - accuracy: 1.0000 - val_loss: 0.8706 - val_accuracy: 0.8467\n",
            "Epoch 79/100\n",
            "60/60 [==============================] - 0s 3ms/step - loss: 4.5333e-06 - accuracy: 1.0000 - val_loss: 0.8733 - val_accuracy: 0.8533\n",
            "Epoch 80/100\n",
            "60/60 [==============================] - 0s 4ms/step - loss: 6.1019e-06 - accuracy: 1.0000 - val_loss: 0.8770 - val_accuracy: 0.8533\n",
            "Epoch 81/100\n",
            "60/60 [==============================] - 0s 3ms/step - loss: 4.4657e-06 - accuracy: 1.0000 - val_loss: 0.8824 - val_accuracy: 0.8533\n",
            "Epoch 82/100\n",
            "60/60 [==============================] - 0s 3ms/step - loss: 4.1487e-06 - accuracy: 1.0000 - val_loss: 0.8845 - val_accuracy: 0.8533\n",
            "Epoch 83/100\n",
            "60/60 [==============================] - 0s 4ms/step - loss: 6.9168e-06 - accuracy: 1.0000 - val_loss: 0.8876 - val_accuracy: 0.8467\n",
            "Epoch 84/100\n",
            "60/60 [==============================] - 0s 3ms/step - loss: 4.4567e-06 - accuracy: 1.0000 - val_loss: 0.8912 - val_accuracy: 0.8533\n",
            "Epoch 85/100\n",
            "60/60 [==============================] - 0s 3ms/step - loss: 2.2544e-06 - accuracy: 1.0000 - val_loss: 0.8905 - val_accuracy: 0.8467\n",
            "Epoch 86/100\n",
            "60/60 [==============================] - 0s 3ms/step - loss: 2.5235e-06 - accuracy: 1.0000 - val_loss: 0.8933 - val_accuracy: 0.8467\n",
            "Epoch 87/100\n",
            "60/60 [==============================] - 0s 3ms/step - loss: 6.0371e-06 - accuracy: 1.0000 - val_loss: 0.8990 - val_accuracy: 0.8533\n",
            "Epoch 88/100\n",
            "60/60 [==============================] - 0s 3ms/step - loss: 2.3054e-06 - accuracy: 1.0000 - val_loss: 0.9021 - val_accuracy: 0.8533\n",
            "Epoch 89/100\n",
            "60/60 [==============================] - 0s 3ms/step - loss: 2.4679e-06 - accuracy: 1.0000 - val_loss: 0.9061 - val_accuracy: 0.8533\n",
            "Epoch 90/100\n",
            "60/60 [==============================] - 0s 3ms/step - loss: 6.5296e-06 - accuracy: 1.0000 - val_loss: 0.9084 - val_accuracy: 0.8533\n",
            "Epoch 91/100\n",
            "60/60 [==============================] - 0s 3ms/step - loss: 1.5290e-06 - accuracy: 1.0000 - val_loss: 0.9110 - val_accuracy: 0.8600\n",
            "Epoch 92/100\n",
            "60/60 [==============================] - 0s 3ms/step - loss: 1.6764e-06 - accuracy: 1.0000 - val_loss: 0.9127 - val_accuracy: 0.8533\n",
            "Epoch 93/100\n",
            "60/60 [==============================] - 0s 3ms/step - loss: 2.5146e-06 - accuracy: 1.0000 - val_loss: 0.9137 - val_accuracy: 0.8667\n",
            "Epoch 94/100\n",
            "60/60 [==============================] - 0s 3ms/step - loss: 4.3389e-06 - accuracy: 1.0000 - val_loss: 0.9164 - val_accuracy: 0.8667\n",
            "Epoch 95/100\n",
            "60/60 [==============================] - 0s 3ms/step - loss: 1.8909e-06 - accuracy: 1.0000 - val_loss: 0.9216 - val_accuracy: 0.8600\n",
            "Epoch 96/100\n",
            "60/60 [==============================] - 0s 3ms/step - loss: 2.6826e-06 - accuracy: 1.0000 - val_loss: 0.9191 - val_accuracy: 0.8600\n",
            "Epoch 97/100\n",
            "60/60 [==============================] - 0s 3ms/step - loss: 3.3633e-06 - accuracy: 1.0000 - val_loss: 0.9257 - val_accuracy: 0.8667\n",
            "Epoch 98/100\n",
            "60/60 [==============================] - 0s 3ms/step - loss: 4.4703e-06 - accuracy: 1.0000 - val_loss: 0.9385 - val_accuracy: 0.8600\n",
            "Epoch 99/100\n",
            "60/60 [==============================] - 0s 3ms/step - loss: 1.7414e-06 - accuracy: 1.0000 - val_loss: 0.9416 - val_accuracy: 0.8600\n",
            "Epoch 100/100\n",
            "60/60 [==============================] - 0s 3ms/step - loss: 2.7219e-06 - accuracy: 1.0000 - val_loss: 0.9373 - val_accuracy: 0.8600\n",
            "Test Accuracy:  80.40000200271606\n"
          ],
          "name": "stdout"
        },
        {
          "output_type": "display_data",
          "data": {
            "image/png": "[encoded data removed]",
            "text/plain": [
              "<Figure size 432x288 with 2 Axes>"
            ]
          },
          "metadata": {
            "tags": [],
            "needs_background": "light"
          }
        }
      ]
    },
    {
      "cell_type": "code",
      "metadata": {
        "id": "e02blNzh_UuS",
        "colab": {
          "base_uri": "https://localhost:8080/",
          "height": 295
        },
        "outputId": "d550297c-4ba1-463a-c586-049e24e5ec24"
      },
      "source": [
        "plt.subplot(2,1,1)\n",
        "plt.plot(final_model.history['accuracy'])\n",
        "plt.plot(final_model.history['val_accuracy'])\n",
        "plt.title('model accuracy')\n",
        "plt.ylabel('accuracy')\n",
        "plt.xticks([])\n",
        "plt.legend(['train', 'test'], loc='lower right')\n",
        "\n",
        "plt.subplot(2,1,2)\n",
        "plt.plot(final_model.history['loss'])\n",
        "plt.plot(final_model.history['val_loss'])\n",
        "plt.title('model loss')\n",
        "plt.ylabel('loss')\n",
        "plt.xlabel('epoch')\n",
        "plt.legend(['train', 'test'], loc='upper right')\n",
        "plt.show()"
      ],
      "execution_count": null,
      "outputs": [
        {
          "output_type": "display_data",
          "data": {
            "image/png": "[encoded data removed]",
            "text/plain": [
              "<Figure size 432x288 with 2 Axes>"
            ]
          },
          "metadata": {
            "tags": [],
            "needs_background": "light"
          }
        }
      ]
    },
    {
      "cell_type": "markdown",
      "metadata": {
        "id": "Rp3-Wh571pKc"
      },
      "source": [
        "## 3.2. Embedded word"
      ]
    },
    {
      "cell_type": "code",
      "metadata": {
        "colab": {
          "base_uri": "https://localhost:8080/"
        },
        "id": "jI99eyZWeux0",
        "outputId": "b2e27775-b566-4034-d0e8-d1fa05a2d8ab"
      },
      "source": [
        "#NN models on data in form of a sequence\n",
        "from keras.preprocessing.text import Tokenizer\n",
        "tokenizer = Tokenizer(num_words=5000)\n",
        "tokenizer.fit_on_texts(sentences_train)\n",
        "X_train = tokenizer.texts_to_sequences(sentences_train)\n",
        "X_test = tokenizer.texts_to_sequences(sentences_test)\n",
        "vocab_size = len(tokenizer.word_index) + 1 # Adding 1 because of reserved 0 index\n",
        "print(sentences_train[3])\n",
        "print(X_train[3])\n",
        "for word in ['the', 'all', 'happy']:\n",
        "  print('{}: {}'.format(word, tokenizer.word_index[word]))\n",
        "from keras.preprocessing.sequence import pad_sequences\n",
        "maxlen = 100\n",
        "# Pad variables with zeros\n",
        "X_train = pad_sequences(X_train, padding='post', maxlen=maxlen)\n",
        "X_test = pad_sequences(X_test, padding='post', maxlen=maxlen)\n",
        "print(X_train[0, :])"
      ],
      "execution_count": 5,
      "outputs": [
        {
          "output_type": "stream",
          "text": [
            "This is the phone to get for 2005.... I just bought my S710a and all I can say is WOW!\n",
            "[7, 5, 1, 9, 8, 92, 11, 676, 2, 59, 101, 10, 677, 3, 32, 2, 71, 225, 5, 449]\n",
            "the: 1\n",
            "all: 32\n",
            "happy: 86\n",
            "[  7  24   5  16   4 137 148   6 223 315   2  71 224   8   1 673 111 444\n",
            "  18 316  11 445   0   0   0   0   0   0   0   0   0   0   0   0   0   0\n",
            "   0   0   0   0   0   0   0   0   0   0   0   0   0   0   0   0   0   0\n",
            "   0   0   0   0   0   0   0   0   0   0   0   0   0   0   0   0   0   0\n",
            "   0   0   0   0   0   0   0   0   0   0   0   0   0   0   0   0   0   0\n",
            "   0   0   0   0   0   0   0   0   0   0]\n"
          ],
          "name": "stdout"
        }
      ]
    },
    {
      "cell_type": "markdown",
      "metadata": {
        "id": "flt5x5p-19iT"
      },
      "source": [
        "## 3.3. Model training"
      ]
    },
    {
      "cell_type": "code",
      "metadata": {
        "colab": {
          "base_uri": "https://localhost:8080/"
        },
        "id": "9hQz1BLvh_36",
        "outputId": "578691ec-6be6-40e7-871e-88d371472d5e"
      },
      "source": [
        "from tensorflow.keras.models import Sequential\n",
        "from tensorflow.keras import layers\n",
        "embedding_dim = 50\n",
        "model = Sequential()\n",
        "model.add(layers.Embedding(input_dim=vocab_size,\n",
        "output_dim=embedding_dim,\n",
        "input_length=maxlen))\n",
        "model.add(layers.GlobalMaxPool1D())\n",
        "model.add(layers.Dense(10, activation='relu'))\n",
        "model.add(layers.Dense(1, activation='sigmoid'))\n",
        "model.compile(optimizer='adam', loss='binary_crossentropy',\n",
        "metrics=['accuracy'])\n",
        "model.summary()"
      ],
      "execution_count": null,
      "outputs": [
        {
          "output_type": "stream",
          "text": [
            "Model: \"sequential_1\"\n",
            "_________________________________________________________________\n",
            "Layer (type)                 Output Shape              Param #   \n",
            "=================================================================\n",
            "embedding (Embedding)        (None, 100, 50)           78700     \n",
            "_________________________________________________________________\n",
            "global_max_pooling1d (Global (None, 50)                0         \n",
            "_________________________________________________________________\n",
            "dense_2 (Dense)              (None, 10)                510       \n",
            "_________________________________________________________________\n",
            "dense_3 (Dense)              (None, 1)                 11        \n",
            "=================================================================\n",
            "Total params: 79,221\n",
            "Trainable params: 79,221\n",
            "Non-trainable params: 0\n",
            "_________________________________________________________________\n"
          ],
          "name": "stdout"
        }
      ]
    },
    {
      "cell_type": "code",
      "metadata": {
        "colab": {
          "base_uri": "https://localhost:8080/"
        },
        "id": "EcQ6bYcFiO6v",
        "outputId": "990fd006-89c0-4269-a5cb-272ccaac3bef"
      },
      "source": [
        "hist = model.fit(X_train, y_train,\n",
        "                  epochs=50,\n",
        "                  validation_split=0.2,\n",
        "                  batch_size=10)\n",
        "loss, accuracy = model.evaluate(X_test, y_test, verbose=False)\n",
        "print(\"Accuracy: \",accuracy)"
      ],
      "execution_count": null,
      "outputs": [
        {
          "output_type": "stream",
          "text": [
            "Epoch 1/50\n",
            "60/60 [==============================] - 1s 5ms/step - loss: 0.6886 - accuracy: 0.5567 - val_loss: 0.6792 - val_accuracy: 0.7267\n",
            "Epoch 2/50\n",
            "60/60 [==============================] - 0s 4ms/step - loss: 0.6533 - accuracy: 0.8783 - val_loss: 0.6459 - val_accuracy: 0.7867\n",
            "Epoch 3/50\n",
            "60/60 [==============================] - 0s 4ms/step - loss: 0.5696 - accuracy: 0.9400 - val_loss: 0.5747 - val_accuracy: 0.8067\n",
            "Epoch 4/50\n",
            "60/60 [==============================] - 0s 3ms/step - loss: 0.4240 - accuracy: 0.9567 - val_loss: 0.4905 - val_accuracy: 0.7867\n",
            "Epoch 5/50\n",
            "60/60 [==============================] - 0s 4ms/step - loss: 0.2757 - accuracy: 0.9683 - val_loss: 0.4339 - val_accuracy: 0.8067\n",
            "Epoch 6/50\n",
            "60/60 [==============================] - 0s 3ms/step - loss: 0.1708 - accuracy: 0.9817 - val_loss: 0.4058 - val_accuracy: 0.8133\n",
            "Epoch 7/50\n",
            "60/60 [==============================] - 0s 3ms/step - loss: 0.1063 - accuracy: 0.9867 - val_loss: 0.3939 - val_accuracy: 0.8067\n",
            "Epoch 8/50\n",
            "60/60 [==============================] - 0s 3ms/step - loss: 0.0678 - accuracy: 0.9933 - val_loss: 0.3923 - val_accuracy: 0.8067\n",
            "Epoch 9/50\n",
            "60/60 [==============================] - 0s 3ms/step - loss: 0.0444 - accuracy: 0.9967 - val_loss: 0.3921 - val_accuracy: 0.8133\n",
            "Epoch 10/50\n",
            "60/60 [==============================] - 0s 3ms/step - loss: 0.0305 - accuracy: 1.0000 - val_loss: 0.3939 - val_accuracy: 0.8067\n",
            "Epoch 11/50\n",
            "60/60 [==============================] - 0s 4ms/step - loss: 0.0216 - accuracy: 1.0000 - val_loss: 0.3988 - val_accuracy: 0.7933\n",
            "Epoch 12/50\n",
            "60/60 [==============================] - 0s 4ms/step - loss: 0.0160 - accuracy: 1.0000 - val_loss: 0.4042 - val_accuracy: 0.7933\n",
            "Epoch 13/50\n",
            "60/60 [==============================] - 0s 3ms/step - loss: 0.0122 - accuracy: 1.0000 - val_loss: 0.4073 - val_accuracy: 0.8000\n",
            "Epoch 14/50\n",
            "60/60 [==============================] - 0s 4ms/step - loss: 0.0096 - accuracy: 1.0000 - val_loss: 0.4118 - val_accuracy: 0.8000\n",
            "Epoch 15/50\n",
            "60/60 [==============================] - 0s 4ms/step - loss: 0.0077 - accuracy: 1.0000 - val_loss: 0.4159 - val_accuracy: 0.8000\n",
            "Epoch 16/50\n",
            "60/60 [==============================] - 0s 3ms/step - loss: 0.0062 - accuracy: 1.0000 - val_loss: 0.4187 - val_accuracy: 0.8000\n",
            "Epoch 17/50\n",
            "60/60 [==============================] - 0s 4ms/step - loss: 0.0052 - accuracy: 1.0000 - val_loss: 0.4196 - val_accuracy: 0.7933\n",
            "Epoch 18/50\n",
            "60/60 [==============================] - 0s 3ms/step - loss: 0.0044 - accuracy: 1.0000 - val_loss: 0.4230 - val_accuracy: 0.8000\n",
            "Epoch 19/50\n",
            "60/60 [==============================] - 0s 4ms/step - loss: 0.0037 - accuracy: 1.0000 - val_loss: 0.4274 - val_accuracy: 0.8000\n",
            "Epoch 20/50\n",
            "60/60 [==============================] - 0s 3ms/step - loss: 0.0032 - accuracy: 1.0000 - val_loss: 0.4299 - val_accuracy: 0.7933\n",
            "Epoch 21/50\n",
            "60/60 [==============================] - 0s 3ms/step - loss: 0.0028 - accuracy: 1.0000 - val_loss: 0.4323 - val_accuracy: 0.7933\n",
            "Epoch 22/50\n",
            "60/60 [==============================] - 0s 4ms/step - loss: 0.0024 - accuracy: 1.0000 - val_loss: 0.4346 - val_accuracy: 0.8067\n",
            "Epoch 23/50\n",
            "60/60 [==============================] - 0s 3ms/step - loss: 0.0021 - accuracy: 1.0000 - val_loss: 0.4372 - val_accuracy: 0.7933\n",
            "Epoch 24/50\n",
            "60/60 [==============================] - 0s 4ms/step - loss: 0.0019 - accuracy: 1.0000 - val_loss: 0.4396 - val_accuracy: 0.7933\n",
            "Epoch 25/50\n",
            "60/60 [==============================] - 0s 4ms/step - loss: 0.0017 - accuracy: 1.0000 - val_loss: 0.4413 - val_accuracy: 0.7933\n",
            "Epoch 26/50\n",
            "60/60 [==============================] - 0s 4ms/step - loss: 0.0015 - accuracy: 1.0000 - val_loss: 0.4427 - val_accuracy: 0.8000\n",
            "Epoch 27/50\n",
            "60/60 [==============================] - 0s 3ms/step - loss: 0.0014 - accuracy: 1.0000 - val_loss: 0.4439 - val_accuracy: 0.8000\n",
            "Epoch 28/50\n",
            "60/60 [==============================] - 0s 4ms/step - loss: 0.0012 - accuracy: 1.0000 - val_loss: 0.4463 - val_accuracy: 0.8000\n",
            "Epoch 29/50\n",
            "60/60 [==============================] - 0s 3ms/step - loss: 0.0011 - accuracy: 1.0000 - val_loss: 0.4477 - val_accuracy: 0.8000\n",
            "Epoch 30/50\n",
            "60/60 [==============================] - 0s 4ms/step - loss: 0.0010 - accuracy: 1.0000 - val_loss: 0.4493 - val_accuracy: 0.8000\n",
            "Epoch 31/50\n",
            "60/60 [==============================] - 0s 4ms/step - loss: 9.3019e-04 - accuracy: 1.0000 - val_loss: 0.4514 - val_accuracy: 0.8000\n",
            "Epoch 32/50\n",
            "60/60 [==============================] - 0s 4ms/step - loss: 8.5265e-04 - accuracy: 1.0000 - val_loss: 0.4532 - val_accuracy: 0.8000\n",
            "Epoch 33/50\n",
            "60/60 [==============================] - 0s 4ms/step - loss: 7.8344e-04 - accuracy: 1.0000 - val_loss: 0.4548 - val_accuracy: 0.8000\n",
            "Epoch 34/50\n",
            "60/60 [==============================] - 0s 4ms/step - loss: 7.2088e-04 - accuracy: 1.0000 - val_loss: 0.4564 - val_accuracy: 0.8000\n",
            "Epoch 35/50\n",
            "60/60 [==============================] - 0s 4ms/step - loss: 6.6369e-04 - accuracy: 1.0000 - val_loss: 0.4590 - val_accuracy: 0.8000\n",
            "Epoch 36/50\n",
            "60/60 [==============================] - 0s 4ms/step - loss: 6.1648e-04 - accuracy: 1.0000 - val_loss: 0.4605 - val_accuracy: 0.8000\n",
            "Epoch 37/50\n",
            "60/60 [==============================] - 0s 3ms/step - loss: 5.7069e-04 - accuracy: 1.0000 - val_loss: 0.4624 - val_accuracy: 0.8000\n",
            "Epoch 38/50\n",
            "60/60 [==============================] - 0s 4ms/step - loss: 5.2907e-04 - accuracy: 1.0000 - val_loss: 0.4637 - val_accuracy: 0.8000\n",
            "Epoch 39/50\n",
            "60/60 [==============================] - 0s 4ms/step - loss: 4.9323e-04 - accuracy: 1.0000 - val_loss: 0.4656 - val_accuracy: 0.8000\n",
            "Epoch 40/50\n",
            "60/60 [==============================] - 0s 4ms/step - loss: 4.5913e-04 - accuracy: 1.0000 - val_loss: 0.4674 - val_accuracy: 0.8000\n",
            "Epoch 41/50\n",
            "60/60 [==============================] - 0s 3ms/step - loss: 4.2766e-04 - accuracy: 1.0000 - val_loss: 0.4688 - val_accuracy: 0.8000\n",
            "Epoch 42/50\n",
            "60/60 [==============================] - 0s 3ms/step - loss: 4.0002e-04 - accuracy: 1.0000 - val_loss: 0.4705 - val_accuracy: 0.8000\n",
            "Epoch 43/50\n",
            "60/60 [==============================] - 0s 3ms/step - loss: 3.7365e-04 - accuracy: 1.0000 - val_loss: 0.4725 - val_accuracy: 0.8000\n",
            "Epoch 44/50\n",
            "60/60 [==============================] - 0s 4ms/step - loss: 3.5010e-04 - accuracy: 1.0000 - val_loss: 0.4738 - val_accuracy: 0.8000\n",
            "Epoch 45/50\n",
            "60/60 [==============================] - 0s 4ms/step - loss: 3.2839e-04 - accuracy: 1.0000 - val_loss: 0.4758 - val_accuracy: 0.8000\n",
            "Epoch 46/50\n",
            "60/60 [==============================] - 0s 4ms/step - loss: 3.0836e-04 - accuracy: 1.0000 - val_loss: 0.4773 - val_accuracy: 0.8000\n",
            "Epoch 47/50\n",
            "60/60 [==============================] - 0s 3ms/step - loss: 2.8902e-04 - accuracy: 1.0000 - val_loss: 0.4790 - val_accuracy: 0.8000\n",
            "Epoch 48/50\n",
            "60/60 [==============================] - 0s 3ms/step - loss: 2.7164e-04 - accuracy: 1.0000 - val_loss: 0.4813 - val_accuracy: 0.8000\n",
            "Epoch 49/50\n",
            "60/60 [==============================] - 0s 4ms/step - loss: 2.5494e-04 - accuracy: 1.0000 - val_loss: 0.4833 - val_accuracy: 0.8133\n",
            "Epoch 50/50\n",
            "60/60 [==============================] - 0s 4ms/step - loss: 2.4030e-04 - accuracy: 1.0000 - val_loss: 0.4848 - val_accuracy: 0.8067\n",
            "Accuracy:  0.8040000200271606\n"
          ],
          "name": "stdout"
        }
      ]
    },
    {
      "cell_type": "code",
      "metadata": {
        "colab": {
          "base_uri": "https://localhost:8080/",
          "height": 295
        },
        "id": "X1ZMLSAPiZ_4",
        "outputId": "c00d154f-a3cb-4f1b-8b6c-116c0dbc9513"
      },
      "source": [
        "plt.subplot(2,1,1)\n",
        "plt.plot(hist.history['accuracy'])\n",
        "plt.plot(hist.history['val_accuracy'])\n",
        "plt.title('model accuracy')\n",
        "plt.ylabel('accuracy')\n",
        "plt.xticks([])\n",
        "plt.legend(['train', 'test'], loc='lower right')\n",
        "\n",
        "plt.subplot(2,1,2)\n",
        "plt.plot(hist.history['loss'])\n",
        "plt.plot(hist.history['val_loss'])\n",
        "plt.title('model loss')\n",
        "plt.ylabel('loss')\n",
        "plt.xlabel('epoch')\n",
        "plt.legend(['train', 'test'], loc='upper right')\n",
        "plt.show()"
      ],
      "execution_count": null,
      "outputs": [
        {
          "output_type": "display_data",
          "data": {
            "image/png": "[encoded data removed]",
            "text/plain": [
              "<Figure size 432x288 with 2 Axes>"
            ]
          },
          "metadata": {
            "tags": [],
            "needs_background": "light"
          }
        }
      ]
    },
    {
      "cell_type": "markdown",
      "metadata": {
        "id": "tWFiVbNF2Jfd"
      },
      "source": [
        "**Q5- How do you interpret these results?**"
      ]
    },
    {
      "cell_type": "markdown",
      "metadata": {
        "id": "F9ULamO22LAw"
      },
      "source": [
        "- Overfitting"
      ]
    },
    {
      "cell_type": "code",
      "metadata": {
        "colab": {
          "base_uri": "https://localhost:8080/"
        },
        "id": "fZOiG1dKiwSG",
        "outputId": "72efc908-043e-4187-cb25-ba5a7d5e8668"
      },
      "source": [
        "# added 2 conv layers & 1 pooling layer\n",
        "from tensorflow.keras.layers import Conv1D\n",
        "embedding_dim = 50\n",
        "model = Sequential()\n",
        "model.add(layers.Embedding(input_dim=vocab_size,\n",
        "                            output_dim=embedding_dim,\n",
        "                            input_length=maxlen))\n",
        "#model.add(layers.GlobalMaxPool1D())\n",
        "model.add(Conv1D(32, 2, activation='relu'))\n",
        "model.add(Conv1D(64, 2, activation='relu'))\n",
        "model.add(layers.GlobalMaxPool1D())\n",
        "model.add(Flatten())\n",
        "model.add(layers.Dense(10, activation='relu'))\n",
        "model.add(layers.Dense(1, activation='sigmoid'))\n",
        "model.compile(optimizer='adam', loss='binary_crossentropy',\n",
        "metrics=['accuracy'])\n",
        "model.summary()\n",
        "hist = model.fit(X_train, y_train, epochs=50, validation_split=0.2, batch_size=10)\n",
        "#Testing\n",
        "loss, accuracy = model.evaluate(X_test, y_test, verbose=False)\n",
        "print(\"Accuracy: \",accuracy)"
      ],
      "execution_count": 6,
      "outputs": [
        {
          "output_type": "stream",
          "text": [
            "Model: \"sequential\"\n",
            "_________________________________________________________________\n",
            "Layer (type)                 Output Shape              Param #   \n",
            "=================================================================\n",
            "embedding (Embedding)        (None, 100, 50)           78700     \n",
            "_________________________________________________________________\n",
            "conv1d (Conv1D)              (None, 99, 32)            3232      \n",
            "_________________________________________________________________\n",
            "conv1d_1 (Conv1D)            (None, 98, 64)            4160      \n",
            "_________________________________________________________________\n",
            "global_max_pooling1d (Global (None, 64)                0         \n",
            "_________________________________________________________________\n",
            "flatten (Flatten)            (None, 64)                0         \n",
            "_________________________________________________________________\n",
            "dense (Dense)                (None, 10)                650       \n",
            "_________________________________________________________________\n",
            "dense_1 (Dense)              (None, 1)                 11        \n",
            "=================================================================\n",
            "Total params: 86,753\n",
            "Trainable params: 86,753\n",
            "Non-trainable params: 0\n",
            "_________________________________________________________________\n",
            "Epoch 1/50\n",
            "60/60 [==============================] - 32s 7ms/step - loss: 0.6908 - accuracy: 0.5400 - val_loss: 0.6845 - val_accuracy: 0.6000\n",
            "Epoch 2/50\n",
            "60/60 [==============================] - 0s 5ms/step - loss: 0.6290 - accuracy: 0.7717 - val_loss: 0.5930 - val_accuracy: 0.6667\n",
            "Epoch 3/50\n",
            "60/60 [==============================] - 0s 4ms/step - loss: 0.3600 - accuracy: 0.8817 - val_loss: 0.4953 - val_accuracy: 0.7533\n",
            "Epoch 4/50\n",
            "60/60 [==============================] - 0s 4ms/step - loss: 0.1176 - accuracy: 0.9733 - val_loss: 0.4981 - val_accuracy: 0.8067\n",
            "Epoch 5/50\n",
            "60/60 [==============================] - 0s 4ms/step - loss: 0.0336 - accuracy: 0.9900 - val_loss: 0.5384 - val_accuracy: 0.7933\n",
            "Epoch 6/50\n",
            "60/60 [==============================] - 0s 4ms/step - loss: 0.0089 - accuracy: 1.0000 - val_loss: 0.5540 - val_accuracy: 0.7733\n",
            "Epoch 7/50\n",
            "60/60 [==============================] - 0s 5ms/step - loss: 0.0039 - accuracy: 1.0000 - val_loss: 0.5871 - val_accuracy: 0.7667\n",
            "Epoch 8/50\n",
            "60/60 [==============================] - 0s 4ms/step - loss: 0.0023 - accuracy: 1.0000 - val_loss: 0.6119 - val_accuracy: 0.7733\n",
            "Epoch 9/50\n",
            "60/60 [==============================] - 0s 5ms/step - loss: 0.0016 - accuracy: 1.0000 - val_loss: 0.6301 - val_accuracy: 0.7667\n",
            "Epoch 10/50\n",
            "60/60 [==============================] - 0s 4ms/step - loss: 0.0012 - accuracy: 1.0000 - val_loss: 0.6456 - val_accuracy: 0.7667\n",
            "Epoch 11/50\n",
            "60/60 [==============================] - 0s 4ms/step - loss: 9.2718e-04 - accuracy: 1.0000 - val_loss: 0.6605 - val_accuracy: 0.7733\n",
            "Epoch 12/50\n",
            "60/60 [==============================] - 0s 4ms/step - loss: 7.3367e-04 - accuracy: 1.0000 - val_loss: 0.6726 - val_accuracy: 0.7733\n",
            "Epoch 13/50\n",
            "60/60 [==============================] - 0s 4ms/step - loss: 5.9716e-04 - accuracy: 1.0000 - val_loss: 0.6848 - val_accuracy: 0.7733\n",
            "Epoch 14/50\n",
            "60/60 [==============================] - 0s 4ms/step - loss: 4.9677e-04 - accuracy: 1.0000 - val_loss: 0.6952 - val_accuracy: 0.7733\n",
            "Epoch 15/50\n",
            "60/60 [==============================] - 0s 4ms/step - loss: 4.1968e-04 - accuracy: 1.0000 - val_loss: 0.7065 - val_accuracy: 0.7733\n",
            "Epoch 16/50\n",
            "60/60 [==============================] - 0s 4ms/step - loss: 3.5544e-04 - accuracy: 1.0000 - val_loss: 0.7169 - val_accuracy: 0.7733\n",
            "Epoch 17/50\n",
            "60/60 [==============================] - 0s 5ms/step - loss: 3.0753e-04 - accuracy: 1.0000 - val_loss: 0.7251 - val_accuracy: 0.7733\n",
            "Epoch 18/50\n",
            "60/60 [==============================] - 0s 4ms/step - loss: 2.6829e-04 - accuracy: 1.0000 - val_loss: 0.7337 - val_accuracy: 0.7733\n",
            "Epoch 19/50\n",
            "60/60 [==============================] - 0s 4ms/step - loss: 2.3647e-04 - accuracy: 1.0000 - val_loss: 0.7415 - val_accuracy: 0.7733\n",
            "Epoch 20/50\n",
            "60/60 [==============================] - 0s 4ms/step - loss: 2.0897e-04 - accuracy: 1.0000 - val_loss: 0.7497 - val_accuracy: 0.7733\n",
            "Epoch 21/50\n",
            "60/60 [==============================] - 0s 4ms/step - loss: 1.8719e-04 - accuracy: 1.0000 - val_loss: 0.7560 - val_accuracy: 0.7667\n",
            "Epoch 22/50\n",
            "60/60 [==============================] - 0s 4ms/step - loss: 1.6723e-04 - accuracy: 1.0000 - val_loss: 0.7628 - val_accuracy: 0.7667\n",
            "Epoch 23/50\n",
            "60/60 [==============================] - 0s 4ms/step - loss: 1.4704e-04 - accuracy: 1.0000 - val_loss: 0.7757 - val_accuracy: 0.7667\n",
            "Epoch 24/50\n",
            "60/60 [==============================] - 0s 4ms/step - loss: 1.1271e-04 - accuracy: 1.0000 - val_loss: 0.8037 - val_accuracy: 0.7667\n",
            "Epoch 25/50\n",
            "60/60 [==============================] - 0s 5ms/step - loss: 7.7357e-05 - accuracy: 1.0000 - val_loss: 0.8376 - val_accuracy: 0.7667\n",
            "Epoch 26/50\n",
            "60/60 [==============================] - 0s 5ms/step - loss: 5.6816e-05 - accuracy: 1.0000 - val_loss: 0.8643 - val_accuracy: 0.7667\n",
            "Epoch 27/50\n",
            "60/60 [==============================] - 0s 4ms/step - loss: 4.3517e-05 - accuracy: 1.0000 - val_loss: 0.8893 - val_accuracy: 0.7667\n",
            "Epoch 28/50\n",
            "60/60 [==============================] - 0s 4ms/step - loss: 3.5112e-05 - accuracy: 1.0000 - val_loss: 0.9098 - val_accuracy: 0.7667\n",
            "Epoch 29/50\n",
            "60/60 [==============================] - 0s 4ms/step - loss: 2.9221e-05 - accuracy: 1.0000 - val_loss: 0.9290 - val_accuracy: 0.7667\n",
            "Epoch 30/50\n",
            "60/60 [==============================] - 0s 5ms/step - loss: 2.4930e-05 - accuracy: 1.0000 - val_loss: 0.9457 - val_accuracy: 0.7733\n",
            "Epoch 31/50\n",
            "60/60 [==============================] - 0s 4ms/step - loss: 2.1518e-05 - accuracy: 1.0000 - val_loss: 0.9608 - val_accuracy: 0.7667\n",
            "Epoch 32/50\n",
            "60/60 [==============================] - 0s 4ms/step - loss: 1.8929e-05 - accuracy: 1.0000 - val_loss: 0.9748 - val_accuracy: 0.7667\n",
            "Epoch 33/50\n",
            "60/60 [==============================] - 0s 5ms/step - loss: 1.6702e-05 - accuracy: 1.0000 - val_loss: 0.9866 - val_accuracy: 0.7733\n",
            "Epoch 34/50\n",
            "60/60 [==============================] - 0s 5ms/step - loss: 1.5009e-05 - accuracy: 1.0000 - val_loss: 0.9991 - val_accuracy: 0.7667\n",
            "Epoch 35/50\n",
            "60/60 [==============================] - 0s 4ms/step - loss: 1.3462e-05 - accuracy: 1.0000 - val_loss: 1.0100 - val_accuracy: 0.7733\n",
            "Epoch 36/50\n",
            "60/60 [==============================] - 0s 5ms/step - loss: 1.2189e-05 - accuracy: 1.0000 - val_loss: 1.0226 - val_accuracy: 0.7800\n",
            "Epoch 37/50\n",
            "60/60 [==============================] - 0s 4ms/step - loss: 1.1077e-05 - accuracy: 1.0000 - val_loss: 1.0325 - val_accuracy: 0.7800\n",
            "Epoch 38/50\n",
            "60/60 [==============================] - 0s 4ms/step - loss: 1.0117e-05 - accuracy: 1.0000 - val_loss: 1.0433 - val_accuracy: 0.7800\n",
            "Epoch 39/50\n",
            "60/60 [==============================] - 0s 4ms/step - loss: 9.2626e-06 - accuracy: 1.0000 - val_loss: 1.0526 - val_accuracy: 0.7800\n",
            "Epoch 40/50\n",
            "60/60 [==============================] - 0s 5ms/step - loss: 8.5382e-06 - accuracy: 1.0000 - val_loss: 1.0619 - val_accuracy: 0.7800\n",
            "Epoch 41/50\n",
            "60/60 [==============================] - 0s 4ms/step - loss: 7.8722e-06 - accuracy: 1.0000 - val_loss: 1.0707 - val_accuracy: 0.7800\n",
            "Epoch 42/50\n",
            "60/60 [==============================] - 0s 4ms/step - loss: 7.2714e-06 - accuracy: 1.0000 - val_loss: 1.0799 - val_accuracy: 0.7800\n",
            "Epoch 43/50\n",
            "60/60 [==============================] - 0s 4ms/step - loss: 6.7411e-06 - accuracy: 1.0000 - val_loss: 1.0880 - val_accuracy: 0.7800\n",
            "Epoch 44/50\n",
            "60/60 [==============================] - 0s 4ms/step - loss: 6.2824e-06 - accuracy: 1.0000 - val_loss: 1.0965 - val_accuracy: 0.7800\n",
            "Epoch 45/50\n",
            "60/60 [==============================] - 0s 5ms/step - loss: 5.8287e-06 - accuracy: 1.0000 - val_loss: 1.1038 - val_accuracy: 0.7733\n",
            "Epoch 46/50\n",
            "60/60 [==============================] - 0s 5ms/step - loss: 5.4488e-06 - accuracy: 1.0000 - val_loss: 1.1120 - val_accuracy: 0.7800\n",
            "Epoch 47/50\n",
            "60/60 [==============================] - 0s 4ms/step - loss: 5.0853e-06 - accuracy: 1.0000 - val_loss: 1.1193 - val_accuracy: 0.7733\n",
            "Epoch 48/50\n",
            "60/60 [==============================] - 0s 4ms/step - loss: 4.7529e-06 - accuracy: 1.0000 - val_loss: 1.1270 - val_accuracy: 0.7733\n",
            "Epoch 49/50\n",
            "60/60 [==============================] - 0s 4ms/step - loss: 4.4591e-06 - accuracy: 1.0000 - val_loss: 1.1340 - val_accuracy: 0.7667\n",
            "Epoch 50/50\n",
            "60/60 [==============================] - 0s 4ms/step - loss: 4.1920e-06 - accuracy: 1.0000 - val_loss: 1.1413 - val_accuracy: 0.7667\n",
            "Accuracy:  0.7720000147819519\n"
          ],
          "name": "stdout"
        }
      ]
    },
    {
      "cell_type": "code",
      "metadata": {
        "id": "oO-gqEZf4kej",
        "colab": {
          "base_uri": "https://localhost:8080/",
          "height": 295
        },
        "outputId": "17bb9603-fe67-4f53-9ecd-828cb4114d97"
      },
      "source": [
        "plt.subplot(2,1,1)\n",
        "plt.plot(hist.history['accuracy'])\n",
        "plt.plot(hist.history['val_accuracy'])\n",
        "plt.title('model accuracy')\n",
        "plt.ylabel('accuracy')\n",
        "plt.xticks([])\n",
        "plt.legend(['train', 'test'], loc='lower right')\n",
        "\n",
        "plt.subplot(2,1,2)\n",
        "plt.plot(hist.history['loss'])\n",
        "plt.plot(hist.history['val_loss'])\n",
        "plt.title('model loss')\n",
        "plt.ylabel('loss')\n",
        "plt.xlabel('epoch')\n",
        "plt.legend(['train', 'test'], loc='upper right')\n",
        "plt.show()"
      ],
      "execution_count": 7,
      "outputs": [
        {
          "output_type": "display_data",
          "data": {
            "image/png": "[encoded data removed]",
            "text/plain": [
              "<Figure size 432x288 with 2 Axes>"
            ]
          },
          "metadata": {
            "tags": [],
            "needs_background": "light"
          }
        }
      ]
    },
    {
      "cell_type": "code",
      "metadata": {
        "id": "TFal14gsuQlX",
        "outputId": "0b04d347-dcc9-46b1-8f61-af2419949935",
        "colab": {
          "base_uri": "https://localhost:8080/"
        }
      },
      "source": [
        "import pandas as pd\n",
        "#import data\n",
        "df = pd.read_csv('/content/gdrive/MyDrive/Colab Notebooks/amazon_cells_labelled.txt', names=[\n",
        "'sentence', 'label'], sep='\\t')   \n",
        "print(df.iloc[0])\n",
        "from sklearn.model_selection import train_test_split\n",
        "sentences = df['sentence'].values\n",
        "y = df['label'].values\n",
        "\n",
        "#shuffle data\n",
        "rng_state = np.random.get_state()\n",
        "np.random.shuffle(sentences)\n",
        "np.random.set_state(rng_state)\n",
        "np.random.shuffle(y)\n",
        "\n",
        "#split data\n",
        "sentences_train, sentences_test, y_train, y_test = train_test_split(sentences, y, test_size=0.25, random_state=1000)\n",
        "\n",
        "#convert data into a sequence\n",
        "from keras.preprocessing.text import Tokenizer\n",
        "tokenizer = Tokenizer(num_words=5000)\n",
        "tokenizer.fit_on_texts(sentences_train)\n",
        "X_train = tokenizer.texts_to_sequences(sentences_train)\n",
        "X_test = tokenizer.texts_to_sequences(sentences_test)\n",
        "vocab_size = len(tokenizer.word_index) + 1 # Adding 1 because of reserved 0 index\n",
        "\n",
        "# Pad variables with zeros\n",
        "from keras.preprocessing.sequence import pad_sequences\n",
        "maxlen = 100\n",
        "X_train = pad_sequences(X_train, padding='post', maxlen=maxlen)\n",
        "X_test = pad_sequences(X_test, padding='post', maxlen=maxlen)\n",
        "\n",
        "#Embed\n",
        "from tensorflow.keras.layers import Conv1D\n",
        "embedding_dim = 50\n",
        "model = Sequential()\n",
        "model.add(layers.Embedding(input_dim=vocab_size,\n",
        "                            output_dim=embedding_dim,\n",
        "                            input_length=maxlen))\n",
        "#model.add(layers.GlobalMaxPool1D())\n",
        "model.add(Conv1D(32, 2, activation='relu'))\n",
        "model.add(Conv1D(64, 2, activation='relu'))\n",
        "model.add(layers.GlobalMaxPool1D())\n",
        "model.add(Flatten())\n",
        "model.add(layers.Dense(10, activation='relu'))\n",
        "model.add(layers.Dense(1, activation='sigmoid'))\n",
        "model.compile(optimizer='adam', loss='binary_crossentropy',\n",
        "metrics=['accuracy'])\n",
        "model.summary()\n",
        "hist = model.fit(X_train, y_train, epochs=50, validation_split=0.2, batch_size=10)\n",
        "#Testing\n",
        "loss, accuracy = model.evaluate(X_test, y_test, verbose=False)\n",
        "print(\"Accuracy: \",accuracy)"
      ],
      "execution_count": 8,
      "outputs": [
        {
          "output_type": "stream",
          "text": [
            "sentence    So there is no way for me to plug it in here i...\n",
            "label                                                       0\n",
            "Name: 0, dtype: object\n",
            "Model: \"sequential_1\"\n",
            "_________________________________________________________________\n",
            "Layer (type)                 Output Shape              Param #   \n",
            "=================================================================\n",
            "embedding_1 (Embedding)      (None, 100, 50)           77550     \n",
            "_________________________________________________________________\n",
            "conv1d_2 (Conv1D)            (None, 99, 32)            3232      \n",
            "_________________________________________________________________\n",
            "conv1d_3 (Conv1D)            (None, 98, 64)            4160      \n",
            "_________________________________________________________________\n",
            "global_max_pooling1d_1 (Glob (None, 64)                0         \n",
            "_________________________________________________________________\n",
            "flatten_1 (Flatten)          (None, 64)                0         \n",
            "_________________________________________________________________\n",
            "dense_2 (Dense)              (None, 10)                650       \n",
            "_________________________________________________________________\n",
            "dense_3 (Dense)              (None, 1)                 11        \n",
            "=================================================================\n",
            "Total params: 85,603\n",
            "Trainable params: 85,603\n",
            "Non-trainable params: 0\n",
            "_________________________________________________________________\n",
            "Epoch 1/50\n",
            "60/60 [==============================] - 1s 7ms/step - loss: 0.6893 - accuracy: 0.5317 - val_loss: 0.6655 - val_accuracy: 0.6133\n",
            "Epoch 2/50\n",
            "60/60 [==============================] - 0s 4ms/step - loss: 0.6007 - accuracy: 0.7750 - val_loss: 0.5203 - val_accuracy: 0.7267\n",
            "Epoch 3/50\n",
            "60/60 [==============================] - 0s 4ms/step - loss: 0.3257 - accuracy: 0.9117 - val_loss: 0.4847 - val_accuracy: 0.7800\n",
            "Epoch 4/50\n",
            "60/60 [==============================] - 0s 4ms/step - loss: 0.1054 - accuracy: 0.9700 - val_loss: 0.5447 - val_accuracy: 0.8133\n",
            "Epoch 5/50\n",
            "60/60 [==============================] - 0s 4ms/step - loss: 0.0255 - accuracy: 0.9983 - val_loss: 0.6122 - val_accuracy: 0.8133\n",
            "Epoch 6/50\n",
            "60/60 [==============================] - 0s 4ms/step - loss: 0.0074 - accuracy: 1.0000 - val_loss: 0.6747 - val_accuracy: 0.8200\n",
            "Epoch 7/50\n",
            "60/60 [==============================] - 0s 4ms/step - loss: 0.0036 - accuracy: 1.0000 - val_loss: 0.7195 - val_accuracy: 0.7933\n",
            "Epoch 8/50\n",
            "60/60 [==============================] - 0s 4ms/step - loss: 0.0022 - accuracy: 1.0000 - val_loss: 0.7589 - val_accuracy: 0.7933\n",
            "Epoch 9/50\n",
            "60/60 [==============================] - 0s 4ms/step - loss: 0.0015 - accuracy: 1.0000 - val_loss: 0.7841 - val_accuracy: 0.8000\n",
            "Epoch 10/50\n",
            "60/60 [==============================] - 0s 4ms/step - loss: 0.0012 - accuracy: 1.0000 - val_loss: 0.8117 - val_accuracy: 0.7933\n",
            "Epoch 11/50\n",
            "60/60 [==============================] - 0s 4ms/step - loss: 8.9207e-04 - accuracy: 1.0000 - val_loss: 0.8327 - val_accuracy: 0.7933\n",
            "Epoch 12/50\n",
            "60/60 [==============================] - 0s 4ms/step - loss: 7.0696e-04 - accuracy: 1.0000 - val_loss: 0.8524 - val_accuracy: 0.8000\n",
            "Epoch 13/50\n",
            "60/60 [==============================] - 0s 5ms/step - loss: 5.7512e-04 - accuracy: 1.0000 - val_loss: 0.8722 - val_accuracy: 0.7933\n",
            "Epoch 14/50\n",
            "60/60 [==============================] - 0s 4ms/step - loss: 4.7562e-04 - accuracy: 1.0000 - val_loss: 0.8872 - val_accuracy: 0.8000\n",
            "Epoch 15/50\n",
            "60/60 [==============================] - 0s 4ms/step - loss: 4.0194e-04 - accuracy: 1.0000 - val_loss: 0.9016 - val_accuracy: 0.8000\n",
            "Epoch 16/50\n",
            "60/60 [==============================] - 0s 5ms/step - loss: 3.4317e-04 - accuracy: 1.0000 - val_loss: 0.9162 - val_accuracy: 0.8000\n",
            "Epoch 17/50\n",
            "60/60 [==============================] - 0s 5ms/step - loss: 2.9598e-04 - accuracy: 1.0000 - val_loss: 0.9299 - val_accuracy: 0.8000\n",
            "Epoch 18/50\n",
            "60/60 [==============================] - 0s 5ms/step - loss: 2.5789e-04 - accuracy: 1.0000 - val_loss: 0.9428 - val_accuracy: 0.7933\n",
            "Epoch 19/50\n",
            "60/60 [==============================] - 0s 5ms/step - loss: 2.2635e-04 - accuracy: 1.0000 - val_loss: 0.9540 - val_accuracy: 0.7933\n",
            "Epoch 20/50\n",
            "60/60 [==============================] - 0s 4ms/step - loss: 2.0036e-04 - accuracy: 1.0000 - val_loss: 0.9664 - val_accuracy: 0.7933\n",
            "Epoch 21/50\n",
            "60/60 [==============================] - 0s 5ms/step - loss: 1.7785e-04 - accuracy: 1.0000 - val_loss: 0.9759 - val_accuracy: 0.7933\n",
            "Epoch 22/50\n",
            "60/60 [==============================] - 0s 4ms/step - loss: 1.5962e-04 - accuracy: 1.0000 - val_loss: 0.9865 - val_accuracy: 0.7933\n",
            "Epoch 23/50\n",
            "60/60 [==============================] - 0s 4ms/step - loss: 1.4366e-04 - accuracy: 1.0000 - val_loss: 0.9974 - val_accuracy: 0.7933\n",
            "Epoch 24/50\n",
            "60/60 [==============================] - 0s 4ms/step - loss: 1.2956e-04 - accuracy: 1.0000 - val_loss: 1.0062 - val_accuracy: 0.7933\n",
            "Epoch 25/50\n",
            "60/60 [==============================] - 0s 4ms/step - loss: 1.1743e-04 - accuracy: 1.0000 - val_loss: 1.0154 - val_accuracy: 0.7933\n",
            "Epoch 26/50\n",
            "60/60 [==============================] - 0s 4ms/step - loss: 1.0680e-04 - accuracy: 1.0000 - val_loss: 1.0243 - val_accuracy: 0.7933\n",
            "Epoch 27/50\n",
            "60/60 [==============================] - 0s 4ms/step - loss: 9.7477e-05 - accuracy: 1.0000 - val_loss: 1.0325 - val_accuracy: 0.7933\n",
            "Epoch 28/50\n",
            "60/60 [==============================] - 0s 5ms/step - loss: 8.9118e-05 - accuracy: 1.0000 - val_loss: 1.0416 - val_accuracy: 0.7933\n",
            "Epoch 29/50\n",
            "60/60 [==============================] - 0s 5ms/step - loss: 8.1908e-05 - accuracy: 1.0000 - val_loss: 1.0499 - val_accuracy: 0.7800\n",
            "Epoch 30/50\n",
            "60/60 [==============================] - 0s 4ms/step - loss: 7.5446e-05 - accuracy: 1.0000 - val_loss: 1.0572 - val_accuracy: 0.7867\n",
            "Epoch 31/50\n",
            "60/60 [==============================] - 0s 4ms/step - loss: 6.9449e-05 - accuracy: 1.0000 - val_loss: 1.0652 - val_accuracy: 0.7800\n",
            "Epoch 32/50\n",
            "60/60 [==============================] - 0s 4ms/step - loss: 6.4163e-05 - accuracy: 1.0000 - val_loss: 1.0723 - val_accuracy: 0.7800\n",
            "Epoch 33/50\n",
            "60/60 [==============================] - 0s 4ms/step - loss: 5.9394e-05 - accuracy: 1.0000 - val_loss: 1.0791 - val_accuracy: 0.7800\n",
            "Epoch 34/50\n",
            "60/60 [==============================] - 0s 4ms/step - loss: 5.5038e-05 - accuracy: 1.0000 - val_loss: 1.0862 - val_accuracy: 0.7800\n",
            "Epoch 35/50\n",
            "60/60 [==============================] - 0s 4ms/step - loss: 5.1075e-05 - accuracy: 1.0000 - val_loss: 1.0938 - val_accuracy: 0.7800\n",
            "Epoch 36/50\n",
            "60/60 [==============================] - 0s 4ms/step - loss: 4.7636e-05 - accuracy: 1.0000 - val_loss: 1.1001 - val_accuracy: 0.7800\n",
            "Epoch 37/50\n",
            "60/60 [==============================] - 0s 5ms/step - loss: 4.4465e-05 - accuracy: 1.0000 - val_loss: 1.1067 - val_accuracy: 0.7800\n",
            "Epoch 38/50\n",
            "60/60 [==============================] - 0s 5ms/step - loss: 4.1642e-05 - accuracy: 1.0000 - val_loss: 1.1134 - val_accuracy: 0.7800\n",
            "Epoch 39/50\n",
            "60/60 [==============================] - 0s 5ms/step - loss: 3.8950e-05 - accuracy: 1.0000 - val_loss: 1.1197 - val_accuracy: 0.7800\n",
            "Epoch 40/50\n",
            "60/60 [==============================] - 0s 4ms/step - loss: 3.6512e-05 - accuracy: 1.0000 - val_loss: 1.1253 - val_accuracy: 0.7800\n",
            "Epoch 41/50\n",
            "60/60 [==============================] - 0s 4ms/step - loss: 3.4274e-05 - accuracy: 1.0000 - val_loss: 1.1318 - val_accuracy: 0.7800\n",
            "Epoch 42/50\n",
            "60/60 [==============================] - 0s 4ms/step - loss: 3.2253e-05 - accuracy: 1.0000 - val_loss: 1.1373 - val_accuracy: 0.7800\n",
            "Epoch 43/50\n",
            "60/60 [==============================] - 0s 4ms/step - loss: 3.0334e-05 - accuracy: 1.0000 - val_loss: 1.1430 - val_accuracy: 0.7800\n",
            "Epoch 44/50\n",
            "60/60 [==============================] - 0s 4ms/step - loss: 2.8581e-05 - accuracy: 1.0000 - val_loss: 1.1491 - val_accuracy: 0.7800\n",
            "Epoch 45/50\n",
            "60/60 [==============================] - 0s 4ms/step - loss: 2.6954e-05 - accuracy: 1.0000 - val_loss: 1.1547 - val_accuracy: 0.7800\n",
            "Epoch 46/50\n",
            "60/60 [==============================] - 0s 4ms/step - loss: 2.5415e-05 - accuracy: 1.0000 - val_loss: 1.1596 - val_accuracy: 0.7800\n",
            "Epoch 47/50\n",
            "60/60 [==============================] - 0s 4ms/step - loss: 2.3991e-05 - accuracy: 1.0000 - val_loss: 1.1655 - val_accuracy: 0.7800\n",
            "Epoch 48/50\n",
            "60/60 [==============================] - 0s 4ms/step - loss: 2.2686e-05 - accuracy: 1.0000 - val_loss: 1.1710 - val_accuracy: 0.7800\n",
            "Epoch 49/50\n",
            "60/60 [==============================] - 0s 4ms/step - loss: 2.1485e-05 - accuracy: 1.0000 - val_loss: 1.1765 - val_accuracy: 0.7800\n",
            "Epoch 50/50\n",
            "60/60 [==============================] - 0s 5ms/step - loss: 2.0338e-05 - accuracy: 1.0000 - val_loss: 1.1817 - val_accuracy: 0.7800\n",
            "Accuracy:  0.7839999794960022\n"
          ],
          "name": "stdout"
        }
      ]
    },
    {
      "cell_type": "code",
      "metadata": {
        "id": "eThkWCFFvtNy",
        "outputId": "cacc41e6-820c-4847-82aa-0bd02fe242de",
        "colab": {
          "base_uri": "https://localhost:8080/",
          "height": 295
        }
      },
      "source": [
        "plt.subplot(2,1,1)\n",
        "plt.plot(hist.history['accuracy'])\n",
        "plt.plot(hist.history['val_accuracy'])\n",
        "plt.title('model accuracy')\n",
        "plt.ylabel('accuracy')\n",
        "plt.xticks([])\n",
        "plt.legend(['train', 'test'], loc='lower right')\n",
        "\n",
        "plt.subplot(2,1,2)\n",
        "plt.plot(hist.history['loss'])\n",
        "plt.plot(hist.history['val_loss'])\n",
        "plt.title('model loss')\n",
        "plt.ylabel('loss')\n",
        "plt.xlabel('epoch')\n",
        "plt.legend(['train', 'test'], loc='upper right')\n",
        "plt.show()"
      ],
      "execution_count": 9,
      "outputs": [
        {
          "output_type": "display_data",
          "data": {
            "image/png": "[encoded data removed]",
            "text/plain": [
              "<Figure size 432x288 with 2 Axes>"
            ]
          },
          "metadata": {
            "tags": [],
            "needs_background": "light"
          }
        }
      ]
    },
    {
      "cell_type": "markdown",
      "metadata": {
        "id": "4FNJWgJ32MQD"
      },
      "source": [
        "**Q6- What is your recommendation to improve the accuracy? Implement your idea.**"
      ]
    },
    {
      "cell_type": "markdown",
      "metadata": {
        "id": "CT7eC3fD2P0T"
      },
      "source": [
        "- ANS"
      ]
    },
    {
      "cell_type": "code",
      "metadata": {
        "id": "KAiJ5tig2R5c"
      },
      "source": [
        "%shell jupyter nbconvert --to html '//content/gdrive/My Drive/Colab\n",
        "Notebooks/filename.ipynb'"
      ],
      "execution_count": null,
      "outputs": []
    }
  ]
}