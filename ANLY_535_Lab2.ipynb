{
  "nbformat": 4,
  "nbformat_minor": 0,
  "metadata": {
    "colab": {
      "name": "ANLY-535_Lab2.ipynb",
      "provenance": [],
      "collapsed_sections": [],
      "authorship_tag": "ABX9TyNPpsormOhsEo8hSfKlm19f",
      "include_colab_link": true
    },
    "kernelspec": {
      "name": "python3",
      "display_name": "Python 3"
    },
    "language_info": {
      "name": "python"
    },
    "accelerator": "GPU"
  },
  "cells": [
    {
      "cell_type": "markdown",
      "metadata": {
        "id": "view-in-github",
        "colab_type": "text"
      },
      "source": [
        "<a href=\"https://colab.research.google.com/github/rajkumarin/Deep_Learning_on_Images/blob/main/ANLY_535_Lab2.ipynb\" target=\"_parent\"><img src=\"https://colab.research.google.com/assets/colab-badge.svg\" alt=\"Open In Colab\"/></a>"
      ]
    },
    {
      "cell_type": "markdown",
      "metadata": {
        "id": "8tBfXJ8SzNwL"
      },
      "source": [
        "# **STEP1. Introduction to GPU**"
      ]
    },
    {
      "cell_type": "code",
      "metadata": {
        "colab": {
          "base_uri": "https://localhost:8080/"
        },
        "id": "csYXtYUCNIwI",
        "outputId": "2ecd006f-8b17-4a08-ab82-5912c5ce53cb"
      },
      "source": [
        "from tensorflow.python.client import device_lib\n",
        "print(\"Show System RAM Memory:\\n\\n\")\n",
        "!cat /proc/meminfo | egrep \"MemTotal*\"\n",
        "print(\"\\n\\nShow Devices:\\n\\n\"+str(device_lib.list_local_devices()))"
      ],
      "execution_count": 1,
      "outputs": [
        {
          "output_type": "stream",
          "text": [
            "Show System RAM Memory:\n",
            "\n",
            "\n",
            "MemTotal:       13305368 kB\n",
            "\n",
            "\n",
            "Show Devices:\n",
            "\n",
            "[name: \"/device:CPU:0\"\n",
            "device_type: \"CPU\"\n",
            "memory_limit: 268435456\n",
            "locality {\n",
            "}\n",
            "incarnation: 8880522304696618421\n",
            ", name: \"/device:GPU:0\"\n",
            "device_type: \"GPU\"\n",
            "memory_limit: 14509932544\n",
            "locality {\n",
            "  bus_id: 1\n",
            "  links {\n",
            "  }\n",
            "}\n",
            "incarnation: 2107300744349938812\n",
            "physical_device_desc: \"device: 0, name: Tesla T4, pci bus id: 0000:00:04.0, compute capability: 7.5\"\n",
            "]\n"
          ],
          "name": "stdout"
        }
      ]
    },
    {
      "cell_type": "code",
      "metadata": {
        "colab": {
          "base_uri": "https://localhost:8080/",
          "height": 35
        },
        "id": "CzDftmu-OqDa",
        "outputId": "ebc163ae-d107-45cc-e9c7-8e045d11c915"
      },
      "source": [
        "import tensorflow as tf\n",
        "tf.__version__"
      ],
      "execution_count": 2,
      "outputs": [
        {
          "output_type": "execute_result",
          "data": {
            "application/vnd.google.colaboratory.intrinsic+json": {
              "type": "string"
            },
            "text/plain": [
              "'2.5.0'"
            ]
          },
          "metadata": {
            "tags": []
          },
          "execution_count": 2
        }
      ]
    },
    {
      "cell_type": "code",
      "metadata": {
        "colab": {
          "base_uri": "https://localhost:8080/"
        },
        "id": "CPkklP1MOsSp",
        "outputId": "844fd11e-d6b3-47c5-c34f-550e393600b2"
      },
      "source": [
        "from google.colab import drive\n",
        "drive.mount('/content/gdrive')"
      ],
      "execution_count": 3,
      "outputs": [
        {
          "output_type": "stream",
          "text": [
            "Mounted at /content/gdrive\n"
          ],
          "name": "stdout"
        }
      ]
    },
    {
      "cell_type": "code",
      "metadata": {
        "colab": {
          "base_uri": "https://localhost:8080/"
        },
        "id": "jlB6k__vSefP",
        "outputId": "2e2d1421-dd75-4b38-8698-86e3f7b2d1c2"
      },
      "source": [
        "import time\n",
        "start = time.time()\n",
        "!python3 \"/content/gdrive/MyDrive/Colab Notebooks/mnist_cnn.py\"\n",
        "end = time.time()\n",
        "print(end - start)"
      ],
      "execution_count": 4,
      "outputs": [
        {
          "output_type": "stream",
          "text": [
            "2021-07-01 15:43:55.631329: I tensorflow/stream_executor/platform/default/dso_loader.cc:53] Successfully opened dynamic library libcudart.so.11.0\n",
            "Downloading data from https://storage.googleapis.com/tensorflow/tf-keras-datasets/mnist.npz\n",
            "11493376/11490434 [==============================] - 0s 0us/step\n",
            "x_train shape: (60000, 28, 28, 1)\n",
            "60000 train samples\n",
            "10000 test samples\n",
            "2021-07-01 15:43:57.748668: I tensorflow/stream_executor/platform/default/dso_loader.cc:53] Successfully opened dynamic library libcuda.so.1\n",
            "2021-07-01 15:43:57.753756: I tensorflow/stream_executor/cuda/cuda_gpu_executor.cc:937] successful NUMA node read from SysFS had negative value (-1), but there must be at least one NUMA node, so returning NUMA node zero\n",
            "2021-07-01 15:43:57.754317: I tensorflow/core/common_runtime/gpu/gpu_device.cc:1733] Found device 0 with properties: \n",
            "pciBusID: 0000:00:04.0 name: Tesla T4 computeCapability: 7.5\n",
            "coreClock: 1.59GHz coreCount: 40 deviceMemorySize: 14.75GiB deviceMemoryBandwidth: 298.08GiB/s\n",
            "2021-07-01 15:43:57.754359: I tensorflow/stream_executor/platform/default/dso_loader.cc:53] Successfully opened dynamic library libcudart.so.11.0\n",
            "2021-07-01 15:43:57.756349: I tensorflow/stream_executor/platform/default/dso_loader.cc:53] Successfully opened dynamic library libcublas.so.11\n",
            "2021-07-01 15:43:57.756424: I tensorflow/stream_executor/platform/default/dso_loader.cc:53] Successfully opened dynamic library libcublasLt.so.11\n",
            "2021-07-01 15:43:57.758031: I tensorflow/stream_executor/platform/default/dso_loader.cc:53] Successfully opened dynamic library libcufft.so.10\n",
            "2021-07-01 15:43:57.758367: I tensorflow/stream_executor/platform/default/dso_loader.cc:53] Successfully opened dynamic library libcurand.so.10\n",
            "2021-07-01 15:43:57.759891: I tensorflow/stream_executor/platform/default/dso_loader.cc:53] Successfully opened dynamic library libcusolver.so.10\n",
            "2021-07-01 15:43:57.760345: I tensorflow/stream_executor/platform/default/dso_loader.cc:53] Successfully opened dynamic library libcusparse.so.11\n",
            "2021-07-01 15:43:57.760537: I tensorflow/stream_executor/platform/default/dso_loader.cc:53] Successfully opened dynamic library libcudnn.so.8\n",
            "2021-07-01 15:43:57.760624: I tensorflow/stream_executor/cuda/cuda_gpu_executor.cc:937] successful NUMA node read from SysFS had negative value (-1), but there must be at least one NUMA node, so returning NUMA node zero\n",
            "2021-07-01 15:43:57.761184: I tensorflow/stream_executor/cuda/cuda_gpu_executor.cc:937] successful NUMA node read from SysFS had negative value (-1), but there must be at least one NUMA node, so returning NUMA node zero\n",
            "2021-07-01 15:43:57.761700: I tensorflow/core/common_runtime/gpu/gpu_device.cc:1871] Adding visible gpu devices: 0\n",
            "2021-07-01 15:43:57.762170: I tensorflow/stream_executor/cuda/cuda_gpu_executor.cc:937] successful NUMA node read from SysFS had negative value (-1), but there must be at least one NUMA node, so returning NUMA node zero\n",
            "2021-07-01 15:43:57.762705: I tensorflow/core/common_runtime/gpu/gpu_device.cc:1733] Found device 0 with properties: \n",
            "pciBusID: 0000:00:04.0 name: Tesla T4 computeCapability: 7.5\n",
            "coreClock: 1.59GHz coreCount: 40 deviceMemorySize: 14.75GiB deviceMemoryBandwidth: 298.08GiB/s\n",
            "2021-07-01 15:43:57.762779: I tensorflow/stream_executor/cuda/cuda_gpu_executor.cc:937] successful NUMA node read from SysFS had negative value (-1), but there must be at least one NUMA node, so returning NUMA node zero\n",
            "2021-07-01 15:43:57.763306: I tensorflow/stream_executor/cuda/cuda_gpu_executor.cc:937] successful NUMA node read from SysFS had negative value (-1), but there must be at least one NUMA node, so returning NUMA node zero\n",
            "2021-07-01 15:43:57.763801: I tensorflow/core/common_runtime/gpu/gpu_device.cc:1871] Adding visible gpu devices: 0\n",
            "2021-07-01 15:43:57.763850: I tensorflow/stream_executor/platform/default/dso_loader.cc:53] Successfully opened dynamic library libcudart.so.11.0\n",
            "2021-07-01 15:43:58.385818: I tensorflow/core/common_runtime/gpu/gpu_device.cc:1258] Device interconnect StreamExecutor with strength 1 edge matrix:\n",
            "2021-07-01 15:43:58.385872: I tensorflow/core/common_runtime/gpu/gpu_device.cc:1264]      0 \n",
            "2021-07-01 15:43:58.385888: I tensorflow/core/common_runtime/gpu/gpu_device.cc:1277] 0:   N \n",
            "2021-07-01 15:43:58.386048: I tensorflow/stream_executor/cuda/cuda_gpu_executor.cc:937] successful NUMA node read from SysFS had negative value (-1), but there must be at least one NUMA node, so returning NUMA node zero\n",
            "2021-07-01 15:43:58.386686: I tensorflow/stream_executor/cuda/cuda_gpu_executor.cc:937] successful NUMA node read from SysFS had negative value (-1), but there must be at least one NUMA node, so returning NUMA node zero\n",
            "2021-07-01 15:43:58.387306: I tensorflow/stream_executor/cuda/cuda_gpu_executor.cc:937] successful NUMA node read from SysFS had negative value (-1), but there must be at least one NUMA node, so returning NUMA node zero\n",
            "2021-07-01 15:43:58.387892: W tensorflow/core/common_runtime/gpu/gpu_bfc_allocator.cc:39] Overriding allow_growth setting because the TF_FORCE_GPU_ALLOW_GROWTH environment variable is set. Original config value was 0.\n",
            "2021-07-01 15:43:58.387943: I tensorflow/core/common_runtime/gpu/gpu_device.cc:1418] Created TensorFlow device (/job:localhost/replica:0/task:0/device:GPU:0 with 13618 MB memory) -> physical GPU (device: 0, name: Tesla T4, pci bus id: 0000:00:04.0, compute capability: 7.5)\n",
            "2021-07-01 15:43:58.832097: I tensorflow/compiler/mlir/mlir_graph_optimization_pass.cc:176] None of the MLIR Optimization Passes are enabled (registered 2)\n",
            "2021-07-01 15:43:58.835320: I tensorflow/core/platform/profile_utils/cpu_utils.cc:114] CPU Frequency: 2199995000 Hz\n",
            "Epoch 1/12\n",
            "2021-07-01 15:43:59.501903: I tensorflow/stream_executor/platform/default/dso_loader.cc:53] Successfully opened dynamic library libcudnn.so.8\n",
            "2021-07-01 15:44:01.708066: I tensorflow/stream_executor/cuda/cuda_dnn.cc:359] Loaded cuDNN version 8004\n",
            "2021-07-01 15:44:25.940346: I tensorflow/stream_executor/platform/default/dso_loader.cc:53] Successfully opened dynamic library libcublas.so.11\n",
            "2021-07-01 15:44:28.465288: I tensorflow/stream_executor/platform/default/dso_loader.cc:53] Successfully opened dynamic library libcublasLt.so.11\n",
            "375/375 [==============================] - 35s 9ms/step - loss: 0.2740 - accuracy: 0.9163 - val_loss: 0.0764 - val_accuracy: 0.9770\n",
            "Epoch 2/12\n",
            "375/375 [==============================] - 3s 8ms/step - loss: 0.0967 - accuracy: 0.9721 - val_loss: 0.0493 - val_accuracy: 0.9858\n",
            "Epoch 3/12\n",
            "375/375 [==============================] - 3s 8ms/step - loss: 0.0738 - accuracy: 0.9771 - val_loss: 0.0440 - val_accuracy: 0.9877\n",
            "Epoch 4/12\n",
            "375/375 [==============================] - 3s 8ms/step - loss: 0.0585 - accuracy: 0.9820 - val_loss: 0.0456 - val_accuracy: 0.9860\n",
            "Epoch 5/12\n",
            "375/375 [==============================] - 3s 8ms/step - loss: 0.0486 - accuracy: 0.9848 - val_loss: 0.0458 - val_accuracy: 0.9878\n",
            "Epoch 6/12\n",
            "375/375 [==============================] - 3s 8ms/step - loss: 0.0436 - accuracy: 0.9862 - val_loss: 0.0397 - val_accuracy: 0.9893\n",
            "Epoch 7/12\n",
            "375/375 [==============================] - 3s 8ms/step - loss: 0.0370 - accuracy: 0.9880 - val_loss: 0.0381 - val_accuracy: 0.9893\n",
            "Epoch 8/12\n",
            "375/375 [==============================] - 3s 8ms/step - loss: 0.0341 - accuracy: 0.9890 - val_loss: 0.0427 - val_accuracy: 0.9893\n",
            "Epoch 9/12\n",
            "375/375 [==============================] - 3s 8ms/step - loss: 0.0306 - accuracy: 0.9900 - val_loss: 0.0439 - val_accuracy: 0.9894\n",
            "Epoch 10/12\n",
            "375/375 [==============================] - 3s 8ms/step - loss: 0.0298 - accuracy: 0.9899 - val_loss: 0.0390 - val_accuracy: 0.9901\n",
            "Epoch 11/12\n",
            "375/375 [==============================] - 3s 8ms/step - loss: 0.0252 - accuracy: 0.9918 - val_loss: 0.0364 - val_accuracy: 0.9912\n",
            "Epoch 12/12\n",
            "375/375 [==============================] - 3s 8ms/step - loss: 0.0243 - accuracy: 0.9918 - val_loss: 0.0401 - val_accuracy: 0.9905\n",
            "Test loss: 0.03141957148909569\n",
            "Test accuracy: 0.991100013256073\n",
            "89.39757537841797\n"
          ],
          "name": "stdout"
        }
      ]
    },
    {
      "cell_type": "markdown",
      "metadata": {
        "id": "mcICtzYuv41B"
      },
      "source": [
        "**Q1- A Keras code is provided for running hand written recognition on both GPU and CPU. Run the code on colab and your own machine and compare the results.**"
      ]
    },
    {
      "cell_type": "markdown",
      "metadata": {
        "id": "5kNSR3tgw6bj"
      },
      "source": [
        " - It took 89 seconds using a GPU while a CPU takes xxxxxx seconds"
      ]
    },
    {
      "cell_type": "markdown",
      "metadata": {
        "id": "mIteYb4OzCD1"
      },
      "source": [
        "# **STEP2. Implement handwritten recognition in Tensorflow using CNN**"
      ]
    },
    {
      "cell_type": "code",
      "metadata": {
        "id": "AomyB80VW6Ig"
      },
      "source": [
        "from tensorflow.keras.datasets import mnist\n",
        "from tensorflow.keras.models import Sequential\n",
        "from tensorflow.keras.layers import Dense, Dropout, Flatten\n",
        "from tensorflow.keras.layers import Conv2D, MaxPooling2D\n",
        "from tensorflow.keras import backend as K\n",
        "batch_size = 128\n",
        "num_classes = 10\n",
        "epochs = 12\n",
        "# input image dimensions\n",
        "img_rows, img_cols = 28, 28\n",
        "# the data, split between train and test sets\n",
        "(x_train, y_train), (x_test, y_test) = mnist.load_data()\n"
      ],
      "execution_count": 5,
      "outputs": []
    },
    {
      "cell_type": "code",
      "metadata": {
        "id": "ONrNTuLJXeG7"
      },
      "source": [
        "if K.image_data_format() == 'channels_first':\n",
        " x_train = x_train.reshape(x_train.shape[0], 1, img_rows, img_cols)\n",
        " x_test = x_test.reshape(x_test.shape[0], 1, img_rows, img_cols)\n",
        " input_shape = (1, img_rows, img_cols)\n",
        "else:\n",
        " x_train = x_train.reshape(x_train.shape[0], img_rows, img_cols, 1)\n",
        " x_test = x_test.reshape(x_test.shape[0], img_rows, img_cols, 1)\n",
        " input_shape = (img_rows, img_cols, 1)"
      ],
      "execution_count": 6,
      "outputs": []
    },
    {
      "cell_type": "code",
      "metadata": {
        "colab": {
          "base_uri": "https://localhost:8080/"
        },
        "id": "YWSSP2y2XlI3",
        "outputId": "35071298-7156-49d8-e025-d2dc507154a5"
      },
      "source": [
        "x_train = x_train.astype('float32')\n",
        "x_test = x_test.astype('float32')\n",
        "x_train /= 255\n",
        "x_test /= 255\n",
        "print('x_train shape:', x_train.shape)\n",
        "print(x_train.shape[0], 'train samples')\n",
        "print(x_test.shape[0], 'test samples')\n",
        "# convert class vectors to binary class matrices\n",
        "y_train = tf.keras.utils.to_categorical(y_train, num_classes)\n",
        "y_test = tf.keras.utils.to_categorical(y_test, num_classes)\n"
      ],
      "execution_count": 7,
      "outputs": [
        {
          "output_type": "stream",
          "text": [
            "x_train shape: (60000, 28, 28, 1)\n",
            "60000 train samples\n",
            "10000 test samples\n"
          ],
          "name": "stdout"
        }
      ]
    },
    {
      "cell_type": "code",
      "metadata": {
        "id": "-DHxDYK8XwUC"
      },
      "source": [
        "model = Sequential()\n",
        "model.add(Conv2D(32, kernel_size=(3, 3),activation='relu',\n",
        "input_shape=input_shape))\n",
        "model.add(Conv2D(64, (3, 3), activation='relu'))\n",
        "model.add(MaxPooling2D(pool_size=(2, 2)))\n",
        "model.add(Dropout(0.25))\n",
        "model.add(Flatten())\n",
        "model.add(Dense(128, activation='relu'))\n",
        "model.add(Dropout(0.5))\n",
        "model.add(Dense(num_classes, activation='softmax'))"
      ],
      "execution_count": 8,
      "outputs": []
    },
    {
      "cell_type": "markdown",
      "metadata": {
        "id": "J9bYaPTrzzyY"
      },
      "source": [
        "**Q2- Explain the way that this model is designed. Talk about all the layers and their functionality.**"
      ]
    },
    {
      "cell_type": "markdown",
      "metadata": {
        "id": "V9azdRV6z35q"
      },
      "source": [
        "- The model is a CNN\n",
        "- It has 2 convolutional layers\n",
        "- A pooling layer with 25% dropout\n",
        "- A flat NN with one hidden layer with 50% dropout and a output layer"
      ]
    },
    {
      "cell_type": "code",
      "metadata": {
        "colab": {
          "base_uri": "https://localhost:8080/"
        },
        "id": "WTa3Dem-X6T6",
        "outputId": "1f1693da-b324-4d3b-d6eb-1ed56c19483e"
      },
      "source": [
        "model.compile(loss='categorical_crossentropy',\n",
        " optimizer='adam',\n",
        " metrics=['accuracy'])\n",
        " \n",
        "model.fit(x_train, y_train,\n",
        " batch_size=batch_size,\n",
        " epochs=epochs,\n",
        " verbose=1,\n",
        " validation_split=0.2)\n",
        " \n",
        "score = model.evaluate(x_test, y_test, verbose=0)\n",
        "print('Test loss:', score[0])\n",
        "print('Test accuracy:', score[1])\n"
      ],
      "execution_count": 9,
      "outputs": [
        {
          "output_type": "stream",
          "text": [
            "Epoch 1/12\n",
            "375/375 [==============================] - 6s 10ms/step - loss: 0.2961 - accuracy: 0.9066 - val_loss: 0.0680 - val_accuracy: 0.9808\n",
            "Epoch 2/12\n",
            "375/375 [==============================] - 3s 8ms/step - loss: 0.1015 - accuracy: 0.9698 - val_loss: 0.0514 - val_accuracy: 0.9849\n",
            "Epoch 3/12\n",
            "375/375 [==============================] - 3s 8ms/step - loss: 0.0700 - accuracy: 0.9786 - val_loss: 0.0433 - val_accuracy: 0.9874\n",
            "Epoch 4/12\n",
            "375/375 [==============================] - 3s 8ms/step - loss: 0.0577 - accuracy: 0.9828 - val_loss: 0.0433 - val_accuracy: 0.9876\n",
            "Epoch 5/12\n",
            "375/375 [==============================] - 3s 8ms/step - loss: 0.0503 - accuracy: 0.9837 - val_loss: 0.0388 - val_accuracy: 0.9893\n",
            "Epoch 6/12\n",
            "375/375 [==============================] - 3s 8ms/step - loss: 0.0432 - accuracy: 0.9863 - val_loss: 0.0440 - val_accuracy: 0.9886\n",
            "Epoch 7/12\n",
            "375/375 [==============================] - 3s 8ms/step - loss: 0.0385 - accuracy: 0.9879 - val_loss: 0.0388 - val_accuracy: 0.9899\n",
            "Epoch 8/12\n",
            "375/375 [==============================] - 3s 8ms/step - loss: 0.0328 - accuracy: 0.9887 - val_loss: 0.0384 - val_accuracy: 0.9898\n",
            "Epoch 9/12\n",
            "375/375 [==============================] - 3s 8ms/step - loss: 0.0287 - accuracy: 0.9906 - val_loss: 0.0424 - val_accuracy: 0.9892\n",
            "Epoch 10/12\n",
            "375/375 [==============================] - 3s 8ms/step - loss: 0.0279 - accuracy: 0.9908 - val_loss: 0.0368 - val_accuracy: 0.9903\n",
            "Epoch 11/12\n",
            "375/375 [==============================] - 3s 8ms/step - loss: 0.0246 - accuracy: 0.9915 - val_loss: 0.0392 - val_accuracy: 0.9891\n",
            "Epoch 12/12\n",
            "375/375 [==============================] - 3s 8ms/step - loss: 0.0228 - accuracy: 0.9923 - val_loss: 0.0420 - val_accuracy: 0.9904\n",
            "Test loss: 0.0337592177093029\n",
            "Test accuracy: 0.9904999732971191\n"
          ],
          "name": "stdout"
        }
      ]
    },
    {
      "cell_type": "markdown",
      "metadata": {
        "id": "INBDugfm0-Za"
      },
      "source": [
        "**Q3- Design the learning curve and talk about what you see.**"
      ]
    },
    {
      "cell_type": "markdown",
      "metadata": {
        "id": "KOH97yFi1DjT"
      },
      "source": [
        "# **STEP3. Text mining using CNN**"
      ]
    },
    {
      "cell_type": "markdown",
      "metadata": {
        "id": "iV3tvpU01jde"
      },
      "source": [
        "## 3.1. Pre-Processing"
      ]
    },
    {
      "cell_type": "code",
      "metadata": {
        "id": "Ga9rsLSeYNOu"
      },
      "source": [
        "import pandas as pd\n",
        "df = pd.read_csv('/content/gdrive/MyDrive/Colab Notebooks/amazon_cells_labelled.txt', names=[\n",
        "'sentence', 'label'], sep='\\t')\n"
      ],
      "execution_count": null,
      "outputs": []
    },
    {
      "cell_type": "code",
      "metadata": {
        "colab": {
          "base_uri": "https://localhost:8080/"
        },
        "id": "q0iFt4YdZ-u0",
        "outputId": "0adbcfe8-27d5-436d-a27e-0c86fc207b7c"
      },
      "source": [
        "print(df.iloc[0])\n"
      ],
      "execution_count": null,
      "outputs": [
        {
          "output_type": "stream",
          "text": [
            "sentence    So there is no way for me to plug it in here i...\n",
            "label                                                       0\n",
            "Name: 0, dtype: object\n"
          ],
          "name": "stdout"
        }
      ]
    },
    {
      "cell_type": "markdown",
      "metadata": {
        "id": "W4shgr391vNM"
      },
      "source": [
        "**Q4- Explain these graphs. If you see any issue, suggest a solution to resolve it. Make the model by creating 3 hidden layers (first one 200 nodes, second one 100 nodes and last one 50 nodes and after each step, add dropout of 0.2 and report the accuracy.**"
      ]
    },
    {
      "cell_type": "markdown",
      "metadata": {
        "id": "PkgTAwg215Ve"
      },
      "source": [
        "- ANS"
      ]
    },
    {
      "cell_type": "markdown",
      "metadata": {
        "id": "Rp3-Wh571pKc"
      },
      "source": [
        "## 3.2. Embedded word"
      ]
    },
    {
      "cell_type": "markdown",
      "metadata": {
        "id": "flt5x5p-19iT"
      },
      "source": [
        "## 3.3. Model training"
      ]
    },
    {
      "cell_type": "markdown",
      "metadata": {
        "id": "tWFiVbNF2Jfd"
      },
      "source": [
        "**Q5- How do you interpret these results?**"
      ]
    },
    {
      "cell_type": "markdown",
      "metadata": {
        "id": "F9ULamO22LAw"
      },
      "source": [
        "- ANS"
      ]
    },
    {
      "cell_type": "markdown",
      "metadata": {
        "id": "4FNJWgJ32MQD"
      },
      "source": [
        "**Q6- What is your recommendation to improve the accuracy? Implement your idea.**"
      ]
    },
    {
      "cell_type": "markdown",
      "metadata": {
        "id": "CT7eC3fD2P0T"
      },
      "source": [
        "- ANS"
      ]
    },
    {
      "cell_type": "code",
      "metadata": {
        "id": "KAiJ5tig2R5c"
      },
      "source": [
        "%shell jupyter nbconvert --to html '//content/gdrive/My Drive/Colab\n",
        "Notebooks/filename.ipynb'"
      ],
      "execution_count": null,
      "outputs": []
    }
  ]
}