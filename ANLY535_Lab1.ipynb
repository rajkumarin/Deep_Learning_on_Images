{
 "cells": [
  {
   "cell_type": "markdown",
   "metadata": {},
   "source": [
    "#  <p style='text-align: center;'> Lab1 &emsp; ANLY 535 </p>"
   ]
  },
  {
   "cell_type": "markdown",
   "metadata": {},
   "source": [
    "| || Group| 4||||\n",
    "|:-----|------|------|------|:------|------|------:|\n",
    "| Ehtesham Akhlaq Malik   |         | Kowshik Kumar Bandameedipalli   |        |  Kushboo Shah |        | Rajkumar Dhanapal |"
   ]
  },
  {
   "cell_type": "code",
   "execution_count": 1,
   "metadata": {},
   "outputs": [
    {
     "name": "stdout",
     "output_type": "stream",
     "text": [
      "tf.Tensor(b'Hello, TensorFlow!', shape=(), dtype=string)\n"
     ]
    }
   ],
   "source": [
    "import tensorflow as tf\n",
    "hello = tf.constant('Hello, TensorFlow!')\n",
    "print(hello)"
   ]
  },
  {
   "cell_type": "markdown",
   "metadata": {},
   "source": [
    "### Analyze the response and explain what tf.constant() command do. <br> <br><font color='navyblue'>=> We are assigning a text to variable 'hello' and then printing it. tf.constant creates a constant value which is different from regular python value. It is a tensorflow constant value.</font>"
   ]
  },
  {
   "cell_type": "code",
   "execution_count": 2,
   "metadata": {},
   "outputs": [],
   "source": [
    "mnist = tf.keras.datasets.mnist"
   ]
  },
  {
   "cell_type": "code",
   "execution_count": 3,
   "metadata": {},
   "outputs": [],
   "source": [
    "(X_train, y_train), (X_test, y_test) = mnist.load_data()"
   ]
  },
  {
   "cell_type": "markdown",
   "metadata": {},
   "source": [
    "### Q1 - Use same method that explain in lecture to show first 6 elements of the dataset."
   ]
  },
  {
   "cell_type": "code",
   "execution_count": 4,
   "metadata": {},
   "outputs": [
    {
     "data": {
      "image/png": "[encoded data removed]",
      "text/plain": [
       "<Figure size 432x288 with 6 Axes>"
      ]
     },
     "metadata": {
      "needs_background": "light"
     },
     "output_type": "display_data"
    }
   ],
   "source": [
    "import matplotlib.pyplot as plt\n",
    "plt.subplot(231)\n",
    "plt.imshow(X_train[0], cmap=plt.get_cmap('gray'))\n",
    "plt.subplot(232)\n",
    "plt.imshow(X_train[1], cmap=plt.get_cmap('gray'))\n",
    "plt.subplot(233)\n",
    "plt.imshow(X_train[2], cmap=plt.get_cmap('gray'))\n",
    "plt.subplot(234)\n",
    "plt.imshow(X_train[3], cmap=plt.get_cmap('gray'))\n",
    "plt.subplot(235)\n",
    "plt.imshow(X_train[4], cmap=plt.get_cmap('gray'))\n",
    "plt.subplot(236)\n",
    "plt.imshow(X_train[5], cmap=plt.get_cmap('gray'))\n",
    "# show the plot\n",
    "plt.show()"
   ]
  },
  {
   "cell_type": "markdown",
   "metadata": {},
   "source": [
    "### Q2 - Normalize the data by dividing the values by 255"
   ]
  },
  {
   "cell_type": "code",
   "execution_count": 5,
   "metadata": {},
   "outputs": [],
   "source": [
    "# normalize inputs from 0-255 to 0-1\n",
    "X_train = X_train / 255.0\n",
    "X_test = X_test / 255.0"
   ]
  },
  {
   "cell_type": "code",
   "execution_count": 6,
   "metadata": {},
   "outputs": [],
   "source": [
    "model = tf.keras.models.Sequential([ \n",
    "    tf.keras.layers.Flatten(input_shape=(28, 28)), \n",
    "    tf.keras.layers.Dense(128, activation='sigmoid', dtype='float32'), \n",
    "    tf.keras.layers.Dense(10) \n",
    "])"
   ]
  },
  {
   "cell_type": "code",
   "execution_count": 7,
   "metadata": {},
   "outputs": [
    {
     "data": {
      "text/plain": [
       "array([[ 1.153121  , -0.71141815,  0.01153202, -0.17997935, -0.74659866,\n",
       "        -1.6485264 , -0.32774794,  0.06994165, -0.00715546, -0.69534516]],\n",
       "      dtype=float32)"
      ]
     },
     "execution_count": 7,
     "metadata": {},
     "output_type": "execute_result"
    }
   ],
   "source": [
    "predictions= model(X_train[:1]).numpy() \n",
    "predictions"
   ]
  },
  {
   "cell_type": "code",
   "execution_count": 8,
   "metadata": {},
   "outputs": [
    {
     "data": {
      "text/plain": [
       "array([[0.76008046, 0.32928556, 0.50288296, 0.45512623, 0.32156292,\n",
       "        0.1613082 , 0.41878867, 0.5174783 , 0.49821115, 0.3328451 ]],\n",
       "      dtype=float32)"
      ]
     },
     "execution_count": 8,
     "metadata": {},
     "output_type": "execute_result"
    }
   ],
   "source": [
    "tf.nn.sigmoid(predictions).numpy()"
   ]
  },
  {
   "cell_type": "code",
   "execution_count": 9,
   "metadata": {},
   "outputs": [],
   "source": [
    "loss_fn = tf.keras.losses.SparseCategoricalCrossentropy(from_logits=True)"
   ]
  },
  {
   "cell_type": "code",
   "execution_count": 10,
   "metadata": {},
   "outputs": [
    {
     "data": {
      "text/plain": [
       "3.8952785"
      ]
     },
     "execution_count": 10,
     "metadata": {},
     "output_type": "execute_result"
    }
   ],
   "source": [
    "loss_fn(y_train[:1], predictions).numpy()"
   ]
  },
  {
   "cell_type": "code",
   "execution_count": 19,
   "metadata": {},
   "outputs": [
    {
     "name": "stdout",
     "output_type": "stream",
     "text": [
      "Epoch 1/5\n",
      "1875/1875 [==============================] - 1s 507us/step - loss: 0.3614 - accuracy: 0.8978\n",
      "Epoch 2/5\n",
      "1875/1875 [==============================] - 1s 499us/step - loss: 0.3484 - accuracy: 0.9008\n",
      "Epoch 3/5\n",
      "1875/1875 [==============================] - 1s 499us/step - loss: 0.3376 - accuracy: 0.9037\n",
      "Epoch 4/5\n",
      "1875/1875 [==============================] - 1s 495us/step - loss: 0.3284 - accuracy: 0.9062\n",
      "Epoch 5/5\n",
      "1875/1875 [==============================] - 1s 496us/step - loss: 0.3201 - accuracy: 0.9085\n",
      "313/313 - 0s - loss: 0.3067 - accuracy: 0.9115\n"
     ]
    }
   ],
   "source": [
    "model.compile(optimizer='SGD', \n",
    "              loss=loss_fn, \n",
    "              metrics=['accuracy']) \n",
    "model.fit(X_train, y_train, epochs=5)\n",
    "scores_1 = model.evaluate(X_test, y_test, verbose=2)"
   ]
  },
  {
   "cell_type": "markdown",
   "metadata": {},
   "source": [
    "### Q3 - Add another layer with 128 nodes, increase the epochs to 10 and report the result. How much is the accuracy?"
   ]
  },
  {
   "cell_type": "code",
   "execution_count": 21,
   "metadata": {},
   "outputs": [
    {
     "name": "stdout",
     "output_type": "stream",
     "text": [
      "Epoch 1/10\n",
      "1875/1875 [==============================] - 1s 509us/step - loss: 2.1960 - accuracy: 0.3697\n",
      "Epoch 2/10\n",
      "1875/1875 [==============================] - 1s 494us/step - loss: 1.6867 - accuracy: 0.6661\n",
      "Epoch 3/10\n",
      "1875/1875 [==============================] - 1s 495us/step - loss: 1.0205 - accuracy: 0.7667\n",
      "Epoch 4/10\n",
      "1875/1875 [==============================] - 1s 496us/step - loss: 0.7250 - accuracy: 0.8177\n",
      "Epoch 5/10\n",
      "1875/1875 [==============================] - 1s 539us/step - loss: 0.5858 - accuracy: 0.8472\n",
      "Epoch 6/10\n",
      "1875/1875 [==============================] - 1s 498us/step - loss: 0.5053 - accuracy: 0.8647\n",
      "Epoch 7/10\n",
      "1875/1875 [==============================] - 1s 517us/step - loss: 0.4530 - accuracy: 0.8771\n",
      "Epoch 8/10\n",
      "1875/1875 [==============================] - 1s 501us/step - loss: 0.4171 - accuracy: 0.8861\n",
      "Epoch 9/10\n",
      "1875/1875 [==============================] - 1s 498us/step - loss: 0.3912 - accuracy: 0.8918\n",
      "Epoch 10/10\n",
      "1875/1875 [==============================] - 1s 502us/step - loss: 0.3718 - accuracy: 0.8962\n",
      "313/313 - 0s - loss: 0.3503 - accuracy: 0.9007\n",
      "Accuracy of this model is 90.07% compared to the Baseline Accuracy of 91.15%. It improved by -1.08%\n"
     ]
    }
   ],
   "source": [
    "model = tf.keras.models.Sequential([ \n",
    "    tf.keras.layers.Flatten(input_shape=(28, 28)), \n",
    "    tf.keras.layers.Dense(128, activation='sigmoid', dtype='float32'), \n",
    "    tf.keras.layers.Dense(128, activation='sigmoid', dtype='float32'), \n",
    "    tf.keras.layers.Dense(10) \n",
    "])\n",
    "model.compile(optimizer='SGD', \n",
    "              loss=loss_fn, \n",
    "              metrics=['accuracy']) \n",
    "model.fit(X_train, y_train, epochs=10)\n",
    "#testing\n",
    "scores_2 = model.evaluate(X_test, y_test, verbose=2)\n",
    "print(\"Accuracy of this model is %.2f%% compared to the Baseline Accuracy of %.2f%%. It changed by %.2f%%\" % (scores_2[1]*100,scores_1[1]*100,scores_2[1]*100-scores_1[1]*100 ))"
   ]
  },
  {
   "cell_type": "markdown",
   "metadata": {},
   "source": [
    "### <font color='navyblue'>=> By increasing the epochs to 10 and adding a hidden layer, the accuracy has gone up from 89.19 to 89.48 </font>"
   ]
  },
  {
   "cell_type": "code",
   "execution_count": 13,
   "metadata": {},
   "outputs": [
    {
     "name": "stdout",
     "output_type": "stream",
     "text": [
      "Epoch 1/10\n",
      "1500/1500 [==============================] - 1s 696us/step - loss: 0.3648 - accuracy: 0.8980 - val_loss: 0.3346 - val_accuracy: 0.9038\n",
      "Epoch 2/10\n",
      "1500/1500 [==============================] - 1s 621us/step - loss: 0.3540 - accuracy: 0.9003 - val_loss: 0.3265 - val_accuracy: 0.9055\n",
      "Epoch 3/10\n",
      "1500/1500 [==============================] - 1s 612us/step - loss: 0.3448 - accuracy: 0.9021 - val_loss: 0.3188 - val_accuracy: 0.9084\n",
      "Epoch 4/10\n",
      "1500/1500 [==============================] - 1s 621us/step - loss: 0.3367 - accuracy: 0.9044 - val_loss: 0.3119 - val_accuracy: 0.9109\n",
      "Epoch 5/10\n",
      "1500/1500 [==============================] - 1s 613us/step - loss: 0.3295 - accuracy: 0.9058 - val_loss: 0.3060 - val_accuracy: 0.9122\n",
      "Epoch 6/10\n",
      "1500/1500 [==============================] - 1s 613us/step - loss: 0.3229 - accuracy: 0.9078 - val_loss: 0.3013 - val_accuracy: 0.9147\n",
      "Epoch 7/10\n",
      "1500/1500 [==============================] - 1s 619us/step - loss: 0.3168 - accuracy: 0.9095 - val_loss: 0.2951 - val_accuracy: 0.9159\n",
      "Epoch 8/10\n",
      "1500/1500 [==============================] - 1s 620us/step - loss: 0.3113 - accuracy: 0.9109 - val_loss: 0.2911 - val_accuracy: 0.9165\n",
      "Epoch 9/10\n",
      "1500/1500 [==============================] - 1s 630us/step - loss: 0.3061 - accuracy: 0.9119 - val_loss: 0.2860 - val_accuracy: 0.9175\n",
      "Epoch 10/10\n",
      "1500/1500 [==============================] - 1s 674us/step - loss: 0.3010 - accuracy: 0.9140 - val_loss: 0.2822 - val_accuracy: 0.9187\n"
     ]
    }
   ],
   "source": [
    "# adding validation set for training\n",
    "hist = model.fit(X_train, y_train, validation_split=0.2, epochs=10)"
   ]
  },
  {
   "cell_type": "code",
   "execution_count": 14,
   "metadata": {},
   "outputs": [
    {
     "data": {
      "image/png": "[encoded data removed]",
      "text/plain": [
       "<Figure size 432x288 with 2 Axes>"
      ]
     },
     "metadata": {
      "needs_background": "light"
     },
     "output_type": "display_data"
    }
   ],
   "source": [
    "# plotting learning curve\n",
    "plt.subplot(2,1,1) \n",
    "plt.plot(hist.history['accuracy']) \n",
    "plt.plot(hist.history['val_accuracy']) \n",
    "plt.title('model accuracy') \n",
    "plt.ylabel('accuracy') \n",
    "plt.xlabel('epoch') \n",
    "plt.legend(['train', 'test'], loc='lower right') \n",
    "\n",
    "plt.subplot(2,1,2) \n",
    "plt.plot(hist.history['loss']) \n",
    "plt.plot(hist.history['val_loss']) \n",
    "plt.title('model loss') \n",
    "plt.ylabel('loss') \n",
    "plt.xlabel('epoch') \n",
    "plt.legend(['train', 'test'], loc='upper right') \n",
    "plt.show()"
   ]
  },
  {
   "cell_type": "markdown",
   "metadata": {},
   "source": [
    "### <font color='navyblue'>=> The accuracy of the model testing is greater than that of the model training at each epoch, which is contrary to the expected result. Thereby it shows the training model is overfit </font>"
   ]
  },
  {
   "cell_type": "code",
   "execution_count": 22,
   "metadata": {},
   "outputs": [
    {
     "name": "stdout",
     "output_type": "stream",
     "text": [
      "Epoch 1/10\n",
      "1500/1500 [==============================] - 1s 672us/step - loss: 2.2826 - accuracy: 0.1490 - val_loss: 2.1424 - val_accuracy: 0.5171\n",
      "Epoch 2/10\n",
      "1500/1500 [==============================] - 1s 622us/step - loss: 2.0270 - accuracy: 0.3432 - val_loss: 1.7387 - val_accuracy: 0.6720\n",
      "Epoch 3/10\n",
      "1500/1500 [==============================] - 1s 608us/step - loss: 1.5181 - accuracy: 0.5551 - val_loss: 1.1680 - val_accuracy: 0.7450\n",
      "Epoch 4/10\n",
      "1500/1500 [==============================] - 1s 616us/step - loss: 1.0929 - accuracy: 0.6713 - val_loss: 0.8599 - val_accuracy: 0.7868\n",
      "Epoch 5/10\n",
      "1500/1500 [==============================] - 1s 644us/step - loss: 0.8692 - accuracy: 0.7364 - val_loss: 0.6955 - val_accuracy: 0.8288\n",
      "Epoch 6/10\n",
      "1500/1500 [==============================] - 1s 630us/step - loss: 0.7379 - accuracy: 0.7773 - val_loss: 0.5953 - val_accuracy: 0.8457\n",
      "Epoch 7/10\n",
      "1500/1500 [==============================] - 1s 621us/step - loss: 0.6548 - accuracy: 0.8017 - val_loss: 0.5308 - val_accuracy: 0.8583\n",
      "Epoch 8/10\n",
      "1500/1500 [==============================] - 1s 656us/step - loss: 0.5958 - accuracy: 0.8220 - val_loss: 0.4844 - val_accuracy: 0.8703\n",
      "Epoch 9/10\n",
      "1500/1500 [==============================] - 1s 623us/step - loss: 0.5524 - accuracy: 0.8345 - val_loss: 0.4522 - val_accuracy: 0.8742\n",
      "Epoch 10/10\n",
      "1500/1500 [==============================] - 1s 606us/step - loss: 0.5193 - accuracy: 0.8458 - val_loss: 0.4258 - val_accuracy: 0.8823\n"
     ]
    },
    {
     "data": {
      "image/png": "[encoded data removed]",
      "text/plain": [
       "<Figure size 432x288 with 2 Axes>"
      ]
     },
     "metadata": {
      "needs_background": "light"
     },
     "output_type": "display_data"
    },
    {
     "name": "stdout",
     "output_type": "stream",
     "text": [
      "313/313 - 0s - loss: 0.4291 - accuracy: 0.8803\n"
     ]
    }
   ],
   "source": [
    "# use dropout to overcome the overfitting\n",
    "# building the model\n",
    "model = tf.keras.models.Sequential([ \n",
    "    tf.keras.layers.Flatten(input_shape=(28, 28)), \n",
    "    tf.keras.layers.Dense(128, activation='sigmoid'), \n",
    "    tf.keras.layers.Dense(128, activation='sigmoid'), \n",
    "    tf.keras.layers.Dropout(0.2), \n",
    "    tf.keras.layers.Dense(10)])\n",
    "\n",
    "# training the model\n",
    "model.compile(optimizer='SGD', \n",
    "              loss=loss_fn, \n",
    "              metrics=['accuracy']) \n",
    "hist = model.fit(X_train, y_train, validation_split=0.2, epochs=10)\n",
    "\n",
    "# plotting learning curve\n",
    "plt.subplot(2,1,1) \n",
    "plt.plot(hist.history['accuracy']) \n",
    "plt.plot(hist.history['val_accuracy']) \n",
    "plt.title('model accuracy') \n",
    "plt.ylabel('accuracy') \n",
    "plt.xlabel('epoch') \n",
    "plt.legend(['train', 'test'], loc='lower right') \n",
    "\n",
    "plt.subplot(2,1,2) \n",
    "plt.plot(hist.history['loss']) \n",
    "plt.plot(hist.history['val_loss']) \n",
    "plt.title('model loss') \n",
    "plt.ylabel('loss') \n",
    "plt.xlabel('epoch') \n",
    "plt.legend(['train', 'test'], loc='upper right') \n",
    "plt.show()\n",
    "\n",
    "#testing the model\n",
    "scores_3 = model.evaluate(X_test, y_test, verbose=2)"
   ]
  },
  {
   "cell_type": "markdown",
   "metadata": {},
   "source": [
    "### <font color='navyblue'>=> Using dropout, </font>"
   ]
  },
  {
   "cell_type": "markdown",
   "metadata": {},
   "source": [
    "### Q4- Now train the model again with adding stochastic gradient descent with batch size of 200. "
   ]
  },
  {
   "cell_type": "code",
   "execution_count": 23,
   "metadata": {},
   "outputs": [
    {
     "name": "stdout",
     "output_type": "stream",
     "text": [
      "Epoch 1/10\n",
      "240/240 [==============================] - 0s 1ms/step - loss: 2.3530 - accuracy: 0.1068 - val_loss: 2.2823 - val_accuracy: 0.1080\n",
      "Epoch 2/10\n",
      "240/240 [==============================] - 0s 1ms/step - loss: 2.3194 - accuracy: 0.1190 - val_loss: 2.2616 - val_accuracy: 0.2109\n",
      "Epoch 3/10\n",
      "240/240 [==============================] - 0s 1ms/step - loss: 2.2957 - accuracy: 0.1373 - val_loss: 2.2394 - val_accuracy: 0.3121\n",
      "Epoch 4/10\n",
      "240/240 [==============================] - 0s 1ms/step - loss: 2.2704 - accuracy: 0.1546 - val_loss: 2.2154 - val_accuracy: 0.4278\n",
      "Epoch 5/10\n",
      "240/240 [==============================] - 0s 1ms/step - loss: 2.2433 - accuracy: 0.1810 - val_loss: 2.1880 - val_accuracy: 0.4335\n",
      "Epoch 6/10\n",
      "240/240 [==============================] - 0s 1ms/step - loss: 2.2147 - accuracy: 0.2074 - val_loss: 2.1556 - val_accuracy: 0.4710\n",
      "Epoch 7/10\n",
      "240/240 [==============================] - 0s 1ms/step - loss: 2.1793 - accuracy: 0.2405 - val_loss: 2.1175 - val_accuracy: 0.5388\n",
      "Epoch 8/10\n",
      "240/240 [==============================] - 0s 1ms/step - loss: 2.1389 - accuracy: 0.2736 - val_loss: 2.0725 - val_accuracy: 0.5178\n",
      "Epoch 9/10\n",
      "240/240 [==============================] - 0s 1ms/step - loss: 2.0906 - accuracy: 0.3109 - val_loss: 2.0182 - val_accuracy: 0.5549\n",
      "Epoch 10/10\n",
      "240/240 [==============================] - 0s 1ms/step - loss: 2.0308 - accuracy: 0.3532 - val_loss: 1.9534 - val_accuracy: 0.5726\n"
     ]
    },
    {
     "data": {
      "image/png": "[encoded data removed]",
      "text/plain": [
       "<Figure size 432x288 with 2 Axes>"
      ]
     },
     "metadata": {
      "needs_background": "light"
     },
     "output_type": "display_data"
    },
    {
     "name": "stdout",
     "output_type": "stream",
     "text": [
      "313/313 - 0s - loss: 1.9506 - accuracy: 0.5647\n"
     ]
    }
   ],
   "source": [
    "# using mini batches in training\n",
    "# building the model\n",
    "model = tf.keras.models.Sequential([ \n",
    "    tf.keras.layers.Flatten(input_shape=(28, 28)), \n",
    "    tf.keras.layers.Dense(128, activation='sigmoid'), \n",
    "    tf.keras.layers.Dense(128, activation='sigmoid'), \n",
    "    tf.keras.layers.Dropout(0.2), \n",
    "    tf.keras.layers.Dense(10)])\n",
    "\n",
    "# training the model\n",
    "model.compile(optimizer='SGD', \n",
    "              loss=loss_fn, \n",
    "              metrics=['accuracy']) \n",
    "hist = model.fit(X_train, y_train, validation_split=0.2, epochs=10, batch_size=200)\n",
    "\n",
    "# plotting learning curve\n",
    "plt.subplot(2,1,1) \n",
    "plt.plot(hist.history['accuracy']) \n",
    "plt.plot(hist.history['val_accuracy']) \n",
    "plt.title('model accuracy') \n",
    "plt.ylabel('accuracy') \n",
    "plt.xlabel('epoch') \n",
    "plt.legend(['train', 'test'], loc='lower right') \n",
    "\n",
    "plt.subplot(2,1,2) \n",
    "plt.plot(hist.history['loss']) \n",
    "plt.plot(hist.history['val_loss']) \n",
    "plt.title('model loss') \n",
    "plt.ylabel('loss') \n",
    "plt.xlabel('epoch') \n",
    "plt.legend(['train', 'test'], loc='upper right') \n",
    "plt.show()\n",
    "\n",
    "#testing the model\n",
    "scores_4 = model.evaluate(X_test, y_test, verbose=2)"
   ]
  },
  {
   "cell_type": "markdown",
   "metadata": {},
   "source": [
    "### What do you expect to be changed? Speed or accuracy? <br> <br><font color='navyblue'>=>  </font>"
   ]
  },
  {
   "cell_type": "markdown",
   "metadata": {},
   "source": [
    "# Structured Data"
   ]
  },
  {
   "cell_type": "code",
   "execution_count": 24,
   "metadata": {},
   "outputs": [
    {
     "data": {
      "text/html": [
       "<div>\n",
       "<style scoped>\n",
       "    .dataframe tbody tr th:only-of-type {\n",
       "        vertical-align: middle;\n",
       "    }\n",
       "\n",
       "    .dataframe tbody tr th {\n",
       "        vertical-align: top;\n",
       "    }\n",
       "\n",
       "    .dataframe thead th {\n",
       "        text-align: right;\n",
       "    }\n",
       "</style>\n",
       "<table border=\"1\" class=\"dataframe\">\n",
       "  <thead>\n",
       "    <tr style=\"text-align: right;\">\n",
       "      <th></th>\n",
       "      <th>ID</th>\n",
       "      <th>preg_no</th>\n",
       "      <th>plasma</th>\n",
       "      <th>diastolic</th>\n",
       "      <th>triceps</th>\n",
       "      <th>serum</th>\n",
       "      <th>mass</th>\n",
       "      <th>pedigree</th>\n",
       "      <th>age</th>\n",
       "      <th>diabete</th>\n",
       "    </tr>\n",
       "  </thead>\n",
       "  <tbody>\n",
       "    <tr>\n",
       "      <th>0</th>\n",
       "      <td>1</td>\n",
       "      <td>6</td>\n",
       "      <td>148</td>\n",
       "      <td>72</td>\n",
       "      <td>35</td>\n",
       "      <td>0</td>\n",
       "      <td>33.6</td>\n",
       "      <td>0.627</td>\n",
       "      <td>50</td>\n",
       "      <td>1</td>\n",
       "    </tr>\n",
       "    <tr>\n",
       "      <th>1</th>\n",
       "      <td>2</td>\n",
       "      <td>1</td>\n",
       "      <td>85</td>\n",
       "      <td>66</td>\n",
       "      <td>29</td>\n",
       "      <td>0</td>\n",
       "      <td>26.6</td>\n",
       "      <td>0.351</td>\n",
       "      <td>31</td>\n",
       "      <td>0</td>\n",
       "    </tr>\n",
       "    <tr>\n",
       "      <th>2</th>\n",
       "      <td>3</td>\n",
       "      <td>8</td>\n",
       "      <td>183</td>\n",
       "      <td>64</td>\n",
       "      <td>0</td>\n",
       "      <td>0</td>\n",
       "      <td>23.3</td>\n",
       "      <td>0.672</td>\n",
       "      <td>32</td>\n",
       "      <td>1</td>\n",
       "    </tr>\n",
       "    <tr>\n",
       "      <th>3</th>\n",
       "      <td>4</td>\n",
       "      <td>1</td>\n",
       "      <td>89</td>\n",
       "      <td>66</td>\n",
       "      <td>23</td>\n",
       "      <td>94</td>\n",
       "      <td>28.1</td>\n",
       "      <td>0.167</td>\n",
       "      <td>21</td>\n",
       "      <td>0</td>\n",
       "    </tr>\n",
       "    <tr>\n",
       "      <th>4</th>\n",
       "      <td>5</td>\n",
       "      <td>0</td>\n",
       "      <td>137</td>\n",
       "      <td>40</td>\n",
       "      <td>35</td>\n",
       "      <td>168</td>\n",
       "      <td>43.1</td>\n",
       "      <td>2.288</td>\n",
       "      <td>33</td>\n",
       "      <td>1</td>\n",
       "    </tr>\n",
       "  </tbody>\n",
       "</table>\n",
       "</div>"
      ],
      "text/plain": [
       "   ID  preg_no  plasma  diastolic  triceps  serum  mass  pedigree  age  \\\n",
       "0   1        6     148         72       35      0  33.6     0.627   50   \n",
       "1   2        1      85         66       29      0  26.6     0.351   31   \n",
       "2   3        8     183         64        0      0  23.3     0.672   32   \n",
       "3   4        1      89         66       23     94  28.1     0.167   21   \n",
       "4   5        0     137         40       35    168  43.1     2.288   33   \n",
       "\n",
       "   diabete  \n",
       "0        1  \n",
       "1        0  \n",
       "2        1  \n",
       "3        0  \n",
       "4        1  "
      ]
     },
     "execution_count": 24,
     "metadata": {},
     "output_type": "execute_result"
    }
   ],
   "source": [
    "import pandas as pd\n",
    "file='pima-indians-diabetes.csv'\n",
    "dataframe =pd.read_csv(file)\n",
    "dataframe.head()"
   ]
  },
  {
   "cell_type": "code",
   "execution_count": 25,
   "metadata": {},
   "outputs": [
    {
     "data": {
      "text/html": [
       "<div>\n",
       "<style scoped>\n",
       "    .dataframe tbody tr th:only-of-type {\n",
       "        vertical-align: middle;\n",
       "    }\n",
       "\n",
       "    .dataframe tbody tr th {\n",
       "        vertical-align: top;\n",
       "    }\n",
       "\n",
       "    .dataframe thead th {\n",
       "        text-align: right;\n",
       "    }\n",
       "</style>\n",
       "<table border=\"1\" class=\"dataframe\">\n",
       "  <thead>\n",
       "    <tr style=\"text-align: right;\">\n",
       "      <th></th>\n",
       "      <th>ID</th>\n",
       "      <th>preg_no</th>\n",
       "      <th>plasma</th>\n",
       "      <th>diastolic</th>\n",
       "      <th>triceps</th>\n",
       "      <th>serum</th>\n",
       "      <th>mass</th>\n",
       "      <th>pedigree</th>\n",
       "      <th>age</th>\n",
       "      <th>diabete</th>\n",
       "    </tr>\n",
       "  </thead>\n",
       "  <tbody>\n",
       "    <tr>\n",
       "      <th>count</th>\n",
       "      <td>768.000000</td>\n",
       "      <td>768.000000</td>\n",
       "      <td>768.000000</td>\n",
       "      <td>768.000000</td>\n",
       "      <td>768.000000</td>\n",
       "      <td>768.000000</td>\n",
       "      <td>768.000000</td>\n",
       "      <td>768.000000</td>\n",
       "      <td>768.000000</td>\n",
       "      <td>768.000000</td>\n",
       "    </tr>\n",
       "    <tr>\n",
       "      <th>mean</th>\n",
       "      <td>384.500000</td>\n",
       "      <td>3.845052</td>\n",
       "      <td>120.894531</td>\n",
       "      <td>69.105469</td>\n",
       "      <td>20.536458</td>\n",
       "      <td>79.799479</td>\n",
       "      <td>31.992578</td>\n",
       "      <td>0.471876</td>\n",
       "      <td>33.240885</td>\n",
       "      <td>0.348958</td>\n",
       "    </tr>\n",
       "    <tr>\n",
       "      <th>std</th>\n",
       "      <td>221.846794</td>\n",
       "      <td>3.369578</td>\n",
       "      <td>31.972618</td>\n",
       "      <td>19.355807</td>\n",
       "      <td>15.952218</td>\n",
       "      <td>115.244002</td>\n",
       "      <td>7.884160</td>\n",
       "      <td>0.331329</td>\n",
       "      <td>11.760232</td>\n",
       "      <td>0.476951</td>\n",
       "    </tr>\n",
       "    <tr>\n",
       "      <th>min</th>\n",
       "      <td>1.000000</td>\n",
       "      <td>0.000000</td>\n",
       "      <td>0.000000</td>\n",
       "      <td>0.000000</td>\n",
       "      <td>0.000000</td>\n",
       "      <td>0.000000</td>\n",
       "      <td>0.000000</td>\n",
       "      <td>0.078000</td>\n",
       "      <td>21.000000</td>\n",
       "      <td>0.000000</td>\n",
       "    </tr>\n",
       "    <tr>\n",
       "      <th>25%</th>\n",
       "      <td>192.750000</td>\n",
       "      <td>1.000000</td>\n",
       "      <td>99.000000</td>\n",
       "      <td>62.000000</td>\n",
       "      <td>0.000000</td>\n",
       "      <td>0.000000</td>\n",
       "      <td>27.300000</td>\n",
       "      <td>0.243750</td>\n",
       "      <td>24.000000</td>\n",
       "      <td>0.000000</td>\n",
       "    </tr>\n",
       "    <tr>\n",
       "      <th>50%</th>\n",
       "      <td>384.500000</td>\n",
       "      <td>3.000000</td>\n",
       "      <td>117.000000</td>\n",
       "      <td>72.000000</td>\n",
       "      <td>23.000000</td>\n",
       "      <td>30.500000</td>\n",
       "      <td>32.000000</td>\n",
       "      <td>0.372500</td>\n",
       "      <td>29.000000</td>\n",
       "      <td>0.000000</td>\n",
       "    </tr>\n",
       "    <tr>\n",
       "      <th>75%</th>\n",
       "      <td>576.250000</td>\n",
       "      <td>6.000000</td>\n",
       "      <td>140.250000</td>\n",
       "      <td>80.000000</td>\n",
       "      <td>32.000000</td>\n",
       "      <td>127.250000</td>\n",
       "      <td>36.600000</td>\n",
       "      <td>0.626250</td>\n",
       "      <td>41.000000</td>\n",
       "      <td>1.000000</td>\n",
       "    </tr>\n",
       "    <tr>\n",
       "      <th>max</th>\n",
       "      <td>768.000000</td>\n",
       "      <td>17.000000</td>\n",
       "      <td>199.000000</td>\n",
       "      <td>122.000000</td>\n",
       "      <td>99.000000</td>\n",
       "      <td>846.000000</td>\n",
       "      <td>67.100000</td>\n",
       "      <td>2.420000</td>\n",
       "      <td>81.000000</td>\n",
       "      <td>1.000000</td>\n",
       "    </tr>\n",
       "  </tbody>\n",
       "</table>\n",
       "</div>"
      ],
      "text/plain": [
       "               ID     preg_no      plasma   diastolic     triceps       serum  \\\n",
       "count  768.000000  768.000000  768.000000  768.000000  768.000000  768.000000   \n",
       "mean   384.500000    3.845052  120.894531   69.105469   20.536458   79.799479   \n",
       "std    221.846794    3.369578   31.972618   19.355807   15.952218  115.244002   \n",
       "min      1.000000    0.000000    0.000000    0.000000    0.000000    0.000000   \n",
       "25%    192.750000    1.000000   99.000000   62.000000    0.000000    0.000000   \n",
       "50%    384.500000    3.000000  117.000000   72.000000   23.000000   30.500000   \n",
       "75%    576.250000    6.000000  140.250000   80.000000   32.000000  127.250000   \n",
       "max    768.000000   17.000000  199.000000  122.000000   99.000000  846.000000   \n",
       "\n",
       "             mass    pedigree         age     diabete  \n",
       "count  768.000000  768.000000  768.000000  768.000000  \n",
       "mean    31.992578    0.471876   33.240885    0.348958  \n",
       "std      7.884160    0.331329   11.760232    0.476951  \n",
       "min      0.000000    0.078000   21.000000    0.000000  \n",
       "25%     27.300000    0.243750   24.000000    0.000000  \n",
       "50%     32.000000    0.372500   29.000000    0.000000  \n",
       "75%     36.600000    0.626250   41.000000    1.000000  \n",
       "max     67.100000    2.420000   81.000000    1.000000  "
      ]
     },
     "execution_count": 25,
     "metadata": {},
     "output_type": "execute_result"
    }
   ],
   "source": [
    "dataframe.describe()"
   ]
  },
  {
   "cell_type": "code",
   "execution_count": 26,
   "metadata": {},
   "outputs": [],
   "source": [
    "y =dataframe['diabete']\n",
    "X =dataframe.drop(['ID','diabete'], axis=1)"
   ]
  },
  {
   "cell_type": "code",
   "execution_count": 27,
   "metadata": {},
   "outputs": [],
   "source": [
    "from sklearn.model_selection import train_test_split \n",
    "X_train, X_test, y_train, y_test = train_test_split(X, y, test_size=0.20, random_state=1234)"
   ]
  },
  {
   "cell_type": "markdown",
   "metadata": {},
   "source": [
    "### Q5 - Design a neural network with 2 hidden layers (hidden layer 1 with 12 nodes and hidden layer 2 with 8 nodes), report the accuracy and draw the learning curves. Apply a dropout to see if you could get any better result. Use ‘adam’ as optimizer."
   ]
  },
  {
   "cell_type": "code",
   "execution_count": 32,
   "metadata": {},
   "outputs": [
    {
     "name": "stdout",
     "output_type": "stream",
     "text": [
      "Epoch 1/10\n",
      "16/16 [==============================] - 0s 7ms/step - loss: 0.7449 - accuracy: 0.6395 - val_loss: 0.7491 - val_accuracy: 0.7073\n",
      "Epoch 2/10\n",
      "16/16 [==============================] - 0s 1ms/step - loss: 0.7241 - accuracy: 0.6395 - val_loss: 0.7255 - val_accuracy: 0.7073\n",
      "Epoch 3/10\n",
      "16/16 [==============================] - 0s 1ms/step - loss: 0.7085 - accuracy: 0.6395 - val_loss: 0.7047 - val_accuracy: 0.7073\n",
      "Epoch 4/10\n",
      "16/16 [==============================] - 0s 1ms/step - loss: 0.6952 - accuracy: 0.6395 - val_loss: 0.6896 - val_accuracy: 0.7073\n",
      "Epoch 5/10\n",
      "16/16 [==============================] - 0s 1ms/step - loss: 0.6859 - accuracy: 0.6395 - val_loss: 0.6765 - val_accuracy: 0.7073\n",
      "Epoch 6/10\n",
      "16/16 [==============================] - 0s 1ms/step - loss: 0.6781 - accuracy: 0.6395 - val_loss: 0.6655 - val_accuracy: 0.7073\n",
      "Epoch 7/10\n",
      "16/16 [==============================] - 0s 1ms/step - loss: 0.6720 - accuracy: 0.6395 - val_loss: 0.6571 - val_accuracy: 0.7073\n",
      "Epoch 8/10\n",
      "16/16 [==============================] - 0s 1ms/step - loss: 0.6675 - accuracy: 0.6395 - val_loss: 0.6500 - val_accuracy: 0.7073\n",
      "Epoch 9/10\n",
      "16/16 [==============================] - 0s 1ms/step - loss: 0.6640 - accuracy: 0.6395 - val_loss: 0.6436 - val_accuracy: 0.7073\n",
      "Epoch 10/10\n",
      "16/16 [==============================] - 0s 1ms/step - loss: 0.6610 - accuracy: 0.6395 - val_loss: 0.6389 - val_accuracy: 0.7073\n"
     ]
    },
    {
     "data": {
      "image/png": "[encoded data removed]",
      "text/plain": [
       "<Figure size 432x288 with 2 Axes>"
      ]
     },
     "metadata": {
      "needs_background": "light"
     },
     "output_type": "display_data"
    },
    {
     "name": "stdout",
     "output_type": "stream",
     "text": [
      "5/5 - 0s - loss: 0.6612 - accuracy: 0.6429\n"
     ]
    }
   ],
   "source": [
    "#building the model\n",
    "model = tf.keras.models.Sequential([  \n",
    "    tf.keras.layers.Dense(12, activation='sigmoid',dtype='float64'), \n",
    "    tf.keras.layers.Dense(8, activation='sigmoid',dtype='float64'), \n",
    "    tf.keras.layers.Dense(1,dtype='float64') \n",
    "])\n",
    "\n",
    "#training the model\n",
    "loss_fn = tf.keras.losses.BinaryCrossentropy(from_logits=True)\n",
    "model.compile(optimizer='SGD', \n",
    "              loss=loss_fn, \n",
    "              metrics=['accuracy']) \n",
    "model.fit(X_train, y_train, validation_split=0.2, epochs=10)\n",
    "\n",
    "# plotting learning curve\n",
    "plt.subplot(2,1,1) \n",
    "plt.plot(hist.history['accuracy']) \n",
    "plt.plot(hist.history['val_accuracy']) \n",
    "plt.title('model accuracy') \n",
    "plt.ylabel('accuracy') \n",
    "plt.xlabel('epoch') \n",
    "plt.legend(['train', 'test'], loc='lower right') \n",
    "\n",
    "plt.subplot(2,1,2) \n",
    "plt.plot(hist.history['loss']) \n",
    "plt.plot(hist.history['val_loss']) \n",
    "plt.title('model loss') \n",
    "plt.ylabel('loss') \n",
    "plt.xlabel('epoch') \n",
    "plt.legend(['train', 'test'], loc='upper right') \n",
    "plt.show()\n",
    "\n",
    "#testing the model\n",
    "scores = model.evaluate(X_test, y_test, verbose=2)"
   ]
  },
  {
   "cell_type": "code",
   "execution_count": 34,
   "metadata": {},
   "outputs": [
    {
     "name": "stdout",
     "output_type": "stream",
     "text": [
      "Epoch 1/10\n",
      "16/16 [==============================] - 0s 7ms/step - loss: 0.9634 - accuracy: 0.3849 - val_loss: 0.9542 - val_accuracy: 0.2927\n",
      "Epoch 2/10\n",
      "16/16 [==============================] - 0s 1ms/step - loss: 0.8591 - accuracy: 0.4562 - val_loss: 0.8765 - val_accuracy: 0.2927\n",
      "Epoch 3/10\n",
      "16/16 [==============================] - 0s 1ms/step - loss: 0.8103 - accuracy: 0.4705 - val_loss: 0.8144 - val_accuracy: 0.6829\n",
      "Epoch 4/10\n",
      "16/16 [==============================] - 0s 1ms/step - loss: 0.7810 - accuracy: 0.5418 - val_loss: 0.7678 - val_accuracy: 0.7073\n",
      "Epoch 5/10\n",
      "16/16 [==============================] - 0s 1ms/step - loss: 0.7496 - accuracy: 0.5703 - val_loss: 0.7329 - val_accuracy: 0.7073\n",
      "Epoch 6/10\n",
      "16/16 [==============================] - 0s 1ms/step - loss: 0.7452 - accuracy: 0.5723 - val_loss: 0.7050 - val_accuracy: 0.7073\n",
      "Epoch 7/10\n",
      "16/16 [==============================] - 0s 1ms/step - loss: 0.6977 - accuracy: 0.6354 - val_loss: 0.6831 - val_accuracy: 0.7073\n",
      "Epoch 8/10\n",
      "16/16 [==============================] - 0s 1ms/step - loss: 0.7008 - accuracy: 0.6232 - val_loss: 0.6713 - val_accuracy: 0.7073\n",
      "Epoch 9/10\n",
      "16/16 [==============================] - 0s 1ms/step - loss: 0.6875 - accuracy: 0.6354 - val_loss: 0.6599 - val_accuracy: 0.7073\n",
      "Epoch 10/10\n",
      "16/16 [==============================] - 0s 1ms/step - loss: 0.6949 - accuracy: 0.6314 - val_loss: 0.6519 - val_accuracy: 0.7073\n"
     ]
    },
    {
     "data": {
      "image/png": "[encoded data removed]",
      "text/plain": [
       "<Figure size 432x288 with 2 Axes>"
      ]
     },
     "metadata": {
      "needs_background": "light"
     },
     "output_type": "display_data"
    },
    {
     "name": "stdout",
     "output_type": "stream",
     "text": [
      "5/5 - 0s - loss: 0.6693 - accuracy: 0.6429\n"
     ]
    }
   ],
   "source": [
    "#using dropout\n",
    "#building the model\n",
    "model = tf.keras.models.Sequential([  \n",
    "    tf.keras.layers.Dense(12, activation='sigmoid',dtype='float64'), \n",
    "    tf.keras.layers.Dropout(0.2, dtype='float64'),\n",
    "    tf.keras.layers.Dense(8, activation='sigmoid',dtype='float64'),\n",
    "    tf.keras.layers.Dropout(0.2, dtype='float64'),\n",
    "    tf.keras.layers.Dense(1,dtype='float64') \n",
    "])\n",
    "\n",
    "#training the model\n",
    "loss_fn = tf.keras.losses.BinaryCrossentropy(from_logits=True)\n",
    "model.compile(optimizer='SGD', \n",
    "              loss=loss_fn, \n",
    "              metrics=['accuracy']) \n",
    "model.fit(X_train, y_train, validation_split=0.2, epochs=10)\n",
    "\n",
    "# plotting learning curve\n",
    "plt.subplot(2,1,1) \n",
    "plt.plot(hist.history['accuracy']) \n",
    "plt.plot(hist.history['val_accuracy']) \n",
    "plt.title('model accuracy') \n",
    "plt.ylabel('accuracy') \n",
    "plt.xlabel('epoch') \n",
    "plt.legend(['train', 'test'], loc='lower right') \n",
    "\n",
    "plt.subplot(2,1,2) \n",
    "plt.plot(hist.history['loss']) \n",
    "plt.plot(hist.history['val_loss']) \n",
    "plt.title('model loss') \n",
    "plt.ylabel('loss') \n",
    "plt.xlabel('epoch') \n",
    "plt.legend(['train', 'test'], loc='upper right') \n",
    "plt.show()\n",
    "\n",
    "#testing the model\n",
    "scores = model.evaluate(X_test, y_test, verbose=2)"
   ]
  },
  {
   "cell_type": "code",
   "execution_count": 35,
   "metadata": {},
   "outputs": [
    {
     "name": "stdout",
     "output_type": "stream",
     "text": [
      "Epoch 1/10\n",
      "16/16 [==============================] - 0s 7ms/step - loss: 0.7392 - accuracy: 0.5825 - val_loss: 0.7082 - val_accuracy: 0.7073\n",
      "Epoch 2/10\n",
      "16/16 [==============================] - 0s 1ms/step - loss: 0.7018 - accuracy: 0.6273 - val_loss: 0.6747 - val_accuracy: 0.7073\n",
      "Epoch 3/10\n",
      "16/16 [==============================] - 0s 1ms/step - loss: 0.6826 - accuracy: 0.6314 - val_loss: 0.6544 - val_accuracy: 0.7073\n",
      "Epoch 4/10\n",
      "16/16 [==============================] - 0s 1ms/step - loss: 0.6854 - accuracy: 0.6334 - val_loss: 0.6392 - val_accuracy: 0.7073\n",
      "Epoch 5/10\n",
      "16/16 [==============================] - 0s 1ms/step - loss: 0.6797 - accuracy: 0.6415 - val_loss: 0.6306 - val_accuracy: 0.7073\n",
      "Epoch 6/10\n",
      "16/16 [==============================] - 0s 1ms/step - loss: 0.6831 - accuracy: 0.6354 - val_loss: 0.6245 - val_accuracy: 0.7073\n",
      "Epoch 7/10\n",
      "16/16 [==============================] - 0s 1ms/step - loss: 0.6627 - accuracy: 0.6395 - val_loss: 0.6208 - val_accuracy: 0.7073\n",
      "Epoch 8/10\n",
      "16/16 [==============================] - 0s 1ms/step - loss: 0.6651 - accuracy: 0.6354 - val_loss: 0.6197 - val_accuracy: 0.7073\n",
      "Epoch 9/10\n",
      "16/16 [==============================] - 0s 1ms/step - loss: 0.6744 - accuracy: 0.6415 - val_loss: 0.6173 - val_accuracy: 0.7073\n",
      "Epoch 10/10\n",
      "16/16 [==============================] - 0s 1ms/step - loss: 0.6774 - accuracy: 0.6415 - val_loss: 0.6166 - val_accuracy: 0.7073\n"
     ]
    },
    {
     "data": {
      "image/png": "[encoded data removed]",
      "text/plain": [
       "<Figure size 432x288 with 2 Axes>"
      ]
     },
     "metadata": {
      "needs_background": "light"
     },
     "output_type": "display_data"
    },
    {
     "name": "stdout",
     "output_type": "stream",
     "text": [
      "5/5 - 0s - loss: 0.6488 - accuracy: 0.6429\n"
     ]
    }
   ],
   "source": [
    "#using adam optimizer\n",
    "#building the model\n",
    "model = tf.keras.models.Sequential([  \n",
    "    tf.keras.layers.Dense(12, activation='sigmoid',dtype='float64'), \n",
    "    tf.keras.layers.Dropout(0.2, dtype='float64'),\n",
    "    tf.keras.layers.Dense(8, activation='sigmoid',dtype='float64'),\n",
    "    tf.keras.layers.Dropout(0.2, dtype='float64'),\n",
    "    tf.keras.layers.Dense(1,dtype='float64') \n",
    "])\n",
    "\n",
    "#training the model\n",
    "loss_fn = tf.keras.losses.BinaryCrossentropy(from_logits=True)\n",
    "model.compile(optimizer='adam', \n",
    "              loss=loss_fn, \n",
    "              metrics=['accuracy']) \n",
    "model.fit(X_train, y_train, validation_split=0.2, epochs=10)\n",
    "\n",
    "# plotting learning curve\n",
    "plt.subplot(2,1,1) \n",
    "plt.plot(hist.history['accuracy']) \n",
    "plt.plot(hist.history['val_accuracy']) \n",
    "plt.title('model accuracy') \n",
    "plt.ylabel('accuracy') \n",
    "plt.xlabel('epoch') \n",
    "plt.legend(['train', 'test'], loc='lower right') \n",
    "\n",
    "plt.subplot(2,1,2) \n",
    "plt.plot(hist.history['loss']) \n",
    "plt.plot(hist.history['val_loss']) \n",
    "plt.title('model loss') \n",
    "plt.ylabel('loss') \n",
    "plt.xlabel('epoch') \n",
    "plt.legend(['train', 'test'], loc='upper right') \n",
    "plt.show()\n",
    "\n",
    "#testing the model\n",
    "scores = model.evaluate(X_test, y_test, verbose=2)"
   ]
  },
  {
   "cell_type": "markdown",
   "metadata": {},
   "source": [
    "### <font color='navyblue'>=> Using dropout and adam optimizer, </font>"
   ]
  }
 ],
 "metadata": {
  "kernelspec": {
   "display_name": "Python 3",
   "language": "python",
   "name": "python3"
  },
  "language_info": {
   "codemirror_mode": {
    "name": "ipython",
    "version": 3
   },
   "file_extension": ".py",
   "mimetype": "text/x-python",
   "name": "python",
   "nbconvert_exporter": "python",
   "pygments_lexer": "ipython3",
   "version": "3.8.5"
  }
 },
 "nbformat": 4,
 "nbformat_minor": 4
}
